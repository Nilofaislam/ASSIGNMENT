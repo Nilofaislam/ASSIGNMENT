{
  "nbformat": 4,
  "nbformat_minor": 0,
  "metadata": {
    "colab": {
      "provenance": []
    },
    "kernelspec": {
      "name": "python3",
      "display_name": "Python 3"
    },
    "language_info": {
      "name": "python"
    }
  },
  "cells": [
    {
      "cell_type": "markdown",
      "source": [
        " 1. Discuss the scenarios where multithreading is preferable to multiprocessing and scenarios where multiprocessing is a better choice.\n",
        "\n",
        "\n",
        "Answer:The scenarios where multithreading is preferable to multiprocessing and scenarios where multiprocessing is a better choice is -\n",
        "\n",
        "Multithreading involves the concurrent execution of multiple threads within a single process. Each thread\n",
        "represents an independent flow of execution, capable of performing tasks simultaneously with other threads.\n",
        "Threads within the same process share the same data space and system resources, allowing them to\n",
        "communicate and coordinate effectively."
      ],
      "metadata": {
        "id": "CzLTqttHAGWL"
      }
    },
    {
      "cell_type": "markdown",
      "source": [
        "2. Describe what a process pool is and how it helps in managing multiple processes efficiently.\n",
        "\n",
        "\n",
        "Answer:The Pool class in Python's multiprocessing module provides a convenient means of managing a pool of worker processes.\n",
        "\n",
        "\n",
        "It comes with built-in methods that offer structured ways to distribute tasks among these processes."
      ],
      "metadata": {
        "id": "Kfi8y0kzAbik"
      }
    },
    {
      "cell_type": "markdown",
      "source": [
        "3. Explain what multiprocessing is and why it is used in Python programs.\n",
        "\n",
        "\n",
        "Answer:Multiprocessing is a programming and execution model that involves the concurrent execution of multiple processes. A process is an independent program that runs in its own memory space and has its own resources.\n",
        "\n",
        "\n",
        "It is use in python programs because  in multiprocessing, multiple processes run concurrently, each with its own set of instructions and data. These processes can communicate with each other through inter-process communication (IPC) mechanisms."
      ],
      "metadata": {
        "id": "Dj0yWA64Afnf"
      }
    },
    {
      "cell_type": "markdown",
      "source": [
        "4. Write a Python program using multithreading where one thread adds numbers to a list, and another\n",
        "thread removes numbers from the list. Implement a mechanism to avoid race conditions using\n",
        "threading.Lock.\n",
        "\n",
        "\n",
        "Answer:"
      ],
      "metadata": {
        "id": "jtgtX6FsAjr-"
      }
    },
    {
      "cell_type": "code",
      "source": [
        "import threading\n",
        "import time\n",
        "import random\n",
        "\n",
        "my_list = []\n",
        "lock = threading.Lock()\n",
        "\n",
        "def add_numbers():\n",
        "  global my_list\n",
        "  for _ in range(10):\n",
        "    lock.acquire()\n",
        "    try:\n",
        "      num = random.randint(1, 100)\n",
        "      my_list.append(num)\n",
        "      print(f\"Added {num}. List: {my_list}\")\n",
        "    finally:\n",
        "      lock.release()\n",
        "    time.sleep(0.5)\n",
        "\n",
        "\n",
        "def remove_numbers():\n",
        "  global my_list\n",
        "  for _ in range(5):\n",
        "    lock.acquire()\n",
        "    try:\n",
        "      if my_list:\n",
        "        num = my_list.pop()\n",
        "        print(f\"Removed {num}. List: {my_list}\")\n",
        "      else:\n",
        "          print(\"List is empty\")\n",
        "    finally:\n",
        "        lock.release()\n",
        "    time.sleep(0.5)\n",
        "\n",
        "thread1 = threading.Thread(target=add_numbers)\n",
        "thread2 = threading.Thread(target=remove_numbers)\n",
        "\n",
        "thread1.start()\n",
        "thread2.start()\n",
        "\n",
        "thread1.join()\n",
        "thread2.join()\n",
        "\n",
        "print(\"Final list:\", my_list)\n"
      ],
      "metadata": {
        "colab": {
          "base_uri": "https://localhost:8080/"
        },
        "id": "5adBIyKGmYvA",
        "outputId": "08811a22-2c68-44c8-8ee8-2cde74afd80c"
      },
      "execution_count": 1,
      "outputs": [
        {
          "output_type": "stream",
          "name": "stdout",
          "text": [
            "Added 80. List: [80]\n",
            "Removed 80. List: []\n",
            "Added 1. List: [1]\n",
            "Removed 1. List: []\n",
            "Added 80. List: [80]\n",
            "Removed 80. List: []\n",
            "Added 52. List: [52]\n",
            "Removed 52. List: []\n",
            "Added 62. List: [62]\n",
            "Removed 62. List: []\n",
            "Added 58. List: [58]\n",
            "Added 53. List: [58, 53]\n",
            "Added 63. List: [58, 53, 63]\n",
            "Added 18. List: [58, 53, 63, 18]\n",
            "Added 3. List: [58, 53, 63, 18, 3]\n",
            "Final list: [58, 53, 63, 18, 3]\n"
          ]
        }
      ]
    },
    {
      "cell_type": "markdown",
      "source": [
        "5. Describe the methods and tools available in Python for safely sharing data between threads and  processes.\n",
        "\n",
        "\n",
        "Answer:The methods and tools available in python for safe sharing data between threads and processes is-\n",
        "\n",
        "Improved Performance: Multithreading can lead to significant performance improvements by allowing parallel\n",
        "execution of tasks. Different threads can execute tasks simultaneously, taking advantage of multiple CPU cores\n",
        "and reducing overall processing time.\n",
        "\n",
        "\n",
        "Responsiveness: In applications with graphical user interfaces (GUIs), multithreading is crucial for maintainingresponsiveness. For example, a user interface can remain responsive while background threads handle time-\n",
        "consuming tasks, preventing the application from becoming unresponsive or freezing.\n",
        "\n",
        "Resource Utilization: Multithreading enables better utilization of system resources. By dividing a program into\n",
        "multiple threads, each thread can focus on specific tasks, making efficient use of available resources and improving overall system resource utilization.\n",
        "\n",
        "\n",
        "Concurrency: Multithreading facilitates the concurrent execution of tasks, allowing different parts of a program\n",
        "to run independently. This concurrency can lead to more efficient use of resources and improved application\n",
        "performance.\n"
      ],
      "metadata": {
        "id": "L9cYrXKhAnK4"
      }
    },
    {
      "cell_type": "markdown",
      "source": [
        "6. Discuss why it’s crucial to handle exceptions in concurrent programs and the techniques available for doing so.\n",
        "\n",
        "\n",
        "Answer: It is crucial to handel exceptions in concurrent programs and the techniques for doing so is-\n",
        "\n",
        "Exception handling in Python is a process of resolving errors that occur in a program. This involves catching exceptions, understanding what caused them, and then responding accordingly. Exceptions are errors that occur at runtime when the program is being executed."
      ],
      "metadata": {
        "id": "0ZD3vvSQAvhl"
      }
    },
    {
      "cell_type": "markdown",
      "source": [
        "7. Create a program that uses a thread pool to calculate the factorial of numbers from 1 to 10 concurrently.\n",
        "Use concurrent.futures.ThreadPoolExecutor to manage the threads"
      ],
      "metadata": {
        "id": "DkGCYFsHAzdo"
      }
    },
    {
      "cell_type": "code",
      "source": [
        "import concurrent.futures\n",
        "import threading\n",
        "import time\n",
        "\n",
        "def factorial(n):\n",
        "  if n == 0:\n",
        "    return 1\n",
        "  else:\n",
        "    return n * factorial(n-1)\n",
        "\n",
        "def main():\n",
        "  with concurrent.futures.ThreadPoolExecutor(max_workers=5) as executor:\n",
        "    futures = [executor.submit(factorial, i) for i in range(1, 11)]\n",
        "\n",
        "    for future in concurrent.futures.as_completed(futures):\n",
        "      try:\n",
        "        result = future.result()\n",
        "        print(f\"Factorial: {result}\")\n",
        "      except Exception as e:\n",
        "        print(f\"Error calculating factorial: {e}\")\n",
        "\n",
        "if __name__ == \"__main__\":\n",
        "  main()"
      ],
      "metadata": {
        "colab": {
          "base_uri": "https://localhost:8080/"
        },
        "id": "jhZXsCfEBXe_",
        "outputId": "d72f0a9c-8b50-4ff5-f1a2-5389a068ae8e"
      },
      "execution_count": null,
      "outputs": [
        {
          "output_type": "stream",
          "name": "stdout",
          "text": [
            "Factorial: 2\n",
            "Factorial: 1\n",
            "Factorial: 3628800\n",
            "Factorial: 362880\n",
            "Factorial: 6\n",
            "Factorial: 24\n",
            "Factorial: 720\n",
            "Factorial: 40320\n",
            "Factorial: 5040\n",
            "Factorial: 120\n"
          ]
        }
      ]
    },
    {
      "cell_type": "markdown",
      "source": [
        "8. Create a Python program that uses multiprocessing.Pool to compute the square of numbers from 1 to 10 in\n",
        "parallel. Measure the time taken to perform this computation using a pool of different sizes (e.g., 2, 4, 8\n",
        "processes)."
      ],
      "metadata": {
        "id": "ErYa1JmrA4D4"
      }
    },
    {
      "cell_type": "code",
      "source": [
        "import multiprocessing\n",
        "import time\n",
        "\n",
        "def square(n):\n",
        "  \"\"\"Computes the square of a number.\"\"\"\n",
        "  return n * n\n",
        "\n",
        "if __name__ == '__main__':\n",
        "  numbers = list(range(1, 11))\n",
        "  pool_sizes = [2, 4, 8]\n",
        "\n",
        "  for pool_size in pool_sizes:\n",
        "    start_time = time.time()\n",
        "    with multiprocessing.Pool(processes=pool_size) as pool:\n",
        "      results = pool.map(square, numbers)\n",
        "    end_time = time.time()\n",
        "    print(f\"Pool size: {pool_size}, Time taken: {end_time - start_time:.4f} seconds\")\n",
        "    print(f\"Results: {results}\")"
      ],
      "metadata": {
        "colab": {
          "base_uri": "https://localhost:8080/"
        },
        "id": "lIRFWuykBKLH",
        "outputId": "8c32354a-992e-4f7a-9222-513beee6a947"
      },
      "execution_count": null,
      "outputs": [
        {
          "output_type": "stream",
          "name": "stdout",
          "text": [
            "Pool size: 2, Time taken: 0.0320 seconds\n",
            "Results: [1, 4, 9, 16, 25, 36, 49, 64, 81, 100]\n",
            "Pool size: 4, Time taken: 0.0600 seconds\n",
            "Results: [1, 4, 9, 16, 25, 36, 49, 64, 81, 100]\n",
            "Pool size: 8, Time taken: 0.0851 seconds\n",
            "Results: [1, 4, 9, 16, 25, 36, 49, 64, 81, 100]\n"
          ]
        }
      ]
    }
  ]
}