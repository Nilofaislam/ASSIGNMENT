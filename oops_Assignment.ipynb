{
  "cells": [
    {
      "cell_type": "markdown",
      "metadata": {
        "id": "sbG9fE8CQQkB"
      },
      "source": [
        "1. What are the five key concepts of Object-Oriented Programming (OOP)?\n",
        "\n",
        "Answer: The 5 key concepts of object oriented programming is -\n",
        "\n",
        "1.Class\n",
        "\n",
        "2.object\n",
        "\n",
        "3.Inheritance\n",
        "\n",
        "4.Ploymorphism\n",
        "\n",
        "5.Data abstract"
      ]
    },
    {
      "cell_type": "markdown",
      "metadata": {
        "id": "QC90aEYJQZdc"
      },
      "source": [
        "2. Write a Python class for a `Car` with attributes for `make`, `model`, and `year`. Include a method to display the car's information.\n",
        "\n",
        "Answer:"
      ]
    },
    {
      "cell_type": "code",
      "source": [
        "class car:\n",
        "     def __init__(self, make, model, year):\n",
        "         self._make = make\n",
        "         self._model = model\n",
        "         self._year = year\n",
        "\n"
      ],
      "metadata": {
        "id": "eL00uMuXYnpY"
      },
      "execution_count": null,
      "outputs": []
    },
    {
      "cell_type": "code",
      "source": [
        "c1 = car(\"Tata\", \"Nano\", \"2013\")"
      ],
      "metadata": {
        "id": "oUEoPrLPZ9Pa"
      },
      "execution_count": null,
      "outputs": []
    },
    {
      "cell_type": "markdown",
      "metadata": {
        "id": "OXmkYwZ5Qd2t"
      },
      "source": [
        "3. Explain the difference between instance methods and class methods. Provide an example of each.\n",
        "\n",
        "\n",
        "Answer: The difference between intance method and class method is-\n",
        "\n",
        "Instance method: It is a properties that are joined to a class instance . In the constructor (the class's init()method), we defined instance variables.\n",
        "\n",
        "Class method: In this method declared outside a class but outside of any instance methods or init() methods is reffered to as a class variable.\n",
        "\n",
        "Example:\n",
        "\n",
        "\n",
        "\n",
        "\n",
        "\n"
      ]
    },
    {
      "cell_type": "code",
      "source": [
        "class employee_info:\n",
        "# class variables\n",
        "  company_name = 'TCS'\n",
        "\n",
        "# constructor\n",
        "  def _init(self, name, age, emp_id):\n",
        "    #instance variables\n",
        "    self.name = name\n",
        "    self.age = age\n",
        "    self.emp_id = emp_id\n",
        "\n",
        "emp1 = employee_info(\"Nilofa\",24,1012)\n",
        "#access instance variables\n",
        "print('details: \\n,\"name:\", emp1.name, age:\"emp1.age,''id:', 'emp1.emp_id')"
      ],
      "metadata": {
        "id": "l5ufZ-DBVINU"
      },
      "execution_count": null,
      "outputs": []
    },
    {
      "cell_type": "markdown",
      "metadata": {
        "id": "VssmKwBCQj_k"
      },
      "source": [
        "4. How does Python implement method overloading? Give an example.\n",
        "\n",
        "\n",
        "Answer:method overloading is the practice of invoking the same method more than once with different parameters.\n",
        "\n",
        "Method overloading is not supported by python .\n",
        "If we overload the method python only takes into account the most recent definition.\n",
        "If we overload a method in python a Type Error will be raised.\n",
        "\n",
        " Example:"
      ]
    },
    {
      "cell_type": "code",
      "source": [
        "def mul(x,y):\n",
        "  z = x * y\n",
        "  print(z)\n",
        "def mul(a,b,c):\n",
        "  Y = a*b*c\n",
        "# mul(6,7)\n",
        "mul(6,4,3)\n",
        "\n"
      ],
      "metadata": {
        "id": "MppgsMJtuMf0"
      },
      "execution_count": null,
      "outputs": []
    },
    {
      "cell_type": "markdown",
      "metadata": {
        "id": "-Uj3btSyQoB7"
      },
      "source": [
        "5. What are the three types of access modifiers in Python? How are they denoted?\n",
        "\n",
        "\n",
        "Answer: TH ethree types of access modifiers in python is -\n",
        "\n",
        "1.Public member: From outside of class , anywhere accessible\n",
        "\n",
        "2.Private Member: Within the class , accessible\n",
        "\n",
        "3.Protected member: Within the class and its subclasses , accessible."
      ]
    },
    {
      "cell_type": "markdown",
      "metadata": {
        "id": "hN1v3KiJQsGv"
      },
      "source": [
        "6. Describe the five types of inheritance in Python. Provide a simple example of multiple inheritance.\n",
        "\n",
        "Answer: The five types of inheritance in python is-\n",
        "\n",
        "1.Static method\n",
        "\n",
        "2. Multiple inheritance\n",
        "\n",
        "3. Multilevel inheritance\n",
        "\n",
        "4. Hierachical inheritance\n",
        "\n",
        "5. Hybrid Inheritance\n",
        "\n",
        "A simple example of multiple inheritance is-\n",
        "\n",
        "\n",
        "\n",
        "     Parent class          Parent class\n",
        "            |                     |\n",
        "            |                     |\n",
        "            _______________________\n",
        "                       |\n",
        "                     \n",
        "                    child class\n",
        "\n"
      ]
    },
    {
      "cell_type": "markdown",
      "metadata": {
        "id": "eRkPNURWQ19o"
      },
      "source": [
        "7. What is the Method Resolution Order (MRO) in Python? How can you retrieve it programmatically?\n",
        "\n",
        "\n",
        "Answer: The method resolution order determines the order in which the base classes are searched for a method or contribute .\n",
        "\n",
        "We can retrieve it programmatically by following a specific set of rules to ensure a consistent and unambiguous order."
      ]
    },
    {
      "cell_type": "markdown",
      "metadata": {
        "id": "IrI1e3qAQ6DL"
      },
      "source": [
        "8. Create an abstract base class `Shape` with an abstract method `area()`. Then create two subclasses\n",
        "`Circle` and `Rectangle` that implement the `area()` method.\n",
        "\n",
        "Answer:"
      ]
    },
    {
      "cell_type": "code",
      "source": [
        "code\n",
        "from abc import ABC, abstractmethod\n",
        "\n",
        "class shape(ABC):\n",
        "  def area(self):\n",
        "      @abstractmethod\n",
        "\n",
        "class Circle:\n",
        "  def _init_(self, radius):\n",
        "    self.radius = radius\n",
        "\n",
        "  def area(self):\n",
        "    return 3.14*self.__radius*self.__radius\n",
        "\n",
        "class rectangle:\n",
        "   def _init_(self, lenght, width):\n",
        "     self.length = length\n",
        "     self.width = width\n",
        "\n",
        "   def area(self):\n",
        "     return 0.5*self._length*self._width"
      ],
      "metadata": {
        "id": "FvNSnDU0RU5v"
      },
      "execution_count": null,
      "outputs": []
    },
    {
      "cell_type": "markdown",
      "metadata": {
        "id": "a_6XNS6tRImF"
      },
      "source": [
        "9. Demonstrate polymorphism by creating a function that can work with different shape objects to calculate and print their areas.\n",
        "\n",
        "Answer:\n",
        "\n"
      ]
    },
    {
      "cell_type": "code",
      "source": [
        "code\n",
        "from abc import ABC\n",
        "\n",
        "class shape(ABC):\n",
        "  def area(self):\n",
        "\n",
        "  def fact(self):\n",
        "    return \"i am 2 dimensional in shape\"\n",
        "\n",
        "  def _str_(self, radius):\n",
        "    return self.name\n",
        "\n",
        "class Circle:\n",
        "  def _init_(self, radius):\n",
        "      super()._init_radius = radius\n",
        "      self.radius = radius\n",
        "\n",
        "\n",
        "  def area(self):\n",
        "    return 3.14*self.__radius*self.__radius\n",
        "\n",
        "  def fact(self):\n",
        "    return \"radius of a circle is half of the diameter(180 degree)\""
      ],
      "metadata": {
        "id": "4L8kYIOVUG7Y"
      },
      "execution_count": null,
      "outputs": []
    },
    {
      "cell_type": "markdown",
      "metadata": {
        "id": "aRDE1GIXRMiR"
      },
      "source": [
        "10. Implement encapsulation in a `BankAccount` class with private attributes for `balance` and\n",
        "`account_number`. Include methods for deposit, withdrawal, and balance inquiry."
      ]
    },
    {
      "cell_type": "code",
      "source": [
        "class Bank:\n",
        "\n",
        "   def _init_(self, balance):\n",
        "       self._balance = balance\n",
        "   def account (self, account_number):\n",
        "       self._account_number = account_number\n",
        "   def deposit(self, amount):#\n",
        "       self._balance = self._balance + amount\n",
        "\n",
        "   def withdraw (self, amount):\n",
        "        if self._balance >= amount:\n",
        "           self._account = self._balance - amount\n",
        "           return True\n",
        "        else:\n",
        "          return False\n",
        "\n",
        "   def balance_enquiry(self):\n",
        "       return self._balance"
      ],
      "metadata": {
        "id": "5LiojS_wT4pz"
      },
      "execution_count": null,
      "outputs": []
    },
    {
      "cell_type": "markdown",
      "metadata": {
        "id": "Uq0nokLrRQzj"
      },
      "source": [
        "11. Write a class that overrides the `__str__` and `__add__` magic methods. What will these methods allow you to do?\n",
        "\n",
        "Answer:A class that overrides the '__str__ 'and '__add__' magic methods allow us  to do is -\n",
        "\n",
        "\n",
        "1. __str__(self):this method is called when the  str()functions used on an instance of class. It should return a string represent of the object.\n",
        "\n",
        "2. __add__(self, other):This method is called when the + opretor is used with instance of the class . It should return the result of addition."
      ]
    },
    {
      "cell_type": "markdown",
      "metadata": {
        "id": "Nw0Nvl6lRVkO"
      },
      "source": [
        "12. Create a decorator that measures and prints the execution time of a function.\n",
        "\n",
        "Answer:\n",
        "\n",
        "\n"
      ]
    },
    {
      "cell_type": "code",
      "source": [
        "def measure_execution_time(func):\n",
        "    def wrapper():\n",
        "        start_time = time.time()\n",
        "        result = func()\n",
        "        end_time = time.time()\n",
        "        execution_time = end_time - start_time\n",
        "        print(f\"Function {func.__name__} took {execution_time:.4f} seconds to execute\")\n",
        "        return result\n",
        "    return wrapper"
      ],
      "metadata": {
        "id": "xTZp9OGdHO3p"
      },
      "execution_count": null,
      "outputs": []
    },
    {
      "cell_type": "markdown",
      "metadata": {
        "id": "dqEAj9uQRdmC"
      },
      "source": [
        "13. Explain the concept of the Diamond Problem in multiple inheritance. How does Python resolve it?\n",
        "\n",
        "Answer: The concept of the diamond problem in multiple imheritance is a specific issue that can arise in programming languages that supports multiple inheritances.\n",
        "\n",
        "To relsoves the diamond problem ,python uses a method resolution order(MRO) algorithim called C3 linearization."
      ]
    },
    {
      "cell_type": "markdown",
      "metadata": {
        "id": "GKVSB5slRiPV"
      },
      "source": [
        "14. Write a class method that keeps track of the number of instances created from a class.\n",
        "\n",
        "Answer:A class method used to access or alter the calss state. If we exclusively use the class variables when implementing a method, we should that as a class method.\n"
      ]
    },
    {
      "cell_type": "markdown",
      "metadata": {
        "id": "4FInN_U7Rqo7"
      },
      "source": [
        "15. Implement a static method in a class that checks if a given year is a leap year.\n",
        "\n",
        "Answer:"
      ]
    },
    {
      "cell_type": "code",
      "execution_count": null,
      "metadata": {
        "id": "rjhwwTENOOo9"
      },
      "outputs": [],
      "source": [
        "def checkleap(year):\n",
        " # check the given year is leap year\n",
        " if((year % 400 == 0) or\n",
        "   (year % 100 != 0) and\n",
        "   (year % 4 == 0)):\n",
        "  print(\" Given year is a leap year\")\n",
        "# Else it is not a leap year\n",
        " else:\n",
        "  print(\"Given year is not a leap year\")\n",
        " year = int(input(\"2016\"))\n",
        "#printing result\n",
        " checkleap(year)\n",
        "\n"
      ]
    }
  ],
  "metadata": {
    "colab": {
      "provenance": []
    },
    "kernelspec": {
      "display_name": "Python 3",
      "name": "python3"
    },
    "language_info": {
      "name": "python"
    }
  },
  "nbformat": 4,
  "nbformat_minor": 0
}