{
  "nbformat": 4,
  "nbformat_minor": 0,
  "metadata": {
    "colab": {
      "provenance": []
    },
    "kernelspec": {
      "name": "python3",
      "display_name": "Python 3"
    },
    "language_info": {
      "name": "python"
    }
  },
  "cells": [
    {
      "cell_type": "markdown",
      "source": [
        "1. Explain the different types of data (qualitative and quantitative) and provide examples of each. Discuss\n",
        "nominal, ordinal, interval, and ratio scales.\n",
        "\n",
        "\n",
        "Answer: The different types of data is\n",
        "\n",
        "1. Qualitative-The data can be counted and measured\n",
        "\n",
        "Example- No.of mobile phone, No.of bathroom\n",
        "\n",
        "2. Quantitative- The data analysis can be descriptive and text.\n",
        "\n",
        "Example-color,gender ,blood group\n",
        "\n",
        "\n",
        "Nominal-No order of data\n",
        "\n",
        "Ordinal-\n",
        "\n",
        "Interval- The rank and order has a meaning\n",
        "\n",
        "Difference can be measured\n",
        "\n",
        "It does not have a starting point 0\n",
        "\n",
        "Ratio scales-The rank and order has a meaning\n",
        "\n",
        "Difference can be measured\n",
        "\n",
        "It has a startinf point 0\n"
      ],
      "metadata": {
        "id": "JaHdoxPiwIe8"
      }
    },
    {
      "cell_type": "markdown",
      "source": [
        "2. What are the measures of central tendency, and when should you use each? Discuss the mean, median, and mode with examples and situations where each is appropriate.\n",
        "\n",
        "\n",
        "\n",
        "Answer: The measures of central tendencyis\n",
        "\n",
        "A measure of central tendency is a summary statistic that represents the center point or typical value of a dataset. These measures indicate where most values in a distribution fall and are also referred to as the central location of a distribution. We  can think of it as the tendency of data to cluster around a middle value. Instatistics, the three most common measures of central tendency are the mean, median, and mode. Each measure calculates the central point's location using a different method.\n",
        "\n",
        "\n",
        "Mean-The mean is the arithmetic average; for calculating the mean add up all of the values and divide by the number of observations in your dataset.\n",
        "\n",
        "Median -The Median for the sample data arranged in increasing order is defined asT jc if “n” is an odd number then median is middle valu\n",
        "c if “n” is an even number then median is midway between the two middle values\n",
        "\n",
        "Mode-The mode is the value that occurs the most frequently in your data set i.e. has the highest frequency. On a bar\n",
        "chart, the mode is the highest bar. If the data have multiple values that are tied for occurring the most\n",
        "frequently, you have a multimodal distribution. If no value repeats, the data do not have a mode.\n",
        "\n",
        "\n",
        "Example-Given a data set of height(cm) of students in a class is:\n",
        "Height=180,167,154,142,147,154,162,154\n",
        "Here 154 is repeated 3 times so mode is here 154"
      ],
      "metadata": {
        "id": "fnpHMW3SwOqv"
      }
    },
    {
      "cell_type": "markdown",
      "source": [
        "3. Explain the concept of dispersion. How do variance and standard deviation\n",
        "measure the spread of data?\n",
        "\n",
        "\n",
        "Answer:Averages give us an idea of the concentrations of the observations about the central part of the distribution.\n",
        "But only averages won't give us an complete idea about the distribution.\n",
        "\n",
        "\n",
        "In statistics, the standard deviation is a very common measure of dispersion. Standard deviation measures\n",
        "how spread out the values in a data set are around the mean. More precisely, it is a measure of the average\n",
        "distance between the values of the data in the set and the mean. If the data values are all similar, then the\n",
        "standard deviation will be low (closer to zero). If the data values are highly variable, then the standard variation\n",
        "is high (further from zero).\n",
        "Let the population if n elements, . The mean deviation of the data is\n",
        "Where,\n",
        "= sample mean\n",
        "The standard deviation is always a positive number and is always measured in the same units as the original\n",
        "data. Squaring the deviations overcomes the drawback of ignoring signs in mean deviations i.e. distance of\n",
        "points from mean must always be positive.\n",
        "The Variance is defined as the average of the squared differences from the Mean.\n",
        "Let the population if n elements, The mean deviation of the data is\n",
        "So, Variance = Standard Deviation 22\n",
        "Standard deviation is easier to interpret than variance because it is on same scale as of the given data.\n",
        "Mathematically working with squared values are preferred over absolute values especially for statistical\n",
        "models. Hence, we prefer standard deviation over mean absolute deviation."
      ],
      "metadata": {
        "id": "9VzHzrviwTVs"
      }
    },
    {
      "cell_type": "markdown",
      "source": [
        "4. What is a box plot, and what can it tell you about the distribution of data?\n",
        "\n",
        "Answer:Box Plot is a graphical method to visualize data distribution for gaining insights and making informed decisions. Box plot is a type of chart that depicts a group of numerical data through their quartiles.\n",
        "\n",
        "\n"
      ],
      "metadata": {
        "id": "Y7kPVGY0wW1P"
      }
    },
    {
      "cell_type": "markdown",
      "source": [
        "5. Discuss the role of random sampling in making inferences about populations.\n",
        "\n",
        "Answer:Random sampling helps us to draw inferences about a population with an unknown characteristic that interests us. Simple random sampling: A sample is chosen randomly from the population. Every object in the population has an equal chance of being chosen as part of the sample."
      ],
      "metadata": {
        "id": "1IsNJ_8swa3F"
      }
    },
    {
      "cell_type": "markdown",
      "source": [
        "6. Explain the concept of skewness and its types. How does skewness affect the interpretation of data?\n",
        "\n",
        "Answer:Skewness is a key statistical measure that describes the asymmetry of a distribution. It can be positive, negative, or zero, indicating the direction and degree of skewness. Measures of skewness, such as Pearson's coefficients and the moment coefficient, help quantify this asymmetry.\n",
        "\n",
        "\n",
        "The skewness affect the interpretation of data in many was-\n",
        "\n",
        "1.Distribution\n",
        "Skewness shows the distribution's shape and symmetry, which helps explain how the data is spread out\n",
        "\n",
        "2.Outliers\n",
        "Skewness can help identify outliers in the data. A large skewness coefficient or very long tails indicate the presence of extreme values.\n",
        "\n",
        "3.Data preparation\n",
        "Skewness can help determine how to process data for analysis. It can also provide guidance on which data transformation techniques to use.\n",
        "\n",
        "4.Central tendency\n",
        "Skewness directly impacts the mean and median. It's important to determine skewness before using measures of central tendency to summarize data.\n",
        "\n",
        "5.Statistical tests\n",
        "Most parametric tests, like t-test, z-test, and Analysis of Variance (ANOVA), assume data has a normal distribution.\n",
        "\n",
        "6.Trend\n",
        "Skewness can show where a data set is trending.\n",
        "\n",
        "7.Asymmetry\n",
        "Skewness reveals the asymmetry of the data by indicating if it's leaning left or right.\n",
        "\n",
        "8.Direction of outliers\n",
        "Skewness indicates the direction of the outliers. For example, if the data is right-skewed, most outliers will be on the right side of the distribution."
      ],
      "metadata": {
        "id": "GXiaYLsVweC5"
      }
    },
    {
      "cell_type": "markdown",
      "source": [
        "7. What is the interquartile range (IQR), and how is it used to detect outliers?\n",
        "\n",
        "\n",
        "Answer:The interquartile range (IQR) is the range of values that resides in the middle of the scores. When a distribution is skewed, and the median is used instead of the mean to show a central tendency, the appropriate measure of variability is the Interquartile range.\n",
        "\n",
        "Multiply the interquartile range (IQR) by 1.5 (a constant used to discern outliers). Add 1.5 x (IQR) to the third quartile. Any number greater than this is a suspected outlier. Subtract 1.5 x (IQR) from the first quartile."
      ],
      "metadata": {
        "id": "5GV-urpCwkV-"
      }
    },
    {
      "cell_type": "markdown",
      "source": [
        "8. Discuss the conditions under which the binomial distribution is used\n",
        "\n",
        "\n",
        "Answer:The conditions under which the binomial distribution is used-\n",
        "\n",
        "1: The number of observations n is fixed.\n",
        "\n",
        "2: Each observation is independent.\n",
        "\n",
        "3: Each observation represents one of two outcomes .\n",
        "\n",
        "4: The probability of \"success\" p is the same for each outcome."
      ],
      "metadata": {
        "id": "SicjR8l7wlWB"
      }
    },
    {
      "cell_type": "markdown",
      "source": [
        "9. Explain the properties of the normal distribution and the empirical rule (68-95-99.7 rule).\n",
        "\n",
        "\n",
        "Answer:1. Symmetry: The normal distribution is perfectly symmetrical around its mean.  This means the mean, median, and mode are all equal.  The distribution is a bell-shaped curve.\n",
        "\n",
        "2. Mean, Median, and Mode: As mentioned above, in a normal distribution, the mean, median, and mode are identical.\n",
        "\n",
        "3. Empirical Rule (68-95-99.7 Rule):  This rule describes the proportion of data that falls within a certain number of standard deviations from the mean:\n",
        " Approximately 68% of the data falls within one standard deviation of the mean.\n",
        " Approximately 95% of the data falls within two standard deviations of the mean.\n",
        " Approximately 99.7% of the data falls within three standard deviations of the mean.\n",
        "\n",
        "4. Standard Deviation: The standard deviation determines the spread or width of the distribution. A larger standard deviation indicates a wider spread, while a smaller standard deviation indicates a narrower spread.\n",
        "\n",
        "5. Continuous Distribution: The normal distribution is a continuous probability distribution, meaning that the variable can take on any value within a given range.\n",
        "\n",
        "6. Asymptotic Tails: The tails of the normal distribution extend infinitely in both directions, approaching but never touching the horizontal axis.\n",
        "\n",
        "7. Location and Scale Parameters: The normal distribution is completely defined by its mean (location parameter) and standard deviation (scale parameter).  Different means shift the curve along the horizontal axis, while different standard deviations change the width of the curve.\n"
      ],
      "metadata": {
        "id": "bmPPhIRqwsMo"
      }
    },
    {
      "cell_type": "markdown",
      "source": [
        "10. Provide a real-life example of a Poisson process and calculate the probability for a specific event.\n",
        "\n",
        "\n",
        "Answer:\n",
        "\n",
        "\n",
        "\n",
        " 1.Customers arriving at a cafe\n",
        "\n",
        "\n",
        "\n",
        "\n",
        "\n",
        "\n"
      ],
      "metadata": {
        "id": "VvJXFEsywtTj"
      }
    },
    {
      "cell_type": "code",
      "source": [
        "# the probability that exactly 5 customers arrive in the next hour\n",
        "num_customers = 5\n",
        "probability = poisson_probability(average_arrival_rate, num_customers)\n",
        "print(f\"The probability of exactly {num_customers} customers arriving in the next hour is: {probability}\")"
      ],
      "metadata": {
        "colab": {
          "base_uri": "https://localhost:8080/"
        },
        "id": "i9Sd9zznyFnL",
        "outputId": "44380dd7-e3f2-423c-8b4a-381373172580"
      },
      "execution_count": 4,
      "outputs": [
        {
          "output_type": "stream",
          "name": "stdout",
          "text": [
            "The probability of exactly 5 customers arriving in the next hour is: 0.03783327480207071\n"
          ]
        }
      ]
    },
    {
      "cell_type": "markdown",
      "source": [
        "11. Explain what a random variable is and differentiate between discrete and continuous random variables.\n",
        "\n",
        "\n",
        "Answer:\n",
        "A random variable is a variable whose value is unknown or a function that assigns values to each of an experiment's outcomes. A random variable can be either discrete (having specific values) or continuous (any value in a continuous range).\n",
        "\n",
        "A discrete random variable is a type of random variable that has a countable number of distinct values, such as heads or tails, playing cards, or the sides of a die.\n",
        "\n",
        "\n",
        "A continuous random variable can reflect an infinite number of potential values, such as the average rainfall in a region."
      ],
      "metadata": {
        "id": "ASCGYAY4wxqg"
      }
    },
    {
      "cell_type": "markdown",
      "source": [
        "12. Provide an example dataset, calculate both covariance and correlation, and interpret the results.\n",
        "\n",
        "\n",
        "Answer:Dataset\n",
        "\n",
        "\n",
        "Monthly income and consumption for ten households\n",
        "\n",
        "\n",
        "\n",
        "Covariance\n",
        "The covariance between income and consumption is positive, indicating that the two variables move in the same direction. This means that when income increases, consumption also increases.\n",
        "\n",
        "\n",
        "Correlation The correlation coefficient between income and consumption can be calculated using the formula r=Cov(x,y)/ (sigma x* sigma y)\n",
        "\n",
        "Interpretation\n",
        "The positive covariance and correlation between income and consumption indicate that the two variables are positively related\n"
      ],
      "metadata": {
        "id": "8PVBCVlhxLFl"
      }
    }
  ]
}