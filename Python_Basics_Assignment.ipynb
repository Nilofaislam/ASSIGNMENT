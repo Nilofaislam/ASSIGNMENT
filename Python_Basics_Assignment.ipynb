{
  "nbformat": 4,
  "nbformat_minor": 0,
  "metadata": {
    "colab": {
      "provenance": []
    },
    "kernelspec": {
      "name": "python3",
      "display_name": "Python 3"
    },
    "language_info": {
      "name": "python"
    }
  },
  "cells": [
    {
      "cell_type": "markdown",
      "source": [
        "1.Explain the key features of python that make it a popular choice of programming.\n",
        "\n",
        "Answer: The key feature of python is to understand and write the programming language between developers and programmers."
      ],
      "metadata": {
        "id": "3EeSvjcKuI7s"
      }
    },
    {
      "cell_type": "markdown",
      "source": [
        "2.Describe the role of predefined keywords in python and provide examples of how they are used in a program.\n",
        "\n",
        "Answer: The role of predefined keywords in python is - it is used to reserved words in python that have special meaning and cannot be used as a identifiers like -variables name , funtion names\n",
        "\n",
        "Example : True, False,If, Elsif,While,For,None etc."
      ],
      "metadata": {
        "id": "Ds9oFKk9uvcW"
      }
    },
    {
      "cell_type": "markdown",
      "source": [
        "3. Compare and contrast mutable and immutable objects in Python with examples\n",
        "\n",
        "Answer:\n",
        "Mutable object can be modified after creation.\n",
        "\n",
        "Mutability affects how objects are stored in memory , impacting on performamnce,memory usage and simultaneous occurance in python programs.\n",
        "\n",
        "Example: lists and dictionary\n",
        "\n",
        "Immutable objects cannot modify after creation.\n",
        "Example:Tuples and Strings."
      ],
      "metadata": {
        "id": "SwKsfUCFxLWf"
      }
    },
    {
      "cell_type": "markdown",
      "source": [
        "4.Discuss the different types of operators in Python and provide examples of how they are used\n",
        "\n",
        "Answer: The different types of operator is-\n",
        "1.Arthimetic operators\n",
        "\n",
        "Example-+,/,*,-\n",
        "\n",
        "2.Assignment operators\n",
        "\n",
        "Example-=,+=,-=,*=\n",
        "\n",
        "3.Comparison operators\n",
        "\n",
        "Example-==,<>,!=\n",
        "4.Logical operators\n",
        "\n",
        "Example- or ,not, and"
      ],
      "metadata": {
        "id": "BCMyeVPgxaQi"
      }
    },
    {
      "cell_type": "markdown",
      "source": [
        "5. Explain the concept of type casting in Python with examples\n",
        "\n",
        "Answer:It is the process of changing one data to another data in python .\n",
        "Type casting is necessary for arithmetic operators, data manipulation and input or output operation in python.\n",
        " Example:int(),elif(),str(),tuple(),dist()"
      ],
      "metadata": {
        "id": "GQFYgZXlxj2i"
      }
    },
    {
      "cell_type": "markdown",
      "source": [
        "6.How do conditional statements work in Python? Illustrate with examples\n",
        "\n",
        "Answer: Conditional statement work in python to execute code on the evaluation of one or more conditions.\n",
        "It can be handle multiple conditions and control different branches of execution based on the outcome of logical expressions.\n",
        "\n",
        "Example:if,else if"
      ],
      "metadata": {
        "id": "UZXoh6uZxqxS"
      }
    },
    {
      "cell_type": "markdown",
      "source": [
        "7. Describe the different types of loops in Python and their use cases with examples.\n",
        "\n",
        "Answer: The different types of loop is -\n",
        "1.For loop- it is used for iterating over the sequence of element.\n",
        "\n",
        "Example:n = 5\n",
        "        i = 1\n",
        "        while i < n\n",
        "           print(i)\n",
        "          i = i+1\n",
        "          1\n",
        "          2\n",
        "          3\n",
        "          4\n",
        "when 4<5 it is a true contion\n",
        "\n",
        "2.While loop-it is used for executing code umtil a specified condition becomes false\n",
        "\n",
        "Example:n = 5\n",
        "        i = 1\n",
        "        while i < n\n",
        "          print(i)\n",
        "          i = i+1\n",
        "          1\n",
        "          2\n",
        "          3\n",
        "          4\n",
        "          5\n",
        "When 5<=5 this statement is a false condition\n"
      ],
      "metadata": {
        "id": "VesI6fWAxxLi"
      }
    }
  ]
}