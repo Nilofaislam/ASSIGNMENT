{
  "nbformat": 4,
  "nbformat_minor": 0,
  "metadata": {
    "colab": {
      "provenance": []
    },
    "kernelspec": {
      "name": "python3",
      "display_name": "Python 3"
    },
    "language_info": {
      "name": "python"
    }
  },
  "cells": [
    {
      "cell_type": "markdown",
      "source": [
        "1. What is a parameter?\n",
        "\n",
        "\n",
        "Ans -A model parameter is a configuration variable that is internal to the model and is used to make predictions."
      ],
      "metadata": {
        "id": "5bWWMPvXph4f"
      }
    },
    {
      "cell_type": "markdown",
      "source": [
        "2. What is correlation?\n",
        "What does negative correlation mean?\n",
        "\n",
        "\n",
        "\n",
        "Ans- Correlation refers to the statistical relationship between two variables.\n",
        "\n",
        "\n",
        "Negative correlation -When one variable increases while the other decreases, it's a negative correlation."
      ],
      "metadata": {
        "id": "c-bf8ps2pvTI"
      }
    },
    {
      "cell_type": "markdown",
      "source": [
        "3. Define Machine Learning. What are the main components in Machine Learning?\n",
        "\n",
        "\n",
        "Ans- The subfilled of coputer science that gives computer the ability to learn without explicity program.\n",
        "\n",
        "\n",
        "The main components in machine learning is -\n",
        "\n",
        "1. Representation\n",
        "\n",
        "\n",
        "2. Evaluation\n",
        "\n",
        "\n",
        "3.Optamization"
      ],
      "metadata": {
        "id": "L4SpVE5RpxcW"
      }
    },
    {
      "cell_type": "markdown",
      "source": [
        "4. How does loss value help in determining whether the model is good or not?\n",
        "\n",
        "\n",
        "\n",
        "Ans-The loss value help to determing whether the modelis good or not by determining the prediction and actual results of data base."
      ],
      "metadata": {
        "id": "ieCwcfPap1jv"
      }
    },
    {
      "cell_type": "markdown",
      "source": [
        "5. What are continuous and categorical variables?\n",
        "\n",
        "\n",
        "Ans- COntinuous variables - It takes any numerical values and measured.\n",
        "\n",
        "\n",
        "Categorical variables - It takes ni=on - numerical values group or categories."
      ],
      "metadata": {
        "id": "uq9PXlRxp6U8"
      }
    },
    {
      "cell_type": "markdown",
      "source": [
        "6. How do we handle categorical variables in Machine Learning? What are the common techniques?\n",
        "\n",
        "\n",
        "\n",
        "\n",
        "Ans-In machine learning, binary encoding vs one-hot encoding are essential techniques for handling categorical data. Binary encoding efficiently converts categories into binary digits, making it suitable for high cardinality datasets.\n",
        "\n",
        "\n",
        "\n",
        "The common techniques is - pi chart and bar graph"
      ],
      "metadata": {
        "id": "yz1TWWaJqCHl"
      }
    },
    {
      "cell_type": "markdown",
      "source": [
        "7. What do you mean by training and testing a dataset?\n",
        "\n",
        "\n",
        "Ans-Training data is used to train the machine-learning model. The more training data the model has, the better it can make predictions.\n",
        "\n",
        "\n",
        "\n",
        "\n",
        "Testing Data is used to evaluate the performance of the model. Exposure. The model can learn from the training data and improve its predictions."
      ],
      "metadata": {
        "id": "_8uFr47GqFbx"
      }
    },
    {
      "cell_type": "markdown",
      "source": [
        "8. What is sklearn.preprocessing?\n",
        "\n",
        "\n",
        "\n",
        "Ans-The sklearn.preprocessing package provides several common utility functions and transformer classes to change raw feature vectors into a representation that is more suitable for the downstream estimators."
      ],
      "metadata": {
        "id": "WvgZ6dEQqSeF"
      }
    },
    {
      "cell_type": "markdown",
      "source": [
        "9. What is a Test set?\n",
        "\n",
        "\n",
        "Ans-In machine learning, the test set is a portion of the available training data that is “held back” and not used during model training."
      ],
      "metadata": {
        "id": "SSXO0FT5q1Yn"
      }
    },
    {
      "cell_type": "markdown",
      "source": [
        "10. How do we split data for model fitting (training and testing) in Python?\n",
        "How do you approach a Machine Learning problem?\n",
        "\n",
        "\n",
        "\n",
        "\n",
        "Ans-Divide the data set into two data set and the  better approach to divive into three data set .\n",
        "\n",
        "one is training set and other is testing set and the third set is performs the initial testing on the model as it is being trained.\n",
        "\n",
        "\n",
        "An approach a machine learning problem is -\n",
        "\n",
        "\n",
        "1. supervised machine learning\n",
        "\n",
        "2. Unsupervised machine learning\n",
        "\n",
        "3. semi supervised machine learning\n",
        "\n",
        "4. Reinforcement learning"
      ],
      "metadata": {
        "id": "a81HKjnPqT5g"
      }
    },
    {
      "cell_type": "markdown",
      "source": [
        "11.Why do we have to perform EDA before fitting a model to the data?\n",
        "\n",
        "\n",
        "\n",
        "Ans- Before fitting any model, it is often important to conduct an exploratory data analysis (EDA) in order to check assumptions, inspect the data for anomalies (such as missing, duplicated, or mis-coded data), and inform feature selection/transformation."
      ],
      "metadata": {
        "id": "k80Dg5ZTqZoo"
      }
    },
    {
      "cell_type": "markdown",
      "source": [
        "12. What is correlation?\n",
        "\n",
        "\n",
        "Ans-Correlation refers to the statistical relationship between two variables.\n",
        "\n",
        "\n"
      ],
      "metadata": {
        "id": "D2q-Rgm2q9NV"
      }
    },
    {
      "cell_type": "markdown",
      "source": [
        "13. What does negative correlation mean?\n",
        "\n",
        "\n",
        "Ans-Negative correlation -When one variable increases while the other decreases, it's a negative correlation.\n"
      ],
      "metadata": {
        "id": "5YhI6TDErELc"
      }
    },
    {
      "cell_type": "markdown",
      "source": [
        "14. How can you find correlation between variables in Python?\n",
        "\n",
        "\n",
        "Ans-Correlation summarizes the strength and direction of the linear (straight-line) association between two quantitative variables."
      ],
      "metadata": {
        "id": "Z_RKvL2WrIGJ"
      }
    },
    {
      "cell_type": "markdown",
      "source": [
        "15. What is causation? Explain difference between correlation and causation with an example.\n",
        "\n",
        "\n",
        "Ans-Causal inference in machine learning is based on the idea that correlations between variables are often not sufficient to establish causal relationships, as there may be other variables that influence both.\n",
        "\n",
        "\n",
        "\n",
        "The difference between correlation and causation is -\n",
        "\n",
        "\n",
        "\n",
        "Causation indicates that one event causes another.\n",
        "\n",
        "\n",
        "Correlation only identifies that there is a relationship between two events or outcomes.\n",
        "\n",
        "\n",
        "\n",
        "\n",
        "\n"
      ],
      "metadata": {
        "id": "gWe499LKrLil"
      }
    },
    {
      "cell_type": "markdown",
      "source": [
        "16. What is an Optimizer? What are different types of optimizers? Explain each with an example.\n",
        "\n",
        "\n",
        "\n",
        "Ans-Optimizers are algorithms used to find the optimal set of parameters for a model during the training process.\n",
        "\n",
        "\n",
        "Different types of optimizer is-\n",
        "\n",
        "\n",
        "1. Exhaustive search\n",
        "\n",
        "\n",
        "All possible options are evaluated. The most intuitive one.\n",
        "\n",
        "\n",
        "2. Gradient\n",
        "\n",
        "Computation efficient. Stable. Easy and quick to use.\n",
        "\n",
        "\n",
        "\n",
        "3. Genetic\n",
        "\n",
        "\n",
        "Can find good solutions in a short computation time. Wide range of solutions (since it's random).\n"
      ],
      "metadata": {
        "id": "gAAYHpWarhJ5"
      }
    },
    {
      "cell_type": "markdown",
      "source": [
        "17. What is sklearn.linear_model ?\n",
        "\n",
        "\n",
        "Ans-The sklearn library in Python implements Linear Regression through the LinearRegression class. This class allows us to fit a linear model to a dataset, predict new values, and evaluate the model's performance. To use the LinearRegression class, we first need to import it from sklearn. linear_model module."
      ],
      "metadata": {
        "id": "nF_aaxSvroPG"
      }
    },
    {
      "cell_type": "markdown",
      "source": [
        "18. What does model.fit() do? What arguments must be given?\n",
        "\n",
        "\n",
        "Ans-The fit() method in Scikit-Learn is used to train a machine learning model. Training a model involves feeding it with data so it can learn the underlying patterns. This method adjusts the parameters of the model based on the provided data."
      ],
      "metadata": {
        "id": "ySBjV3a8rtb5"
      }
    },
    {
      "cell_type": "markdown",
      "source": [
        "19. What does model.predict() do? What arguments must be given?\n",
        "\n",
        "\n",
        "Ans-Model. predict passes the input vector through the model and returns the output tensor for each datapoint."
      ],
      "metadata": {
        "id": "eB5yJITWrxBj"
      }
    },
    {
      "cell_type": "markdown",
      "source": [
        "20. What are continuous and categorical variables?\n",
        "\n",
        "\n",
        "Ans-COntinuous variables - It takes any numerical values and measured.\n",
        "\n",
        "\n",
        "Categorical variables - It takes ni=on - numerical values group or categories."
      ],
      "metadata": {
        "id": "i3WLtIoJr1W_"
      }
    },
    {
      "cell_type": "markdown",
      "source": [
        "21. What is feature scaling? How does it help in Machine Learning?\n",
        "\n",
        "\n",
        "Ans-Feature scaling is a method used to normalize the range of independent variables or features of data.\n",
        "\n",
        "\n",
        "It helps in data preprocessing step."
      ],
      "metadata": {
        "id": "Myp614p9r5RH"
      }
    },
    {
      "cell_type": "markdown",
      "source": [
        "22. How do we perform scaling in Python?\n",
        "\n",
        "\n",
        "Ans-In Data Processing, we try to change the data in such a way that the model can process it without any problems. And Feature Scaling is one such process in which we transform the data into a better version. Feature Scaling is done to normalize the features in the dataset into a finite range."
      ],
      "metadata": {
        "id": "tjBJqj_9r9Qn"
      }
    },
    {
      "cell_type": "markdown",
      "source": [
        "23. What is sklearn.preprocessing?\n",
        "\n",
        "\n",
        "Ans-The sklearn.preprocessing package provides several common utility functions and transformer classes to change raw feature vectors into a representation that is more suitable for the downstream estimators."
      ],
      "metadata": {
        "id": "tc9_ltdmsA2N"
      }
    },
    {
      "cell_type": "markdown",
      "source": [
        "24. How do we split data for model fitting (training and testing) in Python?\n",
        "\n",
        "\n",
        "Ans- Divide the data set into two data set and the  better approach to divive into three data set .\n",
        "\n",
        "one is training set and other is testing set and the third set is performs the initial testing on the model as it is being trained."
      ],
      "metadata": {
        "id": "l3CguUQ5sFQu"
      }
    },
    {
      "cell_type": "markdown",
      "source": [
        "25. Explain data encoding?\n",
        "\n",
        "\n",
        "Ans- Data encoding means it converts string into numerical data .\n",
        "\n",
        "\n",
        "Data encoding are -\n",
        "\n",
        "1. Nominal/ OHE\n",
        "\n",
        "\n",
        "2. Label and ordinal\n",
        "\n",
        "3. Traget guided ordinal encoding"
      ],
      "metadata": {
        "id": "F7O6y1HwsLDQ"
      }
    }
  ]
}