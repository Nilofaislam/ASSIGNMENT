{
  "cells": [
    {
      "cell_type": "markdown",
      "source": [
        "THEORY QUESTION"
      ],
      "metadata": {
        "id": "ENM6gJncTN73"
      }
    },
    {
      "cell_type": "markdown",
      "metadata": {
        "id": "MuZgHyCw8vh5"
      },
      "source": [
        "1. Explain the purpose and advantages of NumPy in scientific computing and data analysis. How does it enhance Python's capabilities for numerical operations?\n",
        "\n",
        "\n",
        "Answer: The purpose and advantages of NumPy in scientific computing and data is - NumPy is ideal  for handling large amounts of homogenous data, offering significant improvements in speed and memory efficiency .\n",
        "\n",
        "It enhance pythons  capabilities for numerical operations for making it a powerful tool for scientific computing and data processing on the CPU."
      ]
    },
    {
      "cell_type": "markdown",
      "metadata": {
        "id": "B3XlFhrK80LI"
      },
      "source": [
        "2. Compare and contrast np.mean() and np.average() functions in NumPy. When would you use one over the\n",
        "other?\n",
        "\n",
        "\n",
        "Answer:np.mean() is always compute arithmetic mean and have some additional options for input and output.\n",
        "\n",
        "np.average()- it can compute a weighted average if the weights parameter is supplied."
      ]
    },
    {
      "cell_type": "markdown",
      "metadata": {
        "id": "Q7r0-mVw85Nj"
      },
      "source": [
        "3. Describe the methods for reversing a NumPy array along different axes. Provide examples for 1D and 2D arrays.\n",
        "\n",
        "\n",
        "Answer: The methods for reversing a numpy array along different axes is-\n",
        "\n",
        "1. list slincing technique\n",
        "\n",
        "2. lenght in loop\n",
        "\n",
        "3. flip()function\n",
        "\n",
        "4. reverse function\n",
        "\n",
        "5. flipup()function\n",
        "\n",
        "6. fliplr() function\n",
        "\n",
        "Example of 1D and 2D array is\n",
        "\n",
        "\n",
        "\n"
      ]
    },
    {
      "cell_type": "code",
      "source": [
        "import numpy as np\n",
        "#create 1D array\n",
        "array = np.array([4, 5 , 6, 7])\n",
        "print(array)"
      ],
      "metadata": {
        "id": "ma8fM1xASjZK",
        "outputId": "4c9a4351-63d3-400f-cee4-ac0d7ad2c364",
        "colab": {
          "base_uri": "https://localhost:8080/"
        }
      },
      "execution_count": 79,
      "outputs": [
        {
          "output_type": "stream",
          "name": "stdout",
          "text": [
            "[4 5 6 7]\n"
          ]
        }
      ]
    },
    {
      "cell_type": "code",
      "source": [
        "import numpy as np\n",
        "\n",
        "# create 2D array\n",
        "array = np.array([[1, 2, 3], [4, 5, 6]])\n",
        "print(array)"
      ],
      "metadata": {
        "id": "NK5_IIanSujN",
        "outputId": "cea84864-25ac-4d2e-a287-a0f888329bce",
        "colab": {
          "base_uri": "https://localhost:8080/"
        }
      },
      "execution_count": 80,
      "outputs": [
        {
          "output_type": "stream",
          "name": "stdout",
          "text": [
            "[[1 2 3]\n",
            " [4 5 6]]\n"
          ]
        }
      ]
    },
    {
      "cell_type": "markdown",
      "metadata": {
        "id": "l-J2whZJ88x-"
      },
      "source": [
        "4. How can you determine the data type of elements in a NumPy array? Discuss the importance of data types in memory management and performance.\n",
        "\n",
        "\n",
        "Answer: The data type of elements in a numpy array provide a rich set of data types that can be used to create arrays with different types of elements.\n",
        "\n",
        "The improtance of data types in memory management and performance is in numpy data types are simillar to,but not ecactly the same as python data types.\n",
        "\n"
      ]
    },
    {
      "cell_type": "markdown",
      "metadata": {
        "id": "38U4MNfO9A1-"
      },
      "source": [
        "5. Define ndarrays in NumPy and explain their key features. How do they differ from standard Python lists?\n",
        "\n",
        "\n",
        "Answer: The core of NumPy package is the ndarrays in NumPy, it encapsulates n-dimensional arrays of homogeneous data types  with many operations being performed in complied code for performance.\n",
        "\n",
        "\n",
        "They differ from standard python lists by-\n",
        "\n",
        "1. NumPy arrays have a fixed size at creations ,unlike python lists . Changing the sixe of an ndarray will create a new array and delete the original.\n",
        "\n",
        "2. The elemnets in a NumPy array are all required to be of the same data type and will be the same size in memory.\n",
        "\n",
        "\n",
        "3. NumPy arrays facillitate advanced mathametical and other types of operation on large numbers of data.\n",
        "\n",
        "4. A growing plethora of scientific and mathemetical pthon based package are using NumPy arrays,through these typically support python sequence input, they convert such input to NumPy arrays prior to processing and they often output NumPy arrays.\n"
      ]
    },
    {
      "cell_type": "markdown",
      "metadata": {
        "id": "Gd5CX3T09FbT"
      },
      "source": [
        "6. Analyze the performance benefits of NumPy arrays over Python lists for large-scale numerical operations.\n",
        "\n",
        "Answer:  The performance benefits of numpy arrays over python lists for large scale numerical operations is-\n",
        "\n",
        "its provides significant speed advantages over list ."
      ]
    },
    {
      "cell_type": "markdown",
      "metadata": {
        "id": "bLvQxl4k9ISD"
      },
      "source": [
        "7. Compare vstack() and hstack() functions in NumPy. Provide examples demonstrating their usage and output.\n",
        "\n",
        "\n",
        "Answer:vstack functions - it is view in vertical line.\n",
        "\n",
        "\n",
        "hstack functions- it is view in horizontal line.\n",
        "\n",
        "\n",
        "Example\n",
        "\n"
      ]
    },
    {
      "cell_type": "code",
      "source": [
        "import numpy as np\n",
        "\n",
        "array1 = np.array([1, 2, 3])\n",
        "array2 = np.array([4, 5, 6])\n",
        "result = np.hstack((array1, array2))\n",
        "print(result)\n"
      ],
      "metadata": {
        "id": "qWl_P7atKHxW",
        "outputId": "3459c585-24cf-45fe-8c2e-2566de3eb6b0",
        "colab": {
          "base_uri": "https://localhost:8080/"
        }
      },
      "execution_count": 77,
      "outputs": [
        {
          "output_type": "stream",
          "name": "stdout",
          "text": [
            "[1 2 3 4 5 6]\n"
          ]
        }
      ]
    },
    {
      "cell_type": "code",
      "source": [
        "import numpy as np\n",
        "\n",
        "array1 = np.array([1, 2, 3])\n",
        "array2 = np.array([4, 5, 6])\n",
        "result = np.vstack((array1, array2))\n",
        "print(result)"
      ],
      "metadata": {
        "id": "ODoun_E1LEz3",
        "outputId": "fedbaea1-6bbb-438f-f76a-5e609c1dc068",
        "colab": {
          "base_uri": "https://localhost:8080/"
        }
      },
      "execution_count": 76,
      "outputs": [
        {
          "output_type": "stream",
          "name": "stdout",
          "text": [
            "[[1 2 3]\n",
            " [4 5 6]]\n"
          ]
        }
      ]
    },
    {
      "cell_type": "markdown",
      "metadata": {
        "id": "WD_fMbaz9LEm"
      },
      "source": [
        "8. Explain the differences between fliplr() and flipud() methods in NumPy, including their effects on various\n",
        "array dimensions.\n",
        "\n",
        "Answer:the differecnce between fliplr() and flipup() methods in numpy , including their effects on various array dimensions -\n",
        "\n",
        "fliplr() method-it is used to reverse the order of elements along axis 1\n",
        "\n",
        "fluipup() method -it is used to reverse the order of elements along axis 0."
      ]
    },
    {
      "cell_type": "markdown",
      "metadata": {
        "id": "GNypHdg_9OQG"
      },
      "source": [
        "9. Discuss the functionality of the array_split() method in NumPy. How does it handle uneven splits?\n",
        "\n",
        "Answer:The functionality of array_split()method is the splitting involves dividing an array into multiple sub-arrays along a specified axis.\n",
        "\n",
        "\n"
      ]
    },
    {
      "cell_type": "markdown",
      "metadata": {
        "id": "a1MPhzUf9Q3o"
      },
      "source": [
        "10. Explain the concepts of vectorization and broadcasting in NumPy. How do they contribute to efficient array\n",
        "operations?\n",
        "\n",
        "\n",
        "Answer: The concepts of vectorization operations enable performing element wise operations on entire arrays without explict looping.\n",
        "\n",
        "\n",
        "This leads to more concise and efficient code."
      ]
    },
    {
      "cell_type": "markdown",
      "metadata": {
        "id": "1VRt-PS_9cgg"
      },
      "source": [
        "PRACTICAL QUESTION"
      ]
    },
    {
      "cell_type": "markdown",
      "metadata": {
        "id": "np31j8cY9h1G"
      },
      "source": [
        "1. Create a 3x3 NumPy array with random integers between 1 and 100. Then, interchange its rows and columns."
      ]
    },
    {
      "cell_type": "code",
      "execution_count": null,
      "metadata": {
        "colab": {
          "base_uri": "https://localhost:8080/"
        },
        "id": "GBBI1ZBST-Aa",
        "outputId": "db39386b-71e1-410c-851b-d384dd782c6a"
      },
      "outputs": [
        {
          "output_type": "stream",
          "name": "stdout",
          "text": [
            "original array:\n",
            "[[18  8 87]\n",
            " [69 40  6]\n",
            " [59  5 73]]\n",
            "\n",
            "array with interchanged rows and columns:\n"
          ]
        },
        {
          "output_type": "execute_result",
          "data": {
            "text/plain": [
              "array([[18, 69, 59],\n",
              "       [ 8, 40,  5],\n",
              "       [87,  6, 73]])"
            ]
          },
          "metadata": {},
          "execution_count": 10
        }
      ],
      "source": [
        "import numpy as np\n",
        "array_3x3 = np.random.randint(1, 101, size = (3,3))\n",
        "print(\"original array:\")\n",
        "print(array_3x3)\n",
        "\n",
        "#interchanged rows and columns\n",
        "interchanged_array = array_3x3.T\n",
        "\n",
        "print(\"\\narray with interchanged rows and columns:\")\n",
        "interchanged_array\n",
        "\n",
        "\n"
      ]
    },
    {
      "cell_type": "markdown",
      "metadata": {
        "id": "WjsT8mIf9nRx"
      },
      "source": [
        "2. Generate a 1D NumPy array with 10 elements. Reshape it into a 2x5 array, then into a 5x2 array"
      ]
    },
    {
      "cell_type": "code",
      "source": [
        "import numpy as np\n",
        "#create an array from 10 elements\n",
        "array_1D = np.arange(10)\n",
        "\n",
        "#create a 1D array using 2*5\n",
        "array_2x5 = array_1D.reshape(2, 5)\n",
        "print(\"2x5 array:\\n\", array_2x5)\n",
        "\n",
        "#create a 1D array reshape it by using 5*2\n",
        "array_5x2 = array_1D.reshape(5, 2)\n",
        "print(\"5x2 array:\\n\", array_5x2)\n"
      ],
      "metadata": {
        "colab": {
          "base_uri": "https://localhost:8080/"
        },
        "id": "NwsQm7vBVDdw",
        "outputId": "44b4d4b8-3901-451b-805e-dfe022403a6b"
      },
      "execution_count": 15,
      "outputs": [
        {
          "output_type": "stream",
          "name": "stdout",
          "text": [
            "2x5 array:\n",
            " [[0 1 2 3 4]\n",
            " [5 6 7 8 9]]\n",
            "5x2 array:\n",
            " [[0 1]\n",
            " [2 3]\n",
            " [4 5]\n",
            " [6 7]\n",
            " [8 9]]\n"
          ]
        }
      ]
    },
    {
      "cell_type": "markdown",
      "metadata": {
        "id": "Q6SHLP9M907p"
      },
      "source": [
        "3. Create a 4x4 NumPy array with random float values. Add a border of zeros around it, resulting in a 6x6 array."
      ]
    },
    {
      "cell_type": "code",
      "source": [
        "import numpy as np\n",
        "#create a 4x4 array with random float values\n",
        "array_4x4 = np.random.rand(4, 4)\n",
        "\n",
        "#Add a border zero\n",
        "array_6x6 =np.pad(array_4x4, pad_width = 1, mode = 'constant', constant_values = 0)\n",
        "\n",
        "print(\"original array_6x6\")\n",
        "array_6x6\n"
      ],
      "metadata": {
        "id": "-99-DwUZZ4Xr",
        "colab": {
          "base_uri": "https://localhost:8080/"
        },
        "outputId": "b9c4d513-65d4-4a68-9a7d-e00a7b249224"
      },
      "execution_count": 19,
      "outputs": [
        {
          "output_type": "stream",
          "name": "stdout",
          "text": [
            "original array_6x6\n"
          ]
        },
        {
          "output_type": "execute_result",
          "data": {
            "text/plain": [
              "array([[0.        , 0.        , 0.        , 0.        , 0.        ,\n",
              "        0.        ],\n",
              "       [0.        , 0.54868547, 0.4880244 , 0.0714535 , 0.71934824,\n",
              "        0.        ],\n",
              "       [0.        , 0.05579987, 0.07280496, 0.61195253, 0.68992529,\n",
              "        0.        ],\n",
              "       [0.        , 0.38431095, 0.71753924, 0.73957193, 0.31033656,\n",
              "        0.        ],\n",
              "       [0.        , 0.84127648, 0.27498071, 0.25874688, 0.59984708,\n",
              "        0.        ],\n",
              "       [0.        , 0.        , 0.        , 0.        , 0.        ,\n",
              "        0.        ]])"
            ]
          },
          "metadata": {},
          "execution_count": 19
        }
      ]
    },
    {
      "cell_type": "markdown",
      "metadata": {
        "id": "umXQxLcg94Hg"
      },
      "source": [
        "4. Using NumPy, create an array of integers from 10 to 60 with a step of 5.\n"
      ]
    },
    {
      "cell_type": "code",
      "source": [
        "import numpy as np\n",
        "\n",
        "# create an array of intergers from 10 to 60 with a 5 steps\n",
        "array_step_5 = np.arange(10, 61, 5)\n",
        "array_step_5"
      ],
      "metadata": {
        "id": "3ZdDQiLy4DVU",
        "outputId": "7824ed6e-cef2-4aee-f652-221eb987d2d2",
        "colab": {
          "base_uri": "https://localhost:8080/"
        }
      },
      "execution_count": 23,
      "outputs": [
        {
          "output_type": "execute_result",
          "data": {
            "text/plain": [
              "array([10, 15, 20, 25, 30, 35, 40, 45, 50, 55, 60])"
            ]
          },
          "metadata": {},
          "execution_count": 23
        }
      ]
    },
    {
      "cell_type": "markdown",
      "metadata": {
        "id": "_h5toZJm97Mb"
      },
      "source": [
        "5. Create a NumPy array of strings ['python', 'numpy', 'pandas']. Apply different case transformations(uppercase, lowercase, title case, etc.) to each element"
      ]
    },
    {
      "cell_type": "code",
      "source": [
        "import numpy as np\n",
        "\n",
        "#create numpy array of strings\n",
        "string_array = np.array(['python', 'numpy', 'pandas'])\n",
        "#apply uppercase transformation\n",
        "uppercase_array = np.char.upper(string_array)\n",
        "print(\"uppercase:\", uppercase_array)\n"
      ],
      "metadata": {
        "id": "usXWX5ZJ493b",
        "outputId": "c33d4895-1c6d-4f15-f71a-1a2eab53b226",
        "colab": {
          "base_uri": "https://localhost:8080/"
        }
      },
      "execution_count": 26,
      "outputs": [
        {
          "output_type": "stream",
          "name": "stdout",
          "text": [
            "uppercase: ['PYTHON' 'NUMPY' 'PANDAS']\n"
          ]
        }
      ]
    },
    {
      "cell_type": "code",
      "source": [
        "#create numpy array of strings\n",
        "string_array = np.array(['python', 'numpy', 'pandas'])\n",
        "#apply lowercase transformation\n",
        "lowercase_array = np.char.lower(string_array)\n",
        "print(\"lowerrcase:\", lowercase_array)\n"
      ],
      "metadata": {
        "id": "HaEHGEVP6a4G",
        "outputId": "e5e3c0b2-e373-40b4-d68f-9e81d35d12bf",
        "colab": {
          "base_uri": "https://localhost:8080/"
        }
      },
      "execution_count": 28,
      "outputs": [
        {
          "output_type": "stream",
          "name": "stdout",
          "text": [
            "lowerrcase: ['python' 'numpy' 'pandas']\n"
          ]
        }
      ]
    },
    {
      "cell_type": "code",
      "source": [
        "#create numpy array of strings\n",
        "string_array = np.array(['python', 'numpy', 'pandas'])\n",
        "#apply titlecase transformation\n",
        "titlecase_array = np.char.title(string_array)\n",
        "print(\"titlecase:\", titlecase_array)\n"
      ],
      "metadata": {
        "id": "LjQ3qfRo60jF",
        "outputId": "dc0fd8f5-1879-4274-b031-df5cadfb87f1",
        "colab": {
          "base_uri": "https://localhost:8080/"
        }
      },
      "execution_count": 29,
      "outputs": [
        {
          "output_type": "stream",
          "name": "stdout",
          "text": [
            "titlecase: ['Python' 'Numpy' 'Pandas']\n"
          ]
        }
      ]
    },
    {
      "cell_type": "markdown",
      "metadata": {
        "id": "AqO4P7Hf9-dm"
      },
      "source": [
        "6. Generate a NumPy array of words. Insert a space between each character of every word in the array"
      ]
    },
    {
      "cell_type": "code",
      "source": [
        "import numpy as np\n",
        "word_array = np.array(['Apple', 'Orange'])\n",
        "\n",
        "#insert a linspace in each word\n",
        "spaced_word = np.char.join(' ', word_array)\n",
        "spaced_word"
      ],
      "metadata": {
        "id": "SvwYr_J-7Ncl",
        "outputId": "869c39da-f30a-4ab1-a2a4-779cac721ad9",
        "colab": {
          "base_uri": "https://localhost:8080/"
        }
      },
      "execution_count": 35,
      "outputs": [
        {
          "output_type": "execute_result",
          "data": {
            "text/plain": [
              "array(['A p p l e', 'O r a n g e'], dtype='<U11')"
            ]
          },
          "metadata": {},
          "execution_count": 35
        }
      ]
    },
    {
      "cell_type": "markdown",
      "metadata": {
        "id": "t1cizcRk-DYR"
      },
      "source": [
        "7. Create two 2D NumPy arrays and perform element-wise addition, subtraction, multiplication, and division."
      ]
    },
    {
      "cell_type": "code",
      "source": [
        "import numpy as np\n",
        "#create 2d numpy array\n",
        "array1 = np.array([[1, 2, 3], [4, 5, 6]])\n",
        "array2 = np.array([[7, 8, 9], [10, 11, 12]])\n",
        "\n",
        "# Element-wise addition\n",
        "addition_result = array1 + array2\n",
        "print(\"Addition:\\n\", addition_result)\n",
        "\n"
      ],
      "metadata": {
        "id": "cRrOy35N9orv",
        "outputId": "d9fbf96f-0122-4496-d4cf-75890d9bca60",
        "colab": {
          "base_uri": "https://localhost:8080/"
        }
      },
      "execution_count": 47,
      "outputs": [
        {
          "output_type": "stream",
          "name": "stdout",
          "text": [
            "Addition:\n",
            " [[ 8 10 12]\n",
            " [14 16 18]]\n"
          ]
        }
      ]
    },
    {
      "cell_type": "code",
      "source": [
        "# Element-wise substraction\n",
        "substraction_result = array1 + array2\n",
        "print(\"substraction:\\n\", substraction_result)"
      ],
      "metadata": {
        "id": "pLqWmdg1_4Ae",
        "outputId": "b4f4158d-ebbc-4260-fdc6-5b1759b890f5",
        "colab": {
          "base_uri": "https://localhost:8080/"
        }
      },
      "execution_count": 48,
      "outputs": [
        {
          "output_type": "stream",
          "name": "stdout",
          "text": [
            "substraction:\n",
            " [[ 8 10 12]\n",
            " [14 16 18]]\n"
          ]
        }
      ]
    },
    {
      "cell_type": "code",
      "source": [
        "# Element-wise multiplication\n",
        "multiplication_result = array1 + array2\n",
        "print(\"multiplication:\\n\", multiplication_result)"
      ],
      "metadata": {
        "id": "KFounAY3AKYw",
        "outputId": "9a608e40-6e58-49ec-ec72-4a9634ea65be",
        "colab": {
          "base_uri": "https://localhost:8080/"
        }
      },
      "execution_count": 50,
      "outputs": [
        {
          "output_type": "stream",
          "name": "stdout",
          "text": [
            "multiplication:\n",
            " [[ 8 10 12]\n",
            " [14 16 18]]\n"
          ]
        }
      ]
    },
    {
      "cell_type": "code",
      "source": [
        "# Element-wise division\n",
        "division_result = array1 + array2\n",
        "print(\"division:\\n\", division_result)"
      ],
      "metadata": {
        "id": "_9TQAG1bAlYE",
        "outputId": "46427351-f716-4ef6-9f14-0d6657d5bf1d",
        "colab": {
          "base_uri": "https://localhost:8080/"
        }
      },
      "execution_count": 51,
      "outputs": [
        {
          "output_type": "stream",
          "name": "stdout",
          "text": [
            "division:\n",
            " [[ 8 10 12]\n",
            " [14 16 18]]\n"
          ]
        }
      ]
    },
    {
      "cell_type": "markdown",
      "metadata": {
        "id": "7L6TBNJq-FEb"
      },
      "source": [
        "8. Use NumPy to create a 5x5 identity matrix, then extract its diagonal elements."
      ]
    },
    {
      "cell_type": "code",
      "source": [
        "import numpy as np\n",
        "#create a 5x5 identity matrix\n",
        "identity_matrix = np.eye(5)\n",
        "# Extract the diagonal elements\n",
        "diagonal_elements = np.diag(identity_matrix)\n",
        "print(\"\\nDiagonal Elements:\\n\", diagonal_elements)"
      ],
      "metadata": {
        "id": "OWGf52msBHDl",
        "outputId": "2a411520-7167-49a5-d052-a5defee6f17b",
        "colab": {
          "base_uri": "https://localhost:8080/"
        }
      },
      "execution_count": 54,
      "outputs": [
        {
          "output_type": "stream",
          "name": "stdout",
          "text": [
            "\n",
            "Diagonal Elements:\n",
            " [1. 1. 1. 1. 1.]\n"
          ]
        }
      ]
    },
    {
      "cell_type": "markdown",
      "metadata": {
        "id": "TBhE_1yB-NEh"
      },
      "source": [
        "9. Generate a NumPy array of 100 random integers between 0 and 1000. Find and display all prime numbers in\n",
        "this array."
      ]
    },
    {
      "cell_type": "code",
      "source": [
        "import numpy as np\n",
        "\n",
        "def is_prime(n):\n",
        "    if n <= 1:\n",
        "        return False\n",
        "    for i in range(2, int(n**0.5) + 1):\n",
        "        if n % i == 0:\n",
        "            return False\n",
        "    return True\n",
        "\n",
        "#generate a numpy array of 100 random integers between 0 and 1000\n",
        "random_integers = np.random.randint(0, 1001, size = 100)\n",
        "# find and display all prine numbers in the array\n",
        "prime_numbers = [num for num in random_integers if is_prime(num)]\n",
        "print(\"prime numbers in the array:\", prime_numbers)"
      ],
      "metadata": {
        "id": "B81I08Y5DMKo",
        "outputId": "3e30b032-96ac-4769-827a-4a1cbd375312",
        "colab": {
          "base_uri": "https://localhost:8080/"
        }
      },
      "execution_count": 58,
      "outputs": [
        {
          "output_type": "stream",
          "name": "stdout",
          "text": [
            "prime numbers in the array: [41, 733, 173, 17, 491, 487, 397, 83, 733, 349, 997, 419, 41, 173]\n"
          ]
        }
      ]
    },
    {
      "cell_type": "markdown",
      "metadata": {
        "id": "vHk1tmQb-XFI"
      },
      "source": [
        "10. Create a NumPy array representing daily temperatures for a month. Calculate and display the weekly\n",
        "averages."
      ]
    },
    {
      "cell_type": "code",
      "source": [
        "#create a numpy array of daily temperature for a month\n",
        "temperatures = np.random.randint(25,40, size=30)\n",
        "weekly_averages = []\n",
        "#calculate weekly averages\n",
        "for i in range (0, 30, 7):\n",
        "  week_temps = temperatures[i:min(i + 7, 30)]\n",
        "  weekly_average = np.mean(week_temps)\n",
        "  weekly_averages.append(weekly_average)\n",
        "# display the weekly averages\n",
        "print(\"weekly average temperatures:\")\n",
        "for i, avg in enumerate(weekly_averages):\n",
        "  print(f\"Week {i + 1}: {avg:.2f}\")"
      ],
      "metadata": {
        "id": "HwAWG6MDTmh7",
        "outputId": "f9a5b2cc-c60c-4c7b-eb8b-5436d3530d8b",
        "colab": {
          "base_uri": "https://localhost:8080/"
        }
      },
      "execution_count": 81,
      "outputs": [
        {
          "output_type": "stream",
          "name": "stdout",
          "text": [
            "weekly average temperatures:\n",
            "Week 1: 33.00\n",
            "Week 2: 30.29\n",
            "Week 3: 32.00\n",
            "Week 4: 29.14\n",
            "Week 5: 29.50\n"
          ]
        }
      ]
    }
  ],
  "metadata": {
    "colab": {
      "provenance": []
    },
    "kernelspec": {
      "display_name": "Python 3",
      "name": "python3"
    },
    "language_info": {
      "name": "python"
    }
  },
  "nbformat": 4,
  "nbformat_minor": 0
}