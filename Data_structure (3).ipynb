{
  "nbformat": 4,
  "nbformat_minor": 0,
  "metadata": {
    "colab": {
      "provenance": []
    },
    "kernelspec": {
      "name": "python3",
      "display_name": "Python 3"
    },
    "language_info": {
      "name": "python"
    }
  },
  "cells": [
    {
      "cell_type": "markdown",
      "source": [
        "1.Discuss string slicing and provide example.\n",
        "\n",
        "Answer:Each character of string can be accessed by index or position and substrings can be extracted by using slicing.\n",
        "\n",
        "Example:"
      ],
      "metadata": {
        "id": "y4M6KvVphynx"
      }
    },
    {
      "cell_type": "code",
      "source": [
        "name = \"Nilofa Islam\"\n",
        "first_letter = name[0]"
      ],
      "metadata": {
        "id": "vWSFUxXQky3i"
      },
      "execution_count": null,
      "outputs": []
    },
    {
      "cell_type": "code",
      "source": [
        "initials = name[:6]"
      ],
      "metadata": {
        "id": "GdM8y9tClJsN"
      },
      "execution_count": null,
      "outputs": []
    },
    {
      "cell_type": "code",
      "source": [
        "initials"
      ],
      "metadata": {
        "colab": {
          "base_uri": "https://localhost:8080/",
          "height": 36
        },
        "id": "S36SMlr6mLgd",
        "outputId": "486540ae-94f0-41ac-8dc2-38b750ee9e61"
      },
      "execution_count": null,
      "outputs": [
        {
          "output_type": "execute_result",
          "data": {
            "text/plain": [
              "'Nilofa'"
            ],
            "application/vnd.google.colaboratory.intrinsic+json": {
              "type": "string"
            }
          },
          "metadata": {},
          "execution_count": 8
        }
      ]
    },
    {
      "cell_type": "markdown",
      "source": [
        "2. Explain the key features of list in python.\n",
        "\n",
        "Answer: The key features of list in python is -\n",
        "\n",
        "1.Description - it is a  ordered mutable collection of elements .\n",
        "\n",
        "2.Operations- we can add , remove , or modify elements within a list using indexing and slicing.\n",
        "\n",
        "3.Analogy - list offers the flexibility in data storage.\n"
      ],
      "metadata": {
        "id": "e_9uGo9EllYU"
      }
    },
    {
      "cell_type": "markdown",
      "source": [
        "3.Describe how to access , modify and delete elements in a list with examples.\n",
        "\n",
        "Answer: To access modify and delete elements  within  a list by using index and slicing.\n",
        "\n",
        "Example:"
      ],
      "metadata": {
        "id": "xpragdfHiQCh"
      }
    },
    {
      "cell_type": "code",
      "source": [
        "vegetable_list = [\"potato\", 5, \"brinjal\", True] # Mixed data types\n",
        "vegetable_list.append(\"onion\")  # Adding an item\n",
        "del vegetable_list[1]  # Removing the second item"
      ],
      "metadata": {
        "id": "7QjUHshGzSvT"
      },
      "execution_count": 1,
      "outputs": []
    },
    {
      "cell_type": "markdown",
      "source": [
        "4.Compare and contrast tuples and list with example.\n",
        "\n",
        "Answer:Lists are ordered and mutable collections of elements.\n",
        "\n",
        "\n",
        "Example:\n",
        "1  shopping_list = [\"potato\" , 5 , \"banana\" True]\n",
        "\n",
        "2  shopping_list.append(\"salt\")\n",
        "\n",
        "3  del shopping_list[1]\n",
        "\n",
        "1  shopping_list\n",
        "['potato', 'banana' True ,' salt']\n",
        "\n",
        "\n",
        "Tuples are ordered and immutable collections of elements similar to lists .\n",
        "\n",
        "\n",
        "Example:\n",
        "\n",
        "1 # creat a tuple\n",
        "\n",
        "2 my_tuple = (100, \"fruits\"  True )\n",
        "\n",
        "3\n",
        "\n",
        "4 # Attempt to modify an element ( will cause an error)\n",
        "\n",
        "5 my_tuple[0]=40 # This line will cause an error\n"
      ],
      "metadata": {
        "id": "MurphThzierx"
      }
    },
    {
      "cell_type": "markdown",
      "source": [
        "5.Describe the key features of sets and provide examples of their use.\n",
        "\n",
        "Answer: The key features of sets is\n",
        "\n",
        "1.Description-Unorder collections of unique  elements.\n",
        "\n",
        " The order doesnt matter and duplicate entries are not allowed.\n",
        "\n",
        "\n",
        "2.Operation- we can add or remove elements from a set but we cannot access the element by index.\n",
        "\n",
        "Example:\n",
        "\n",
        "1 vegetables={'potato', 'onion','cabage'}\n",
        "1 vegetables\n",
        "\n",
        "{'potato', onion', 'cabage'}\n"
      ],
      "metadata": {
        "id": "hIf_dQSKiqQt"
      }
    },
    {
      "cell_type": "markdown",
      "source": [
        "6.Discuss the use cases of tuples and sets in python programming.\n",
        "\n",
        "Answer:The use cases of tuples and sets in python programming is\n",
        "\n",
        "In tupple a secure way to store data that should not be modified and sets are useful checking memberships. the intersection between sets."
      ],
      "metadata": {
        "id": "eXtYIIjdjgm3"
      }
    },
    {
      "cell_type": "markdown",
      "source": [
        "7.Describe how to add , modify and delete items in a distionary with example.\n",
        "\n",
        "Answer:\n",
        "\n",
        "Add: Use direct assignment or update value\n",
        "\n",
        "Assignment like (dictionary_name[key])=value\n",
        "update().method\n",
        "\n",
        "Modify: Retrieve values using their keys\n",
        "\n",
        "Example: value =dictionary_name[key]"
      ],
      "metadata": {
        "id": "e8CBlbQdjuC9"
      }
    },
    {
      "cell_type": "markdown",
      "source": [
        "8.Discuss the importance of dictionary keys being immutable and provide example.\n",
        "\n",
        "Answer:The importance of dictionary keys being immutable is to ensure that the elements are not stored in a specific order.\n",
        "\n",
        "Example:"
      ],
      "metadata": {
        "id": "fuC2nRsdkAqP"
      }
    },
    {
      "cell_type": "code",
      "source": [
        "# Student information\n",
        "student = {\n",
        "   \"name\": \"Bob\",\n",
        "   \"age\":19,\n",
        "   \"course\":[\"physics\", \"chemistry\"]\n",
        "}\n",
        "#Accessing student's age\n",
        "age = student[\"age\"]\n",
        "print(f\"Bob's  age: {age}\")"
      ],
      "metadata": {
        "colab": {
          "base_uri": "https://localhost:8080/"
        },
        "id": "ZWUFpf2u4pMa",
        "outputId": "412e711c-4e94-47fe-8fa7-5168fe3d5f2c"
      },
      "execution_count": 11,
      "outputs": [
        {
          "output_type": "stream",
          "name": "stdout",
          "text": [
            "Bob's  age: 19\n"
          ]
        }
      ]
    }
  ]
}