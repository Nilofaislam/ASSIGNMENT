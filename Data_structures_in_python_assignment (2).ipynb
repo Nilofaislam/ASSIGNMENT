{
  "cells": [
    {
      "cell_type": "markdown",
      "metadata": {
        "id": "pqnDrRswl1nW"
      },
      "source": [
        "1. Write a code to reverse a string"
      ]
    },
    {
      "cell_type": "code",
      "execution_count": null,
      "metadata": {
        "colab": {
          "base_uri": "https://localhost:8080/"
        },
        "id": "FL_RYiW4mJfH",
        "outputId": "4a94db72-966f-4332-e851-e70ed6967ed0"
      },
      "outputs": [
        {
          "name": "stdout",
          "output_type": "stream",
          "text": [
            "srotomataT\n"
          ]
        }
      ],
      "source": [
        "def reverse_string(input_string):\n",
        "  return input_string[::-1]\n",
        "\n",
        "string_to_reverse = \"Tatamotors\"\n",
        "reversed_string = reverse_string(string_to_reverse)\n",
        "print(reversed_string)"
      ]
    },
    {
      "cell_type": "markdown",
      "metadata": {
        "id": "fRMBTyaWmVwK"
      },
      "source": [
        "2. Write a code to count the number of vowels in a string"
      ]
    },
    {
      "cell_type": "code",
      "execution_count": null,
      "metadata": {
        "colab": {
          "base_uri": "https://localhost:8080/"
        },
        "id": "vHxw2m2ImhnG",
        "outputId": "ecfcb5d9-3b5e-49fb-edbc-5e1af343d0fc"
      },
      "outputs": [
        {
          "data": {
            "text/plain": [
              "5"
            ]
          },
          "execution_count": 4,
          "metadata": {},
          "output_type": "execute_result"
        }
      ],
      "source": [
        "def count_vowels(input_string):\n",
        "  vowels = \"aeiouAEIOU\"\n",
        "  vowel_count = 0\n",
        "  for char in input_string:\n",
        "    if char in vowels:\n",
        "      vowel_count += 1\n",
        "  return vowel_count\n",
        "\n",
        "string_to_check = \"Aeroplane\"\n",
        "vowel_count = count_vowels(string_to_check)\n",
        "vowel_count"
      ]
    },
    {
      "cell_type": "markdown",
      "metadata": {
        "id": "aoLNT-7qmqjB"
      },
      "source": [
        " 3. Write a code to check if a given string is a palindrome or not"
      ]
    },
    {
      "cell_type": "code",
      "execution_count": null,
      "metadata": {
        "colab": {
          "base_uri": "https://localhost:8080/"
        },
        "id": "cG3L1wfBm9Mq",
        "outputId": "acee2f06-9e79-4a42-8656-dbfb51452c11"
      },
      "outputs": [
        {
          "data": {
            "text/plain": [
              "False"
            ]
          },
          "execution_count": 5,
          "metadata": {},
          "output_type": "execute_result"
        }
      ],
      "source": [
        "def is_palindrome(input_string):\n",
        "  processed_string = ''.join(filter(str.isalnum, input_string)).lower()\n",
        "  return processed_string == processed_string[::-1]\n",
        "\n",
        "string_to_check = \"Ambulance\"\n",
        "is_palindrome(string_to_check)"
      ]
    },
    {
      "cell_type": "markdown",
      "metadata": {
        "id": "T9_pi4jPnFVk"
      },
      "source": [
        "4. Write a code to check if two given strings are anagrams of each other"
      ]
    },
    {
      "cell_type": "code",
      "execution_count": null,
      "metadata": {
        "colab": {
          "base_uri": "https://localhost:8080/"
        },
        "id": "xYeHbhZOnPNR",
        "outputId": "b5249488-20f6-469e-9f61-fd87020600ca"
      },
      "outputs": [
        {
          "name": "stdout",
          "output_type": "stream",
          "text": [
            "True\n"
          ]
        }
      ],
      "source": [
        "def are_anagrams(str1, str2):\n",
        "    str1 = str1.lower()\n",
        "    str2 = str2.lower()\n",
        "    return sorted(str1) == sorted(str2)\n",
        "\n",
        "string1 = \"listen\"\n",
        "string2 = \"silent\"\n",
        "print(are_anagrams(string1,string2))\n"
      ]
    },
    {
      "cell_type": "markdown",
      "metadata": {
        "id": "TpdNz_rgnZp9"
      },
      "source": [
        "5. Write a code to find all occurrences of a given substring within another string"
      ]
    },
    {
      "cell_type": "code",
      "execution_count": null,
      "metadata": {
        "colab": {
          "base_uri": "https://localhost:8080/"
        },
        "id": "vqCFSP_xnjUY",
        "outputId": "44113a6d-7547-4f4f-fd4f-f952a67fc8cf"
      },
      "outputs": [
        {
          "name": "stdout",
          "output_type": "stream",
          "text": [
            "[2, 5, 25, 28]\n"
          ]
        }
      ],
      "source": [
        "def find_all_occurrences(main_string, substring):\n",
        "    occurrences = []\n",
        "    index = 0\n",
        "    while True:\n",
        "        index = main_string.find(substring, index)\n",
        "        if index == -1:\n",
        "            break\n",
        "        occurrences.append(index)\n",
        "        index += 1\n",
        "    return occurrences\n",
        "\n",
        "main_string = \"This is a test string. This is another test.\"\n",
        "substring = \"is\"\n",
        "occurrences = find_all_occurrences(main_string, substring)\n",
        "print(occurrences)"
      ]
    },
    {
      "cell_type": "markdown",
      "metadata": {
        "id": "Bh-7wpnDoFvz"
      },
      "source": [
        "6. Write a code to perform basic string compression using the counts of repeated characters"
      ]
    },
    {
      "cell_type": "code",
      "execution_count": null,
      "metadata": {
        "colab": {
          "base_uri": "https://localhost:8080/"
        },
        "id": "UIINzaKtoPm_",
        "outputId": "5cd2c7ed-2359-48d7-b7a7-8f2ef881f548"
      },
      "outputs": [
        {
          "name": "stdout",
          "output_type": "stream",
          "text": [
            "Compressed string: g4h4k3dfg2k\n"
          ]
        }
      ],
      "source": [
        "def compress_string(input_string):\n",
        "    if not input_string:\n",
        "        return \"\"\n",
        "\n",
        "    compressed_string = \"\"\n",
        "    count = 1\n",
        "    for i in range(len(input_string) - 1):\n",
        "        if input_string[i] == input_string[i + 1]:\n",
        "            count += 1\n",
        "        else:\n",
        "            compressed_string += input_string[i] + (str(count) if count > 1 else \"\")\n",
        "            count = 1\n",
        "\n",
        "    compressed_string += input_string[-1] + (str(count) if count > 1 else \"\")\n",
        "    return compressed_string\n",
        "input_string = \"gggghhhhkkkdfggk\"\n",
        "compressed_string = compress_string(input_string)\n",
        "print(f\"Compressed string: {compressed_string}\")"
      ]
    },
    {
      "cell_type": "markdown",
      "metadata": {
        "id": "26dfQ90cobYk"
      },
      "source": [
        "7. Write a code to determine if a string has all unique characters"
      ]
    },
    {
      "cell_type": "code",
      "execution_count": null,
      "metadata": {
        "colab": {
          "base_uri": "https://localhost:8080/"
        },
        "id": "SeYiK775omBg",
        "outputId": "f1e4de51-7115-4bdd-9107-b2bcea0f2894"
      },
      "outputs": [
        {
          "name": "stdout",
          "output_type": "stream",
          "text": [
            "'ambulance' has all unique characters: False\n",
            "'hospital' has all unique characters: True\n"
          ]
        }
      ],
      "source": [
        "def has_unique_chars(input_string):\n",
        "    return len(set(input_string)) == len(input_string)\n",
        "\n",
        "# Example usage\n",
        "string1 = \"ambulance\"\n",
        "string2 = \"hospital\"\n",
        "\n",
        "print(f\"'{string1}' has all unique characters: {has_unique_chars(string1)}\")\n",
        "print(f\"'{string2}' has all unique characters: {has_unique_chars(string2)}\")"
      ]
    },
    {
      "cell_type": "markdown",
      "metadata": {
        "id": "6rZ05fQfo-zZ"
      },
      "source": [
        "8. Write a code to convert a given string to uppercase or lowercase"
      ]
    },
    {
      "cell_type": "code",
      "execution_count": null,
      "metadata": {
        "colab": {
          "base_uri": "https://localhost:8080/"
        },
        "id": "OPaYaydxpJka",
        "outputId": "69b18b4c-3eca-4ebc-84d1-2192ab9b50da"
      },
      "outputs": [
        {
          "name": "stdout",
          "output_type": "stream",
          "text": [
            "Uppercase: DATAANALYST\n",
            "Lowercase: dataanalyst\n"
          ]
        }
      ],
      "source": [
        "def convert_case(input_string, case_type):\n",
        "    if case_type == \"upper\":\n",
        "        return input_string.upper()\n",
        "    elif case_type == \"lower\":\n",
        "        return input_string.lower()\n",
        "    else:\n",
        "        return \"Invalid case type. Please specify 'upper' or 'lower'.\"\n",
        "\n",
        "\n",
        "string_to_convert = \"Dataanalyst\"\n",
        "\n",
        "uppercase_string = convert_case(string_to_convert, \"upper\")\n",
        "print(f\"Uppercase: {uppercase_string}\")\n",
        "\n",
        "lowercase_string = convert_case(string_to_convert, \"lower\")\n",
        "print(f\"Lowercase: {lowercase_string}\")\n"
      ]
    },
    {
      "cell_type": "markdown",
      "metadata": {
        "id": "S6aoW6qJpYHq"
      },
      "source": [
        "9. Write a code to count the number of words in a string"
      ]
    },
    {
      "cell_type": "code",
      "execution_count": null,
      "metadata": {
        "colab": {
          "base_uri": "https://localhost:8080/"
        },
        "id": "9bmNsUKoplSX",
        "outputId": "d5c2ef8d-e6b9-4882-a856-06a3d0a412be"
      },
      "outputs": [
        {
          "name": "stdout",
          "output_type": "stream",
          "text": [
            "Number of words: 4\n"
          ]
        }
      ],
      "source": [
        "def count_words(input_string):\n",
        "    words = input_string.split()\n",
        "    return len(words)\n",
        "\n",
        "string_to_check = \"weather is too cold\"\n",
        "word_count = count_words(string_to_check)\n",
        "print(f\"Number of words: {word_count}\")"
      ]
    },
    {
      "cell_type": "markdown",
      "metadata": {
        "id": "zf3rszpUp8qv"
      },
      "source": [
        "10. Write a code to concatenate two strings without using the + operator"
      ]
    },
    {
      "cell_type": "code",
      "execution_count": null,
      "metadata": {
        "colab": {
          "base_uri": "https://localhost:8080/"
        },
        "id": "XhbZeFMsqOk3",
        "outputId": "9fa696f3-d778-4148-8af3-a033ce56c417"
      },
      "outputs": [
        {
          "name": "stdout",
          "output_type": "stream",
          "text": [
            "Datascience\n"
          ]
        }
      ],
      "source": [
        "def concatenate_strings(str1, str2):\n",
        "\n",
        "    return \"\".join([str1,str2])\n",
        "string1 = \"Data\"\n",
        "string2 = \"science\"\n",
        "result = concatenate_strings(string1, string2)\n",
        "print(result)"
      ]
    },
    {
      "cell_type": "markdown",
      "metadata": {
        "id": "R5RFbEQPqlze"
      },
      "source": [
        "11. Write a code to remove all occurrences of a specific element from a list"
      ]
    },
    {
      "cell_type": "code",
      "execution_count": null,
      "metadata": {
        "colab": {
          "base_uri": "https://localhost:8080/"
        },
        "id": "I4Ag1DvaqzIe",
        "outputId": "777d1827-fe66-4e95-9013-b9c1e9ed6b8c"
      },
      "outputs": [
        {
          "name": "stdout",
          "output_type": "stream",
          "text": [
            "[9, 3, 8, 9, 3]\n"
          ]
        }
      ],
      "source": [
        "def remove_element_from_list(input_list, element_to_remove):\n",
        "    \"\"\"Removes all occurrences of a specific element from a list.\"\"\"\n",
        "    return [item for item in input_list if item != element_to_remove]\n",
        "\n",
        "\n",
        "my_list = [7, 9, 3, 7, 8, 9, 7,3]\n",
        "element_to_remove = 7\n",
        "new_list = remove_element_from_list(my_list, element_to_remove)\n",
        "print(new_list)"
      ]
    },
    {
      "cell_type": "markdown",
      "metadata": {
        "id": "WRW-XFUPrAFs"
      },
      "source": [
        "12. Implement a code to find the second largest number in a given list of integers"
      ]
    },
    {
      "cell_type": "code",
      "execution_count": null,
      "metadata": {
        "colab": {
          "base_uri": "https://localhost:8080/"
        },
        "id": "PlIji14nrthn",
        "outputId": "c92f3922-af5f-4c41-9e7a-1618ca3a755a"
      },
      "outputs": [
        {
          "name": "stdout",
          "output_type": "stream",
          "text": [
            "The second largest number is: 8\n"
          ]
        }
      ],
      "source": [
        "def find_second_largest(numbers):\n",
        "    \"\"\"Finds the second largest number in a list of integers.\"\"\"\n",
        "    unique_numbers = sorted(list(set(numbers)), reverse=True)\n",
        "    if len(unique_numbers) < 2:\n",
        "        return \"List does not contain at least two unique numbers.\"\n",
        "    else:\n",
        "        return unique_numbers[1]\n",
        "numbers = [1, 5, 2, 8, 3, 8, 9, 4]\n",
        "second_largest = find_second_largest(numbers)\n",
        "print(f\"The second largest number is: {second_largest}\")"
      ]
    },
    {
      "cell_type": "markdown",
      "metadata": {
        "id": "JjXc9KKJsPVD"
      },
      "source": [
        "13.  Create a code to count the occurrences of each element in a list and return a dictionary with elements as\n",
        "keys and their counts as values"
      ]
    },
    {
      "cell_type": "code",
      "execution_count": null,
      "metadata": {
        "colab": {
          "base_uri": "https://localhost:8080/"
        },
        "id": "D8mqQSm8s3AH",
        "outputId": "619e49d0-2be1-4447-c029-8901bf297e55"
      },
      "outputs": [
        {
          "name": "stdout",
          "output_type": "stream",
          "text": [
            "{1: 1, 7: 2, 8: 1, 2: 3, 3: 1, 4: 1}\n"
          ]
        }
      ],
      "source": [
        "def count_element_occurrences(input_list):\n",
        "    \"\"\"Counts the occurrences of each element in a list and returns a dictionary.\"\"\"\n",
        "    element_counts = {}\n",
        "    for element in input_list:\n",
        "        if element in element_counts:\n",
        "            element_counts[element] += 1\n",
        "        else:\n",
        "            element_counts[element] = 1\n",
        "    return element_counts\n",
        "\n",
        "\n",
        "my_list = [1, 7, 8, 7, 2, 3, 2, 4, 2]\n",
        "occurrences = count_element_occurrences(my_list)\n",
        "print(occurrences)"
      ]
    },
    {
      "cell_type": "markdown",
      "metadata": {
        "id": "FyG4Ms1-t0N8"
      },
      "source": [
        "14. Write a code to reverse a list in-place without using any built-in reverse function"
      ]
    },
    {
      "cell_type": "code",
      "execution_count": null,
      "metadata": {
        "colab": {
          "base_uri": "https://localhost:8080/"
        },
        "id": "-Zq_kohRuhRi",
        "outputId": "c893827d-5420-42f6-a7ff-2115851e0f56"
      },
      "outputs": [
        {
          "data": {
            "text/plain": [
              "[4, 10, 5, 'Date', 'Cherry', 'Banana', 'Apple']"
            ]
          },
          "execution_count": 26,
          "metadata": {},
          "output_type": "execute_result"
        }
      ],
      "source": [
        "def reverse_list_in_place(data):\n",
        "    \"\"\"Reverses a list in-place without using built-in reverse functions.\"\"\"\n",
        "    start = 0\n",
        "    end = len(data) - 1\n",
        "    while start < end:\n",
        "        data[start], data[end] = data[end], data[start]\n",
        "        start += 1\n",
        "        end -= 1\n",
        "    return data\n",
        "\n",
        "my_list = [\"Apple\", \"Banana\", \"Cherry\", \"Date\", 5, 10, 4]\n",
        "reversed_list = reverse_list_in_place(my_list)\n",
        "reversed_list"
      ]
    },
    {
      "cell_type": "markdown",
      "metadata": {
        "id": "3sZADKVUvAKp"
      },
      "source": [
        "15. Implement a code to find and remove duplicates from a list while preserving the original order of\n",
        "elements."
      ]
    },
    {
      "cell_type": "code",
      "execution_count": null,
      "metadata": {
        "colab": {
          "base_uri": "https://localhost:8080/"
        },
        "id": "Y0xkDLPyvPWT",
        "outputId": "c1321cdb-e694-459e-f697-b3fa911f545a"
      },
      "outputs": [
        {
          "data": {
            "text/plain": [
              "[1, 2, 7, 8, 3, 5]"
            ]
          },
          "execution_count": 28,
          "metadata": {},
          "output_type": "execute_result"
        }
      ],
      "source": [
        "def remove_duplicates_preserve_order(input_list):\n",
        "    seen = set()\n",
        "    result = []\n",
        "    for item in input_list:\n",
        "        if item not in seen:\n",
        "            seen.add(item)\n",
        "            result.append(item)\n",
        "    return result\n",
        "\n",
        "my_list = [1, 2, 7, 8, 7, 2, 3, 5, 3, 7]\n",
        "unique_list = remove_duplicates_preserve_order(my_list)\n",
        "unique_list"
      ]
    },
    {
      "cell_type": "markdown",
      "metadata": {
        "id": "rqIf7Llgvda1"
      },
      "source": [
        "16. Create a code to check if a given list is sorted (either in ascending or descending order) or not"
      ]
    },
    {
      "cell_type": "code",
      "execution_count": null,
      "metadata": {
        "colab": {
          "base_uri": "https://localhost:8080/"
        },
        "id": "CJEsni_Vvp1_",
        "outputId": "8dff6207-b9e6-4153-9cf6-0894e8726a39"
      },
      "outputs": [
        {
          "name": "stdout",
          "output_type": "stream",
          "text": [
            "[1, 2, 3, 4, 5] is sorted: True\n",
            "[5, 4, 3, 2, 1] is sorted: True\n",
            "[1, 3, 2, 4, 5] is sorted: False\n"
          ]
        }
      ],
      "source": [
        "def is_sorted(input_list):\n",
        "    \"\"\"Checks if a list is sorted (ascending or descending).\"\"\"\n",
        "    n = len(input_list)\n",
        "    if n <= 1:\n",
        "        return True  # A list with 0 or 1 elements is considered sorted\n",
        "\n",
        "    ascending = all(input_list[i] <= input_list[i + 1] for i in range(n - 1))\n",
        "    descending = all(input_list[i] >= input_list[i + 1] for i in range(n - 1))\n",
        "\n",
        "    return ascending or descending\n",
        "\n",
        "my_list1 = [1, 2, 3, 4, 5]\n",
        "my_list2 = [5, 4, 3, 2, 1]\n",
        "my_list3 = [1, 3, 2, 4, 5]\n",
        "\n",
        "print(f\"{my_list1} is sorted: {is_sorted(my_list1)}\")  # Output: True\n",
        "print(f\"{my_list2} is sorted: {is_sorted(my_list2)}\")  # Output: True\n",
        "print(f\"{my_list3} is sorted: {is_sorted(my_list3)}\")  # Output: False"
      ]
    },
    {
      "cell_type": "markdown",
      "metadata": {
        "id": "oruUU6rgvw-C"
      },
      "source": [
        "17. Write a code to merge two sorted lists into a single sorted list"
      ]
    },
    {
      "cell_type": "code",
      "execution_count": null,
      "metadata": {
        "colab": {
          "base_uri": "https://localhost:8080/"
        },
        "id": "AF8rrPFEwMBO",
        "outputId": "8fe5c3c1-2b76-4158-cbed-2bb87841179e"
      },
      "outputs": [
        {
          "name": "stdout",
          "output_type": "stream",
          "text": [
            "[1, 2, 3, 5, 7, 8, 9, 10, 12]\n"
          ]
        }
      ],
      "source": [
        "def merge_sorted_lists(list1, list2):\n",
        "\n",
        "    merged_list = []\n",
        "    i = j = 0\n",
        "    while i < len(list1) and j < len(list2):\n",
        "        if list1[i] <= list2[j]:\n",
        "            merged_list.append(list1[i])\n",
        "            i += 1\n",
        "        else:\n",
        "            merged_list.append(list2[j])\n",
        "            j += 1\n",
        "    merged_list.extend(list1[i:])\n",
        "    merged_list.extend(list2[j:])\n",
        "    return merged_list\n",
        "\n",
        "list1 = [2, 5, 8, 12]\n",
        "list2 = [1, 3, 7, 9, 10]\n",
        "merged_list = merge_sorted_lists(list1, list2)\n",
        "print(merged_list)"
      ]
    },
    {
      "cell_type": "markdown",
      "metadata": {
        "id": "YXMhl1XvwbR-"
      },
      "source": [
        "18. Implement a code to find the intersection of two given lists"
      ]
    },
    {
      "cell_type": "code",
      "execution_count": null,
      "metadata": {
        "colab": {
          "base_uri": "https://localhost:8080/"
        },
        "id": "kDc9BIwTxdqI",
        "outputId": "3b7e7d41-870d-4007-ef91-1f3d3023d961"
      },
      "outputs": [
        {
          "name": "stdout",
          "output_type": "stream",
          "text": [
            "[3, 5]\n"
          ]
        }
      ],
      "source": [
        "def find_intersection(list1, list2):\n",
        "    \"\"\"Finds the intersection of two lists.\"\"\"\n",
        "    return list(set(list1) & set(list2))\n",
        "\n",
        "list1 = [1, 2, 3, 4, 5]\n",
        "list2 = [3, 5, 6, 7, 8]\n",
        "intersection = find_intersection(list1, list2)\n",
        "print(intersection)"
      ]
    },
    {
      "cell_type": "markdown",
      "metadata": {
        "id": "VT7oVZSoxjCu"
      },
      "source": [
        "19. Create a code to find the union of two lists without duplicates"
      ]
    },
    {
      "cell_type": "code",
      "execution_count": null,
      "metadata": {
        "colab": {
          "base_uri": "https://localhost:8080/"
        },
        "id": "Nphyuxwqx8gU",
        "outputId": "5603456d-2fd8-470d-8838-25273a4f3079"
      },
      "outputs": [
        {
          "data": {
            "text/plain": [
              "[1, 2, 3, 4, 5, 6, 7, 8]"
            ]
          },
          "execution_count": 34,
          "metadata": {},
          "output_type": "execute_result"
        }
      ],
      "source": [
        "def find_union(list1, list2):\n",
        "\n",
        "    return list(set(list1) | set(list2))\n",
        "\n",
        "list1 = [1, 2, 3, 4, 5]\n",
        "list2 = [3, 5, 6, 7, 8]\n",
        "union = find_union(list1, list2)\n",
        "union"
      ]
    },
    {
      "cell_type": "markdown",
      "metadata": {
        "id": "p8vrmH5hyA9d"
      },
      "source": [
        "20. Write a code to shuffle a given list randomly without using any built-in shuffle functions"
      ]
    },
    {
      "cell_type": "code",
      "execution_count": null,
      "metadata": {
        "colab": {
          "base_uri": "https://localhost:8080/"
        },
        "id": "_HwGhEfWyeoP",
        "outputId": "5220149c-3a8a-4883-93b8-fbd7678bff5c"
      },
      "outputs": [
        {
          "data": {
            "text/plain": [
              "[10, 3, 5, 9, 6, 1, 2, 7, 4, 8]"
            ]
          },
          "execution_count": 35,
          "metadata": {},
          "output_type": "execute_result"
        }
      ],
      "source": [
        "import random\n",
        "\n",
        "def shuffle_list(data):\n",
        "    n = len(data)\n",
        "    for i in range(n - 1, 0, -1):\n",
        "        j = random.randint(0, i)\n",
        "        data[i], data[j] = data[j], data[i]\n",
        "    return data\n",
        "\n",
        "my_list = [1, 2, 3, 4, 5, 6, 7, 8, 9, 10]\n",
        "shuffled_list = shuffle_list(my_list)\n",
        "shuffled_list"
      ]
    },
    {
      "cell_type": "markdown",
      "metadata": {
        "id": "O9CeH72NyiE0"
      },
      "source": [
        "21. Write a code that takes two tuples as input and returns a new tuple containing elements that are\n",
        "common to both input tuples"
      ]
    },
    {
      "cell_type": "code",
      "execution_count": null,
      "metadata": {
        "id": "6JYNjG40LcxI"
      },
      "outputs": [],
      "source": [
        "def common_elements_tuples(tuple1, tuple2):\n",
        "    tuple1 = [1, 3, 5, 7]\n",
        "    tuple2 = [2, 4, 9, 8]\n",
        "    common_elements = tuple([element for element in tuple1 if element in tuple2])\n",
        "    return common_elements"
      ]
    },
    {
      "cell_type": "markdown",
      "metadata": {
        "id": "uMREzbt6LjHF"
      },
      "source": [
        "22. Create a code that prompts the user to enter two sets of integers separated by commas. Then, print the\n",
        "intersection of these two sets"
      ]
    },
    {
      "cell_type": "markdown",
      "source": [
        "23. Write a code to concatenate two tuples. The function should take two tuples as input and return a new\n",
        "tuple containing elements from both input tuples."
      ],
      "metadata": {
        "id": "Htgqd8abgEKK"
      }
    },
    {
      "cell_type": "code",
      "source": [
        "def concatenate_tuples(tuple1, tuple2):\n",
        "    \"\"\"Concatenates two tuples and returns a new tuple.\"\"\"\n",
        "    return tuple1 + tuple2\n"
      ],
      "metadata": {
        "id": "25qnyE8qhGjW"
      },
      "execution_count": null,
      "outputs": []
    },
    {
      "cell_type": "markdown",
      "source": [
        "24.  Develop a code that prompts the user to input two sets of strings. Then, print the elements that are\n",
        "present in the first set but not in the second set."
      ],
      "metadata": {
        "id": "GlnEvvy9eCwh"
      }
    },
    {
      "cell_type": "code",
      "source": [
        "def set_difference():\n",
        "    try:\n",
        "        set1_str = input(\"Enter the first set of strings separated by commas: \")\n",
        "        set2_str = input(\"Enter the second set of strings separated by commas: \")\n",
        "        set1 = set(s.strip() for s in set1_str.split(','))\n",
        "        set2 = set(s.strip() for s in set2_str.split(','))\n",
        "\n",
        "        difference = set1 - set2\n",
        "\n",
        "        print(\"Elements in the first set but not in the second set:\")\n",
        "        for element in difference:\n",
        "            print(element)\n",
        "\n",
        "    except ValueError:\n",
        "        print(\"Invalid input. Please enter comma-separated strings for both sets.\")\n",
        "\n",
        "set_difference()"
      ],
      "metadata": {
        "id": "q57txfQAeQ9r"
      },
      "execution_count": null,
      "outputs": []
    },
    {
      "cell_type": "markdown",
      "source": [
        "25. Create a code that takes a tuple and two integers as input. The function should return a new tuple\n",
        "containing elements from the original tuple within the specified range of indices"
      ],
      "metadata": {
        "id": "b-T51Sope6VQ"
      }
    },
    {
      "cell_type": "code",
      "source": [
        "def sub_tuple(input_tuple, start_index, end_index):\n",
        "\n",
        "    if not isinstance(input_tuple, tuple):\n",
        "        raise TypeError(\"Input must be a tuple.\")\n",
        "\n",
        "    if not isinstance(start_index, int) or not isinstance(end_index, int):\n",
        "        raise TypeError(\"Start and end indices must be integers.\")\n",
        "\n",
        "    if start_index < 0 or end_index >= len(input_tuple) or start_index > end_index:\n",
        "        raise ValueError(\"Invalid start or end indices.\")\n",
        "\n",
        "    return input_tuple[start_index:end_index+1]"
      ],
      "metadata": {
        "id": "wBI8Q-2kfI3v"
      },
      "execution_count": null,
      "outputs": []
    },
    {
      "cell_type": "markdown",
      "source": [
        "26. Write a code that prompts the user to input two sets of characters. Then, print the union of these two sets&"
      ],
      "metadata": {
        "id": "gr9BLmmMfQCZ"
      }
    },
    {
      "cell_type": "code",
      "source": [
        "def set_union():\n",
        "    try:\n",
        "        set1_str = input(\"Enter the first set of characters separated by commas: \")\n",
        "        set2_str = input(\"Enter the second set of characters separated by commas: \")\n",
        "        set1 = set(s.strip() for s in set1_str.split(','))\n",
        "        set2 = set(s.strip() for s in set2_str.split(','))\n",
        "\n",
        "        union_set = set1 | set2\n",
        "\n",
        "        print(\"Union of the two sets:\")\n",
        "        print(union_set)\n",
        "\n",
        "    except ValueError:\n",
        "        print(\"Invalid input. Please enter comma-separated characters for both sets.\")\n",
        "\n",
        "set_union()"
      ],
      "metadata": {
        "id": "EvaqBGaDffu5"
      },
      "execution_count": null,
      "outputs": []
    },
    {
      "cell_type": "markdown",
      "source": [
        "27. Develop a code that takes a tuple of integers as input. The function should return the maximum and\n",
        "minimum values from the tuple using tuple unpacking"
      ],
      "metadata": {
        "id": "Nw5GLwMXfn5v"
      }
    },
    {
      "cell_type": "code",
      "source": [
        "def find_min_max(input_tuple):\n",
        "    if not input_tuple:\n",
        "        return \"Tuple is empty\"\n",
        "\n",
        "    if not all(isinstance(item, int) for item in input_tuple):\n",
        "        return \"Tuple must contain only integers\"\n",
        "\n",
        "    min_val = input_tuple[0]\n",
        "    max_val = input_tuple[0]\n",
        "\n",
        "    for num in input_tuple:\n",
        "        if num < min_val:\n",
        "            min_val = num\n",
        "        if num > max_val:\n",
        "            max_val = num\n",
        "\n",
        "    return min_val, max_val"
      ],
      "metadata": {
        "id": "p-PLxihsf78H"
      },
      "execution_count": null,
      "outputs": []
    },
    {
      "cell_type": "markdown",
      "source": [
        "28. Create a code that defines two sets of integers. Then, print the union, intersection, and difference of these\n",
        "two sets"
      ],
      "metadata": {
        "id": "2mw5ig3FgVkF"
      }
    },
    {
      "cell_type": "code",
      "source": [
        "set1 = {1, 2, 3, 4, 5}\n",
        "set2 = {4, 5, 6, 7, 8}\n",
        "\n",
        "# Union of two sets\n",
        "union_set = set1 | set2\n",
        "print(\"Union:\", union_set)\n",
        "\n",
        "# Intersection of two sets\n",
        "intersection_set = set1 & set2\n",
        "print(\"Intersection:\", intersection_set)\n",
        "\n",
        "# Difference of two sets (elements in set1 but not in set2)\n",
        "difference_set = set1 - set2\n",
        "print(\"Difference (set1 - set2):\", difference_set)"
      ],
      "metadata": {
        "id": "3LGov2JKgsbf",
        "colab": {
          "base_uri": "https://localhost:8080/"
        },
        "outputId": "73ad503c-43f8-4ec6-8272-607f8d6dacc2"
      },
      "execution_count": null,
      "outputs": [
        {
          "output_type": "stream",
          "name": "stdout",
          "text": [
            "Union: {1, 2, 3, 4, 5, 6, 7, 8}\n",
            "Intersection: {4, 5}\n",
            "Difference (set1 - set2): {1, 2, 3}\n"
          ]
        }
      ]
    },
    {
      "cell_type": "markdown",
      "source": [
        "29. Write a code that takes a tuple and an element as input. The function should return the count of\n",
        "occurrences of the given element in the tuple&"
      ],
      "metadata": {
        "id": "My_hj-tkp3Kg"
      }
    },
    {
      "cell_type": "code",
      "source": [
        "def count_occurrences(input_tuple, element):\n",
        "    \"\"\"Counts the occurrences of an element in a tuple.\"\"\"\n",
        "    return input_tuple.count(element)"
      ],
      "metadata": {
        "id": "4QlR1ok6qIpv"
      },
      "execution_count": null,
      "outputs": []
    },
    {
      "cell_type": "markdown",
      "source": [
        "30. Develop a code that prompts the user to input two sets of strings. Then, print the symmetric difference of\n",
        "these two sets"
      ],
      "metadata": {
        "id": "MUJcvKKUqLWx"
      }
    },
    {
      "cell_type": "code",
      "source": [
        "def symmetric_difference_sets():\n",
        "    try:\n",
        "        set1_str = input(\"Enter the first set of strings separated by commas: \")\n",
        "        set2_str = input(\"Enter the second set of strings separated by commas: \")\n",
        "        set1 = set(s.strip() for s in set1_str.split(','))\n",
        "        set2 = set(s.strip() for s in set2_str.split(','))\n",
        "\n",
        "        symmetric_diff = set1 ^ set2\n",
        "\n",
        "        print(\"Symmetric difference of the two sets:\")\n",
        "        print(symmetric_diff)\n",
        "\n",
        "    except ValueError:\n",
        "        print(\"Invalid input. Please enter comma-separated strings for both sets.\")\n",
        "\n",
        "symmetric_difference_sets()"
      ],
      "metadata": {
        "id": "yFgsVTs52OZ9"
      },
      "execution_count": null,
      "outputs": []
    },
    {
      "cell_type": "markdown",
      "source": [
        "31. Write a code that takes a list of words as input and returns a dictionary where the keys are unique words\n",
        "and the values are the frequencies of those words in the input list"
      ],
      "metadata": {
        "id": "orsjhtaXrn0A"
      }
    },
    {
      "cell_type": "code",
      "source": [
        "def word_frequencies(word_list):\n",
        "    word_counts = {}\n",
        "    for word in word_list:\n",
        "        word = word.lower()\n",
        "        if word in word_counts:\n",
        "            word_counts[word] += 1\n",
        "        else:\n",
        "            word_counts[word] = 1\n",
        "    return word_counts"
      ],
      "metadata": {
        "id": "gBq9YF6srxCl"
      },
      "execution_count": null,
      "outputs": []
    },
    {
      "cell_type": "markdown",
      "source": [
        "32. Write a code that takes two dictionaries as input and merges them into a single dictionary. If there are\n",
        "common keys, the values should be added together"
      ],
      "metadata": {
        "id": "ypwsCwZgsXpb"
      }
    },
    {
      "cell_type": "code",
      "source": [
        "def merge_dictionaries(dict1, dict2):\n",
        "    dict1 = {'a': 1, 'b': 2, 'c': 3}\n",
        "    dict2 = {'b': 4, 'c': 5, 'd': 6}\n",
        "    merged = dict1.copy()\n",
        "    for key, value in dict2.items():\n",
        "        if key in merged:\n",
        "            merged[key] += value\n",
        "        else:\n",
        "            merged[key] = value\n",
        "    return merged"
      ],
      "metadata": {
        "id": "wPYvHI1ctAWv"
      },
      "execution_count": null,
      "outputs": []
    },
    {
      "cell_type": "markdown",
      "source": [
        "33. Write a code to access a value in a nested dictionary. The function should take the dictionary and a list of\n",
        "keys as input, and return the corresponding value. If any of the keys do not exist in the dictionary, the\n",
        "function should return None"
      ],
      "metadata": {
        "id": "Pp0T5bBXtNr8"
      }
    },
    {
      "cell_type": "code",
      "source": [
        "def access_nested_value(data, keys):\n",
        "    current_level = data\n",
        "    for key in keys:\n",
        "        if isinstance(current_level, dict) and key in current_level:\n",
        "            current_level = current_level[key]\n",
        "        else:\n",
        "            return None\n",
        "    return current_level"
      ],
      "metadata": {
        "id": "3EPFtVBgta_i"
      },
      "execution_count": null,
      "outputs": []
    },
    {
      "cell_type": "markdown",
      "source": [
        "34. Write a code that takes a dictionary as input and returns a sorted version of it based on the values. You\n",
        "can choose whether to sort in ascending or descending order"
      ],
      "metadata": {
        "id": "cfxWkZlItguj"
      }
    },
    {
      "cell_type": "code",
      "source": [
        "def sort_dictionary_by_values(input_dict, ascending=True):\n",
        "\n",
        "    sorted_items = sorted(input_dict.items(), key=lambda item: item[1], reverse=not ascending)\n",
        "    return dict(sorted_items)\n",
        "my_dict = {'apple': 20, 'banana': 25, 'cherry': 70, 'date': 120}\n",
        "\n",
        "ascending_sorted_dict = sort_dictionary_by_values(my_dict)\n",
        "print(\"Ascending order:\", ascending_sorted_dict)\n",
        "\n",
        "descending_sorted_dict = sort_dictionary_by_values(my_dict, ascending=False)\n",
        "print(\"Descending order:\", descending_sorted_dict)"
      ],
      "metadata": {
        "colab": {
          "base_uri": "https://localhost:8080/"
        },
        "id": "NXHVEyZ6t5UW",
        "outputId": "d226ae3e-a9e1-4085-cc0b-fea8b8493bd5"
      },
      "execution_count": null,
      "outputs": [
        {
          "output_type": "stream",
          "name": "stdout",
          "text": [
            "Ascending order: {'apple': 20, 'banana': 25, 'cherry': 70, 'date': 120}\n",
            "Descending order: {'date': 120, 'cherry': 70, 'banana': 25, 'apple': 20}\n"
          ]
        }
      ]
    },
    {
      "cell_type": "markdown",
      "source": [
        "35. Write a code that inverts a dictionary, swapping keys and values. Ensure that the inverted dictionary\n",
        "correctly handles cases where multiple keys have the same value by storing the keys as a list in the\n",
        "inverted dictionary."
      ],
      "metadata": {
        "id": "ArodmINHuSKG"
      }
    },
    {
      "cell_type": "code",
      "source": [
        "def invert_dictionary(input_dict):\n",
        "    inverted_dict = {}\n",
        "    for key, value in input_dict.items():\n",
        "        if value not in inverted_dict:\n",
        "            inverted_dict[value] = [key]\n",
        "        else:\n",
        "            inverted_dict[value].append(key)\n",
        "    return inverted_dict"
      ],
      "metadata": {
        "id": "hCuNQY0RufgY"
      },
      "execution_count": null,
      "outputs": []
    }
  ],
  "metadata": {
    "colab": {
      "provenance": []
    },
    "kernelspec": {
      "display_name": "Python 3",
      "name": "python3"
    },
    "language_info": {
      "name": "python"
    }
  },
  "nbformat": 4,
  "nbformat_minor": 0
}