{
  "cells": [
    {
      "cell_type": "markdown",
      "metadata": {
        "id": "jP1WVzLr1m0T"
      },
      "source": [
        "Theory Question"
      ]
    },
    {
      "cell_type": "markdown",
      "metadata": {
        "id": "a9a3vLbm1qxd"
      },
      "source": [
        "1.What is the difference between a function and a method in Python?\n",
        "\n",
        "Answer: Function is a structure ,reusable code block utilized for carrying out a specific task.\n",
        "\n",
        "Functions facilitate the creation of modular code , simplifying and reuseability.\n",
        "\n",
        "Example:\n",
        "\n",
        "def add(x, y):\n",
        "    return x+y\n",
        "result = add(5,3)\n",
        "result\n",
        "\n",
        "Method is defined inside the object.\n",
        "\n",
        "Example: class math:\n",
        "\n",
        "def add(self,x,y)\n",
        "        return x+y"
      ]
    },
    {
      "cell_type": "markdown",
      "metadata": {
        "id": "Z-hRKbCQ1zZW"
      },
      "source": [
        "2. Explain the concept of function arguments and parameters in Python.\n",
        "\n",
        "Answer: the concept of function arguments and parameters in python is the variavbles passed into the function .\n",
        "\n",
        "The functions can have multiple parameters or none at all.\n",
        "\n",
        "\n",
        "Example:\n",
        "\n",
        "def sub(x, y)\n",
        "    return x - y\n",
        "result\n",
        "\n"
      ]
    },
    {
      "cell_type": "code",
      "source": [
        "def sub(x, y):\n",
        "    return x - y\n",
        "result = sub(10, 7)\n",
        "result"
      ],
      "metadata": {
        "colab": {
          "base_uri": "https://localhost:8080/"
        },
        "id": "Eak8DzEB_13B",
        "outputId": "6931b86a-9d14-49b0-b02d-c762bea91224"
      },
      "execution_count": null,
      "outputs": [
        {
          "output_type": "execute_result",
          "data": {
            "text/plain": [
              "3"
            ]
          },
          "metadata": {},
          "execution_count": 105
        }
      ]
    },
    {
      "cell_type": "markdown",
      "metadata": {
        "id": "02npINXx14ly"
      },
      "source": [
        "3. What are the different ways to define and call a function in Python?\n",
        "\n",
        "Answer: The different ways to define and call a function in python is -\n",
        "\n",
        "1. Parameters\n",
        "2. Docstrings\n",
        "3. code Block\n",
        "4. Return Statement\n",
        "\n",
        "Example:"
      ]
    },
    {
      "cell_type": "code",
      "source": [
        "def multi(x, y):\n",
        "    return x * y\n",
        "    result = (5686, 47166)\n",
        "    result"
      ],
      "metadata": {
        "id": "oTynfV1eAMcW"
      },
      "execution_count": null,
      "outputs": []
    },
    {
      "cell_type": "code",
      "source": [
        "def fruits_name(orange):\n",
        "    \"\"\"docstring\"\"\"\n",
        "    statements(s)\n",
        "    return[fruits_name]\n"
      ],
      "metadata": {
        "id": "wup_wqUHAqFj"
      },
      "execution_count": null,
      "outputs": []
    },
    {
      "cell_type": "markdown",
      "metadata": {
        "id": "1NhxwRw_1vLE"
      },
      "source": [
        "4. What is the purpose of the `return` statement in a Python function?\n",
        "\n",
        "Answer: The purpose of the return statement in a python function is to determine the value that the function will return . If not included the function defaults to returning None.\n",
        "\n",
        "\n",
        "Example:\n",
        "\n",
        "\n"
      ]
    },
    {
      "cell_type": "code",
      "source": [
        "def add(x, y):\n",
        "    return x + y\n",
        "result = add(556, 556)\n",
        "result"
      ],
      "metadata": {
        "colab": {
          "base_uri": "https://localhost:8080/"
        },
        "id": "atOZkf31CgpT",
        "outputId": "50b9488d-9b88-45b7-df3f-60c67633ef6d"
      },
      "execution_count": null,
      "outputs": [
        {
          "output_type": "execute_result",
          "data": {
            "text/plain": [
              "1112"
            ]
          },
          "metadata": {},
          "execution_count": 113
        }
      ]
    },
    {
      "cell_type": "markdown",
      "metadata": {
        "id": "_hAmxaef19nY"
      },
      "source": [
        "5. What are iterators in Python and how do they differ from iterables?\n",
        "\n",
        "Answer:An iterators is an object that allows traversal through a countable numbers of values .\n",
        "\n",
        "They differs from iterables by using iterable objects like tuples, sets , lits etc.\n",
        "\n",
        "Example:"
      ]
    },
    {
      "cell_type": "code",
      "source": [
        "iter_list = iter(['50', '70', '80', '100'])\n",
        "print(next(iter_list))\n",
        "print(next(iter_list))\n",
        "print(next(iter_list))\n",
        "print(next(iter_list))"
      ],
      "metadata": {
        "colab": {
          "base_uri": "https://localhost:8080/"
        },
        "id": "SDoijOSFDNjX",
        "outputId": "02fa741b-3b26-498d-f606-a719c2a2bf96"
      },
      "execution_count": null,
      "outputs": [
        {
          "output_type": "stream",
          "name": "stdout",
          "text": [
            "50\n",
            "70\n",
            "80\n",
            "100\n"
          ]
        }
      ]
    },
    {
      "cell_type": "markdown",
      "metadata": {
        "id": "cmajrpO22Ac1"
      },
      "source": [
        "6. Explain the concept of generators in Python and how they are defined.\n",
        "\n",
        "Answer:The Generators are a simple way to create iterators using functions and the yeild keyword instead of returning value.\n",
        "\n",
        "Example:"
      ]
    },
    {
      "cell_type": "code",
      "source": [
        "def countdown(n):\n",
        "    while n > 0:\n",
        "        yield n\n",
        "        n -=1\n",
        "\n",
        "# creating a generator\n",
        "gen = countdown(10)\n",
        "\n",
        "# using the generator\n",
        "for num in gen:\n",
        "    print(num)"
      ],
      "metadata": {
        "colab": {
          "base_uri": "https://localhost:8080/"
        },
        "id": "3t_9wbEECICb",
        "outputId": "5aa675f1-2853-41f5-a0d8-e3fba4a875cc"
      },
      "execution_count": null,
      "outputs": [
        {
          "output_type": "stream",
          "name": "stdout",
          "text": [
            "10\n",
            "9\n",
            "8\n",
            "7\n",
            "6\n",
            "5\n",
            "4\n",
            "3\n",
            "2\n",
            "1\n"
          ]
        }
      ]
    },
    {
      "cell_type": "markdown",
      "metadata": {
        "id": "kEiLpakI2DbV"
      },
      "source": [
        "7. What are the advantages of using generators over regular functions?\n",
        "\n",
        "Answer: The advantages of using generators over regular functions is -\n",
        "\n",
        "1.Efficient Memory usage: Generators do not store the entiresequence in memory making them suitable for large datasets or infinite sequences.\n",
        "\n",
        "2.Simpler syntex : Using yeild simplifies the creations of iterators making the code more concise and readable.\n",
        "\n",
        "Example:\n",
        "\n"
      ]
    },
    {
      "cell_type": "code",
      "source": [
        "def countdown(n):\n",
        "  while n >0:\n",
        "   yield n\n",
        "   n -= 1\n",
        "\n",
        "#creating a generator\n",
        "gen = countdown(8)\n",
        "\n",
        "#using  the generator\n",
        "for num in gen:\n",
        "  print(num)\n"
      ],
      "metadata": {
        "colab": {
          "base_uri": "https://localhost:8080/"
        },
        "id": "iXEZtcBreTyA",
        "outputId": "3c482e98-8d1c-4f83-9ef0-c98abb9dd7d7"
      },
      "execution_count": 45,
      "outputs": [
        {
          "output_type": "stream",
          "name": "stdout",
          "text": [
            "8\n",
            "7\n",
            "6\n",
            "5\n",
            "4\n",
            "3\n",
            "2\n",
            "1\n"
          ]
        }
      ]
    },
    {
      "cell_type": "markdown",
      "metadata": {
        "id": "JsakRIzH2GLO"
      },
      "source": [
        "8. What is a lambda function in Python and when is it typically used?\n",
        "\n",
        "Answer:Lambda function are samll anonymous functions defined using the lambda keyword.\n",
        "\n",
        "They are typically used for creating mall , throwaway functions without the need to form all\n",
        "defined using def.\n",
        "\n",
        "Example:"
      ]
    },
    {
      "cell_type": "code",
      "source": [
        "square = lambda x: x + x\n",
        "print(square(45))"
      ],
      "metadata": {
        "colab": {
          "base_uri": "https://localhost:8080/"
        },
        "id": "ltgIkLbuFdwT",
        "outputId": "42d51b93-83ee-4d95-a94f-da65e30fc6da"
      },
      "execution_count": null,
      "outputs": [
        {
          "output_type": "stream",
          "name": "stdout",
          "text": [
            "90\n"
          ]
        }
      ]
    },
    {
      "cell_type": "markdown",
      "metadata": {
        "id": "V-WCAez02Jdw"
      },
      "source": [
        "9. Explain the purpose and usage of the `map()` function in Python.\n",
        "\n",
        "Answer: The purpose of the 'map' function applies a givwn function to all items in an input iterables and returns an iterators with the results.\n",
        "\n",
        "It is used to transform each item in an iterable by applying the specified function.\n",
        "\n",
        "\n",
        "Example:"
      ]
    },
    {
      "cell_type": "code",
      "source": [
        "numbers = [8, 8, 3, 7]\n",
        "squared = map(lambda x: x + x, numbers)\n",
        "print(list(squared))"
      ],
      "metadata": {
        "colab": {
          "base_uri": "https://localhost:8080/"
        },
        "id": "5QvcQW7XFzMC",
        "outputId": "e15cc98f-b9a0-493e-df5c-5fb74d34e75b"
      },
      "execution_count": null,
      "outputs": [
        {
          "output_type": "stream",
          "name": "stdout",
          "text": [
            "[16, 16, 6, 14]\n"
          ]
        }
      ]
    },
    {
      "cell_type": "markdown",
      "metadata": {
        "id": "NNATzuD02Ptu"
      },
      "source": [
        "10. What is the difference between `map()`, `reduce()`, and `filter()` functions in Python?\n",
        "\n",
        "Answer: The difference is\n",
        "\n",
        "Map functions applies a given function to all items in an input iterable and returns an iterator with the results.\n",
        "\n",
        "Rduced function is from the functools module applies a given function cumulatively to the items of sequence from left to right , to reduce the sequence to a single value\n",
        "\n",
        "Filter function is to constructs an iterator from elements of an iterable fpor which a specified function returns True.\n",
        "\n",
        "\n",
        "Example:\n"
      ]
    },
    {
      "cell_type": "code",
      "source": [
        "numbers = [9, 5, 4, 9]\n",
        "squared = map(lambda x: x -x, numbers)\n",
        "print(list(squared))"
      ],
      "metadata": {
        "colab": {
          "base_uri": "https://localhost:8080/"
        },
        "id": "3ekQcT7aGU9p",
        "outputId": "4638a5c0-ee0f-4c32-fdbb-9fb9902bf086"
      },
      "execution_count": null,
      "outputs": [
        {
          "output_type": "stream",
          "name": "stdout",
          "text": [
            "[0, 0, 0, 0]\n"
          ]
        }
      ]
    },
    {
      "cell_type": "code",
      "source": [
        "from functools import reduce\n",
        "numbers = [9, 5, 4, 9]\n",
        "sum = reduce (lambda x, y: x + x, numbers)\n",
        "print(sum)"
      ],
      "metadata": {
        "colab": {
          "base_uri": "https://localhost:8080/"
        },
        "id": "8x3C8EmsGVCg",
        "outputId": "874c4e04-d85d-4ab7-9afb-64ebbd8eff5d"
      },
      "execution_count": null,
      "outputs": [
        {
          "output_type": "stream",
          "name": "stdout",
          "text": [
            "72\n"
          ]
        }
      ]
    },
    {
      "cell_type": "code",
      "source": [
        "square = lambda x: x * x\n",
        "print(square(73))"
      ],
      "metadata": {
        "colab": {
          "base_uri": "https://localhost:8080/"
        },
        "id": "yxL79z-UH4YK",
        "outputId": "6338dbd9-20e2-4982-9bb1-555266ca9edd"
      },
      "execution_count": null,
      "outputs": [
        {
          "output_type": "stream",
          "name": "stdout",
          "text": [
            "5329\n"
          ]
        }
      ]
    },
    {
      "cell_type": "markdown",
      "metadata": {
        "id": "ufjTJKeq2TjE"
      },
      "source": [
        "11. Using pen & Paper write the internal mechanism for sum operation using  reduce function on this given\n",
        "list:[47,11,42,13]\n",
        "\n",
        "Answer:"
      ]
    },
    {
      "cell_type": "code",
      "source": [
        "from functools import reduce\n",
        "numbers = [47, 11, 42, 13]\n",
        "sum = reduce (lambda x, y: x+y, numbers)\n",
        "print(sum)"
      ],
      "metadata": {
        "colab": {
          "base_uri": "https://localhost:8080/"
        },
        "id": "bIdC8czXxdbH",
        "outputId": "9f353b75-5fb3-4682-b128-66f6f6506f62"
      },
      "execution_count": null,
      "outputs": [
        {
          "output_type": "stream",
          "name": "stdout",
          "text": [
            "113\n"
          ]
        }
      ]
    },
    {
      "cell_type": "markdown",
      "metadata": {
        "id": "_95-iLcdBmKN"
      },
      "source": [
        "PRACTICAL QUESTION\n",
        "\n"
      ]
    },
    {
      "cell_type": "markdown",
      "metadata": {
        "id": "BrVin8GNBZYf"
      },
      "source": [
        "1. Write a Python function that takes a list of numbers as input and returns the sum of all even numbers in\n",
        "the list.\n",
        "\n"
      ]
    },
    {
      "cell_type": "code",
      "execution_count": null,
      "metadata": {
        "colab": {
          "base_uri": "https://localhost:8080/"
        },
        "id": "f5-7cl9hCYLv",
        "outputId": "50a3e66a-a781-4f5e-c1f6-01f810e2a49a"
      },
      "outputs": [
        {
          "data": {
            "text/plain": [
              "4"
            ]
          },
          "execution_count": 1,
          "metadata": {},
          "output_type": "execute_result"
        }
      ],
      "source": [
        "def add(x, y):\n",
        "    return x + y\n",
        "result = add(4, 0)\n",
        "result\n"
      ]
    },
    {
      "cell_type": "markdown",
      "metadata": {
        "id": "94E81XlwBfKA"
      },
      "source": [
        "2. Create a Python function that accepts a string and returns the reverse of that string."
      ]
    },
    {
      "cell_type": "code",
      "execution_count": null,
      "metadata": {
        "id": "HpUCyuonC1Ln"
      },
      "outputs": [],
      "source": [
        "def function_name(parameters):\n",
        "    \"\"\"docstring\"\"\"\n",
        "    statement(s)\n",
        "    return [expression]"
      ]
    },
    {
      "cell_type": "code",
      "execution_count": null,
      "metadata": {
        "id": "mw8rpLmnFDis"
      },
      "outputs": [],
      "source": [
        "def function_name(nilofa):\n",
        "    \"\"\"docstrings\"\"\"\n",
        "    statement(s)\n",
        "    return [expression]"
      ]
    },
    {
      "cell_type": "markdown",
      "metadata": {
        "id": "6cmz73oKBjTx"
      },
      "source": [
        "3. Implement a Python function that takes a list of integers and returns a new list containing the squares of\n",
        "each number."
      ]
    },
    {
      "cell_type": "code",
      "execution_count": null,
      "metadata": {
        "colab": {
          "base_uri": "https://localhost:8080/"
        },
        "id": "uAqVxdZZC2kT",
        "outputId": "be2eb9ac-8987-4db1-f1f6-9cba488532df"
      },
      "outputs": [
        {
          "name": "stdout",
          "output_type": "stream",
          "text": [
            "9\n"
          ]
        }
      ],
      "source": [
        "square = lambda x: x*x\n",
        "print(square(3))"
      ]
    },
    {
      "cell_type": "markdown",
      "metadata": {
        "id": "JNmQeV26Bqtv"
      },
      "source": [
        "4. Write a Python function that checks if a given number is prime or not from 1 to 200.\n",
        "\n",
        "\n"
      ]
    },
    {
      "cell_type": "code",
      "source": [
        "# prime function to check the given number prime or not\n",
        "def prime (number, iter):\n",
        "#base condition\n",
        "\n",
        "  if iter == 1 or iter == 200:\n",
        "     return true\n"
      ],
      "metadata": {
        "id": "2pQN_r76YE5O"
      },
      "execution_count": 35,
      "outputs": []
    },
    {
      "cell_type": "markdown",
      "metadata": {
        "id": "NIyG8F-PBu4Z"
      },
      "source": [
        "5. Create an iterator class in Python that generates the Fibonacci sequence up to a specified number of\n",
        "terms."
      ]
    },
    {
      "cell_type": "code",
      "source": [
        "iter_list =iter(['Dog', 'Snake', 'Crow'])\n",
        "print(next(iter_list))\n",
        "print(next(iter_list))\n",
        "print(next(iter_list))"
      ],
      "metadata": {
        "colab": {
          "base_uri": "https://localhost:8080/"
        },
        "id": "KKO0yfe1scwC",
        "outputId": "c4fa0191-4165-4902-c732-ef9d62d13500"
      },
      "execution_count": null,
      "outputs": [
        {
          "output_type": "stream",
          "name": "stdout",
          "text": [
            "Dog\n",
            "Snake\n",
            "Crow\n"
          ]
        }
      ]
    },
    {
      "cell_type": "markdown",
      "metadata": {
        "id": "oe1ToU3YB2uQ"
      },
      "source": [
        "6. Write a generator function in Python that yields the powers of 2 up to a given exponent.\n",
        "\n"
      ]
    },
    {
      "cell_type": "code",
      "execution_count": null,
      "metadata": {
        "colab": {
          "base_uri": "https://localhost:8080/"
        },
        "id": "TToq4t3QJk8H",
        "outputId": "f4663fcf-e0e9-4c4f-a66e-7f305ea6c8ea"
      },
      "outputs": [
        {
          "name": "stdout",
          "output_type": "stream",
          "text": [
            "10\n",
            "9\n",
            "8\n",
            "7\n",
            "6\n",
            "5\n",
            "4\n",
            "3\n",
            "2\n",
            "1\n"
          ]
        }
      ],
      "source": [
        "def countdown(n):\n",
        "    while n >0:\n",
        "       yield n\n",
        "       n -=1\n",
        "# creating a generator\n",
        "gen = countdown(10)\n",
        "\n",
        "# using the generator\n",
        "for num in gen:\n",
        "    print(num)"
      ]
    },
    {
      "cell_type": "markdown",
      "metadata": {
        "id": "Mk8fNYI4B6qa"
      },
      "source": [
        "7. Implement a generator function that reads a file line by line and yields each line as a string."
      ]
    },
    {
      "cell_type": "code",
      "source": [],
      "metadata": {
        "id": "TqcFx4coaOMN"
      },
      "execution_count": null,
      "outputs": []
    },
    {
      "cell_type": "code",
      "execution_count": null,
      "metadata": {
        "id": "sWjTnOhwP9Rj",
        "colab": {
          "base_uri": "https://localhost:8080/"
        },
        "outputId": "2c93505e-4f25-4eb3-c2fd-fd795942aa1a"
      },
      "outputs": [
        {
          "output_type": "stream",
          "name": "stdout",
          "text": [
            "Maths\n"
          ]
        }
      ],
      "source": [
        "subject_name = ['Maths']\n",
        "\n",
        "# creating a generator\n",
        "gen = subject_name\n",
        "\n",
        "# using the generator\n",
        "for subject_name in gen:\n",
        "    print(subject_name)"
      ]
    },
    {
      "cell_type": "markdown",
      "metadata": {
        "id": "YVxKYIZ0B72m"
      },
      "source": [
        "8. Use a lambda function in Python to sort a list of tuples based on the second element of each tuple.\n",
        "\n"
      ]
    },
    {
      "cell_type": "code",
      "source": [
        "#creating a list of tuples named \"fruit_price\"\n",
        "fruit_price = [('Grapes', 100), ('Apple', 90), ('Guava', 60)]\n",
        "\n",
        "#Display the original list of tuple\n",
        "print(\"original list of tuple:\")\n",
        "print(fruit_price)\n",
        "\n",
        "# sort the fruit_price list of tuple\n",
        "# using a lambda function as a sorting key to extract the second element\n",
        "\n"
      ],
      "metadata": {
        "colab": {
          "base_uri": "https://localhost:8080/"
        },
        "id": "wyQc3HRsgt8c",
        "outputId": "052f51c8-eeac-409a-e549-9c0eeeed327d"
      },
      "execution_count": null,
      "outputs": [
        {
          "output_type": "stream",
          "name": "stdout",
          "text": [
            "original list of tuple:\n",
            "[('Grapes', 100), ('Apple', 90), ('Guava', 60)]\n"
          ]
        }
      ]
    },
    {
      "cell_type": "markdown",
      "metadata": {
        "id": "a8fKfBRpCAEx"
      },
      "source": [
        "9. Write a Python program that uses `map()` to convert a list of temperatures from Celsius to Fahrenheit."
      ]
    },
    {
      "cell_type": "code",
      "execution_count": null,
      "metadata": {
        "id": "TAunTDq2QmsP",
        "colab": {
          "base_uri": "https://localhost:8080/"
        },
        "outputId": "a9962ecf-1c25-4096-ea8a-3c4044debec3"
      },
      "outputs": [
        {
          "output_type": "stream",
          "name": "stdout",
          "text": [
            "Fahrenheit\n"
          ]
        }
      ],
      "source": [
        "#convert a list of temperature from celsius to Fahrenheit\n",
        "# Temperature in celcius degree\n",
        "celcius = 52\n",
        "#converting the temperature to\n",
        "#fehrenheit using the formula\n",
        "ferenheit = ( celcius * 9/5) + 32\n",
        "\n",
        "#print the result\n",
        "print ( \"Fahrenheit\")"
      ]
    },
    {
      "cell_type": "markdown",
      "metadata": {
        "id": "7-M1yMe8CEmc"
      },
      "source": [
        "10. Create a Python program that uses `filter()` to remove all the vowels from a given string."
      ]
    },
    {
      "cell_type": "code",
      "source": [
        "string = \"Nilofa\"\n",
        "result = string\n",
        "\n",
        "vowels = ('a','e', 'i', 'o', 'u')\n",
        "\n",
        "for x in string.lower():\n",
        "    if x in vowels:\n",
        "        result = result.replace(x, \"\")\n",
        "\n",
        "print('After removing vowels :', result)"
      ],
      "metadata": {
        "colab": {
          "base_uri": "https://localhost:8080/"
        },
        "id": "5hrOrRxDnuPf",
        "outputId": "d2b40c04-ed76-454d-f4d1-16d0ab936e40"
      },
      "execution_count": null,
      "outputs": [
        {
          "output_type": "stream",
          "name": "stdout",
          "text": [
            "After removing vowels : Nlf\n"
          ]
        }
      ]
    },
    {
      "cell_type": "markdown",
      "source": [
        "11) Imagine an accounting routine used in a book shop. It works on a list with sublists, which look like this:\n",
        "\n",
        "\n",
        "Answer:"
      ],
      "metadata": {
        "id": "6NLy0aeVIj4c"
      }
    },
    {
      "cell_type": "code",
      "source": [
        "# creating a list of tuples name (\"order number_product price\")\n",
        "ordernumber_productprice = [('34587', 40.95), ('98762', 56.80), ('77226', 32.95), ('88112', 24.99)]\n",
        "\n",
        "# display the original list of tuples\n",
        "print('original list of tuples')\n",
        "print('order number_product price')\n",
        "\n",
        "#sort the order number_product price of the tuple\n",
        "#using the lambda function as a sortning key to extract second element\n"
      ],
      "metadata": {
        "id": "-gRwbQyVJ83i",
        "colab": {
          "base_uri": "https://localhost:8080/"
        },
        "outputId": "a020cd0c-086f-415b-a78a-5f5496ddea57"
      },
      "execution_count": 11,
      "outputs": [
        {
          "output_type": "stream",
          "name": "stdout",
          "text": [
            "original list of tuples\n",
            "order number_product price\n"
          ]
        }
      ]
    },
    {
      "cell_type": "code",
      "source": [
        "numbers = (40.95, 56.80, 32.95, 24.99)\n",
        "squared = map(lambda x: x + x, numbers)\n",
        "print(list(squared))"
      ],
      "metadata": {
        "colab": {
          "base_uri": "https://localhost:8080/"
        },
        "id": "oy3QZcT9R5Ph",
        "outputId": "b8e06a2c-e0af-4536-e80c-c16a014f73ca"
      },
      "execution_count": 12,
      "outputs": [
        {
          "output_type": "stream",
          "name": "stdout",
          "text": [
            "[81.9, 113.6, 65.9, 49.98]\n"
          ]
        }
      ]
    }
  ],
  "metadata": {
    "colab": {
      "provenance": []
    },
    "kernelspec": {
      "display_name": "Python 3",
      "name": "python3"
    },
    "language_info": {
      "name": "python"
    }
  },
  "nbformat": 4,
  "nbformat_minor": 0
}