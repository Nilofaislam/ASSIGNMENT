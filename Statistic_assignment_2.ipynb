{
  "nbformat": 4,
  "nbformat_minor": 0,
  "metadata": {
    "colab": {
      "provenance": []
    },
    "kernelspec": {
      "name": "python3",
      "display_name": "Python 3"
    },
    "language_info": {
      "name": "python"
    }
  },
  "cells": [
    {
      "cell_type": "markdown",
      "source": [
        "1. Generate a list of 100 integers containing values between 90 to 130 and store it in the variable `int_list`.\n",
        "After generating the list, find the following:\n",
        "\n",
        "  \n",
        "\n",
        "  (i) Write a Python function to calculate the mean of a given list of numbers.\n",
        "\n",
        "Create a function to find the median of a list of numbers.\n",
        "\n",
        "  \n",
        "\n",
        "  (ii) Develop a program to compute the mode of a list of integers.\n",
        "\n",
        "  \n",
        "\n",
        "  (iii) Implement a function to calculate the weighted mean of a list of values and their corresponding weights.\n",
        "\n",
        "  \n",
        "\n",
        "  (iv) Write a Python function to find the geometric mean of a list of positive numbers.\n",
        "\n",
        "  \n",
        "\n",
        "  (v) Create a program to calculate the harmonic mean of a list of values.\n",
        "\n",
        "  \n",
        "\n",
        "  (vi) Build a function to determine the midrange of a list of numbers (average of the minimum and maximum).\n",
        "\n",
        "  \n",
        "\n",
        "  (vii) Implement a Python program to find the trimmed mean of a list, excluding a certain percentage of\n",
        "outliers.\n"
      ],
      "metadata": {
        "id": "D0Gbh_pCukeP"
      }
    },
    {
      "cell_type": "code",
      "source": [
        "import random\n",
        "import math\n",
        "\n",
        "# Generate a list of 100 random integers between 90 and 130\n",
        "int_list = [random.randint(90, 130) for _ in range(100)]\n",
        "\n",
        "# (i) Mean\n",
        "def calculate_mean(numbers):\n",
        "  return sum(numbers) / len(numbers)\n",
        "\n",
        "# Median\n",
        "def calculate_median(numbers):\n",
        "  sorted_numbers = sorted(numbers)\n",
        "  n = len(sorted_numbers)\n",
        "  if n % 2 == 0:\n",
        "    return (sorted_numbers[n//2 - 1] + sorted_numbers[n//2]) / 2\n",
        "  else:\n",
        "    return sorted_numbers[n//2]\n",
        "\n",
        "# (ii) Mode\n",
        "def calculate_mode(numbers):\n",
        "  counts = {}\n",
        "  for number in numbers:\n",
        "    counts[number] = counts.get(number, 0) + 1\n",
        "  max_count = 0\n",
        "  mode = None\n",
        "  for number, count in counts.items():\n",
        "    if count > max_count:\n",
        "      max_count = count\n",
        "      mode = number\n",
        "  return mode\n",
        "\n",
        "# (iii) Weighted Mean\n",
        "def calculate_weighted_mean(values, weights):\n",
        "  weighted_sum = sum(value * weight for value, weight in zip(values, weights))\n",
        "  total_weight = sum(weights)\n",
        "  return weighted_sum / total_weight\n",
        "\n",
        "# (iv) Geometric Mean\n",
        "def calculate_geometric_mean(numbers):\n",
        "  product = 1\n",
        "  for number in numbers:\n",
        "    product *= number\n",
        "  return math.pow(product, 1/len(numbers))\n",
        "\n",
        "# (v) Harmonic Mean\n",
        "def calculate_harmonic_mean(numbers):\n",
        "  reciprocals_sum = sum(1/number for number in numbers)\n",
        "  return len(numbers) / reciprocals_sum\n",
        "\n",
        "# (vi) Midrange\n",
        "def calculate_midrange(numbers):\n",
        "  return (min(numbers) + max(numbers)) / 2\n",
        "\n",
        "# (vii) Trimmed Mean\n",
        "def calculate_trimmed_mean(numbers, percentage):\n",
        "  n = len(numbers)\n",
        "  k = int(n * percentage / 100)\n",
        "  sorted_numbers = sorted(numbers)\n",
        "  trimmed_numbers = sorted_numbers[k:n-k]\n",
        "  return sum(trimmed_numbers) / len(trimmed_numbers)\n",
        "\n",
        "# Example usage:\n",
        "mean = calculate_mean(int_list)\n",
        "median = calculate_median(int_list)\n",
        "mode = calculate_mode(int_list)\n",
        "# Example for weighted mean (you'll need to provide values and weights)\n",
        "# weighted_mean = calculate_weighted_mean([10, 20, 30], [0.2, 0.3, 0.5])\n",
        "geometric_mean = calculate_geometric_mean(int_list)\n",
        "harmonic_mean = calculate_harmonic_mean(int_list)\n",
        "midrange = calculate_midrange(int_list)\n",
        "trimmed_mean = calculate_trimmed_mean(int_list, 10)  # Example with 10% trimming\n",
        "\n",
        "print(f\"Mean: {mean}\")\n",
        "print(f\"Median: {median}\")\n",
        "print(f\"Mode: {mode}\")\n",
        "#print(f\"Weighted Mean: {weighted_mean}\")\n",
        "print(f\"Geometric Mean: {geometric_mean}\")\n",
        "print(f\"Harmonic Mean: {harmonic_mean}\")\n",
        "print(f\"Midrange: {midrange}\")\n",
        "print(f\"Trimmed Mean (10%): {trimmed_mean}\")"
      ],
      "metadata": {
        "colab": {
          "base_uri": "https://localhost:8080/"
        },
        "id": "wdgVNzEev3vq",
        "outputId": "d16b744b-9d6e-44f1-def9-a5019e2e84cb"
      },
      "execution_count": null,
      "outputs": [
        {
          "output_type": "stream",
          "name": "stdout",
          "text": [
            "Mean: 110.02\n",
            "Median: 110.0\n",
            "Mode: 107\n",
            "Geometric Mean: 109.35198365366595\n",
            "Harmonic Mean: 108.67699863904595\n",
            "Midrange: 110.0\n",
            "Trimmed Mean (10%): 110.2\n"
          ]
        }
      ]
    },
    {
      "cell_type": "markdown",
      "source": [
        " 2. Generate a list of 500 integers containing values between 200 to 300 and store it in the variable `int_list2`.\n",
        "After generating the list, find the following:\n",
        "\n",
        "\n",
        "  (i) Compare the given list of visualization for the given data:\n",
        "\n",
        "    \n",
        "\n",
        "    1. Frequency & Gaussian distribution\n",
        "\n",
        "    2. Frequency smoothened KDE plot\n",
        "\n",
        "    3. Gaussian distribution & smoothened KDE plot\n",
        "\n",
        "\n",
        "  (ii) Write a Python function to calculate the range of a given list of numbers.\n",
        "\n",
        "\n",
        "  (iii) Create a program to find the variance and standard deviation of a list of numbers.\n",
        "\n",
        "\n",
        "  (iv) Implement a function to compute the interquartile range (IQR) of a list of values.\n",
        "\n",
        "\n",
        "  (v) Build a program to calculate the coefficient of variation for a dataset.\n",
        "\n",
        "  \n",
        "\n",
        "  (vi) Write a Python function to find the mean absolute deviation (MAD) of a list of numbers.\n",
        "\n",
        "\n",
        "  (vii) Create a program to calculate the quartile deviation of a list of values.\n",
        "\n",
        "  \n",
        "\n",
        "  (viii) Implement a function to find the range-based coefficient of dispersion for a dataset."
      ],
      "metadata": {
        "id": "wgBfETl2wL6K"
      }
    },
    {
      "cell_type": "code",
      "source": [
        "import random\n",
        "import math\n",
        "import statistics\n",
        "\n",
        "# Generate a list of 500 random integers between 200 and 300\n",
        "int_list2 = [random.randint(200, 300) for _ in range(500)]\n",
        "\n",
        "# (i) Visualization (requires libraries like matplotlib and seaborn)\n",
        "# This part needs to be executed in an environment with the necessary libraries.\n",
        "# It can't be directly run within this code block without additional setup.\n",
        "# import matplotlib.pyplot as plt\n",
        "# import seaborn as sns\n",
        "# # 1. Frequency and Gaussian distribution\n",
        "# plt.hist(int_list2, bins=30, density=True, alpha=0.6, color='g', label='Frequency')\n",
        "# # Add Gaussian distribution curve (requires mean and standard deviation)\n",
        "# # ...\n",
        "# plt.legend()\n",
        "# plt.show()\n",
        "\n",
        "# # 2. Frequency smoothened KDE plot\n",
        "# sns.kdeplot(int_list2, shade=True)\n",
        "# plt.show()\n",
        "\n",
        "# # 3. Gaussian distribution & smoothened KDE plot\n",
        "# # ...combine the previous plots\n",
        "\n",
        "\n",
        "# (ii) Range\n",
        "def calculate_range(numbers):\n",
        "  return max(numbers) - min(numbers)\n",
        "\n",
        "# (iii) Variance and Standard Deviation\n",
        "def calculate_variance_std(numbers):\n",
        "  variance = statistics.variance(numbers)\n",
        "  std_dev = statistics.stdev(numbers)\n",
        "  return variance, std_dev\n",
        "\n",
        "# (iv) Interquartile Range (IQR)\n",
        "def calculate_iqr(numbers):\n",
        "  return statistics.quantiles(numbers, n=4)[2] - statistics.quantiles(numbers, n=4)[0]\n",
        "\n",
        "# (v) Coefficient of Variation\n",
        "def calculate_coefficient_of_variation(numbers):\n",
        "  std_dev = statistics.stdev(numbers)\n",
        "  mean = statistics.mean(numbers)\n",
        "  if mean == 0:  #Handle potential ZeroDivisionError\n",
        "      return 0\n",
        "  return (std_dev / mean) * 100\n",
        "\n",
        "# (vi) Mean Absolute Deviation (MAD)\n",
        "def calculate_mad(numbers):\n",
        "    return statistics.mean([abs(x - statistics.mean(numbers)) for x in numbers])\n",
        "\n",
        "# (vii) Quartile Deviation\n",
        "def calculate_quartile_deviation(numbers):\n",
        "    q1 = statistics.quantiles(numbers, n=4)[0]\n",
        "    q3 = statistics.quantiles(numbers, n=4)[2]\n",
        "    return (q3 - q1) / 2\n",
        "\n",
        "\n",
        "# (viii) Range-based coefficient of dispersion\n",
        "def calculate_range_coefficient_of_dispersion(numbers):\n",
        "    return (max(numbers) - min(numbers)) / (max(numbers) + min(numbers))\n",
        "\n",
        "# Example Usage\n",
        "range_val = calculate_range(int_list2)\n",
        "variance, std_dev = calculate_variance_std(int_list2)\n",
        "iqr = calculate_iqr(int_list2)\n",
        "cv = calculate_coefficient_of_variation(int_list2)\n",
        "mad = calculate_mad(int_list2)\n",
        "qd = calculate_quartile_deviation(int_list2)\n",
        "rcd = calculate_range_coefficient_of_dispersion(int_list2)\n",
        "\n",
        "\n",
        "print(f\"Range: {range_val}\")\n",
        "print(f\"Variance: {variance}\")\n",
        "print(f\"Standard Deviation: {std_dev}\")\n",
        "print(f\"IQR: {iqr}\")\n",
        "print(f\"Coefficient of Variation: {cv:.2f}%\")\n",
        "print(f\"Mean Absolute Deviation: {mad}\")\n",
        "print(f\"Quartile Deviation: {qd}\")\n",
        "print(f\"Range-based coefficient of dispersion: {rcd}\")"
      ],
      "metadata": {
        "colab": {
          "base_uri": "https://localhost:8080/"
        },
        "id": "oMNawBkZwXp4",
        "outputId": "766e8826-d86a-4ac3-c414-7dd772ea4e8c"
      },
      "execution_count": null,
      "outputs": [
        {
          "output_type": "stream",
          "name": "stdout",
          "text": [
            "Range: 100\n",
            "Variance: 875.7899799599198\n",
            "Standard Deviation: 29.59374900143474\n",
            "IQR: 51.0\n",
            "Coefficient of Variation: 11.93%\n",
            "Mean Absolute Deviation: 25.46256\n",
            "Quartile Deviation: 25.5\n",
            "Range-based coefficient of dispersion: 0.2\n"
          ]
        }
      ]
    },
    {
      "cell_type": "markdown",
      "source": [
        "3.   Write a Python class representing a discrete random variable with methods to calculate its expected\n",
        "value and variance."
      ],
      "metadata": {
        "id": "VL-lT2qywz0K"
      }
    },
    {
      "cell_type": "code",
      "source": [
        "class DiscreteRandomVariable:\n",
        "    def __init__(self, values, probabilities):\n",
        "        \"\"\"\n",
        "        Initializes a DiscreteRandomVariable object.\n",
        "\n",
        "        Args:\n",
        "            values: A list of possible values for the random variable.\n",
        "            probabilities: A list of probabilities corresponding to the values.\n",
        "        \"\"\"\n",
        "        if len(values) != len(probabilities):\n",
        "            raise ValueError(\"Values and probabilities lists must have the same length.\")\n",
        "        if not all(0 <= p <= 1 for p in probabilities):\n",
        "            raise ValueError(\"Probabilities must be between 0 and 1.\")\n",
        "        if not math.isclose(sum(probabilities), 1.0):  # Using math.isclose for floating point comparison\n",
        "            raise ValueError(\"Probabilities must sum up to 1.\")\n",
        "\n",
        "        self.values = values\n",
        "        self.probabilities = probabilities\n",
        "\n",
        "    def expected_value(self):\n",
        "        \"\"\"\n",
        "        Calculates the expected value (mean) of the random variable.\n",
        "        \"\"\"\n",
        "        return sum(value * prob for value, prob in zip(self.values, self.probabilities))\n",
        "\n",
        "    def variance(self):\n",
        "        \"\"\"\n",
        "        Calculates the variance of the random variable.\n",
        "        \"\"\"\n",
        "        e_x = self.expected_value()\n",
        "        return sum((value - e_x)**2 * prob for value, prob in zip(self.values, self.probabilities))\n",
        "\n",
        "    def standard_deviation(self):\n",
        "      \"\"\"\n",
        "      Calculates the standard deviation of the random variable\n",
        "      \"\"\"\n",
        "      return math.sqrt(self.variance())"
      ],
      "metadata": {
        "id": "HlY1lkDJxJJA"
      },
      "execution_count": 1,
      "outputs": []
    },
    {
      "cell_type": "markdown",
      "source": [
        "4. Implement a program to simulate the rolling of a fair six-sided die and calculate the expected value and\n",
        "variance of the outcomes."
      ],
      "metadata": {
        "id": "nAl9uZtdxMtH"
      }
    },
    {
      "cell_type": "code",
      "source": [
        "import random\n",
        "\n",
        "# Simulate rolling a fair six-sided die\n",
        "num_rolls = 10000  # Number of times to roll the die\n",
        "outcomes = [random.randint(1, 6) for _ in range(num_rolls)]\n",
        "\n",
        "# Calculate expected value (theoretical)\n",
        "expected_value_theoretical = sum(range(1, 7)) / 6\n",
        "\n",
        "# Calculate variance (theoretical)\n",
        "variance_theoretical = (sum(i**2 for i in range(1, 7)) / 6) - expected_value_theoretical**2\n",
        "\n",
        "# Calculate expected value and variance (from simulation)\n",
        "expected_value_simulated = sum(outcomes) / len(outcomes)\n",
        "variance_simulated = sum([(x - expected_value_simulated)**2 for x in outcomes]) / len(outcomes)\n",
        "\n",
        "\n",
        "print(\"Theoretical Expected Value:\", expected_value_theoretical)\n",
        "print(\"Simulated Expected Value:\", expected_value_simulated)\n",
        "print(\"Theoretical Variance:\", variance_theoretical)\n",
        "print(\"Simulated Variance:\", variance_simulated)\n",
        "\n",
        "# Using the DiscreteRandomVariable class (from previous code)\n",
        "values = [1, 2, 3, 4, 5, 6]\n",
        "probabilities = [1/6] * 6  # Equal probabilities for a fair die\n",
        "\n",
        "die_rv = DiscreteRandomVariable(values, probabilities)\n",
        "print(\"\\nUsing DiscreteRandomVariable class:\")\n",
        "print(\"Expected Value:\", die_rv.expected_value())\n",
        "print(\"Variance:\", die_rv.variance())\n",
        "print(\"Standard Deviation:\", die_rv.standard_deviation())"
      ],
      "metadata": {
        "colab": {
          "base_uri": "https://localhost:8080/"
        },
        "id": "K8xT5U0PxYsm",
        "outputId": "89ea71e4-81fd-4608-84e2-788f04602187"
      },
      "execution_count": null,
      "outputs": [
        {
          "output_type": "stream",
          "name": "stdout",
          "text": [
            "Theoretical Expected Value: 3.5\n",
            "Simulated Expected Value: 3.4942\n",
            "Theoretical Variance: 2.916666666666666\n",
            "Simulated Variance: 2.9171663600000226\n",
            "\n",
            "Using DiscreteRandomVariable class:\n",
            "Expected Value: 3.5\n",
            "Variance: 2.9166666666666665\n",
            "Standard Deviation: 1.707825127659933\n"
          ]
        }
      ]
    },
    {
      "cell_type": "markdown",
      "source": [
        "5. Create a Python function to generate random samples from a given probability distribution (e.g.,\n",
        "binomial, Poisson) and calculate their mean and variance."
      ],
      "metadata": {
        "id": "zcrmXkXYxioe"
      }
    },
    {
      "cell_type": "code",
      "source": [
        "import random\n",
        "import math\n",
        "import numpy as np  # Import numpy for poisson distribution\n",
        "\n",
        "def generate_samples(distribution, params, num_samples):\n",
        "    \"\"\"\n",
        "    Generates random samples from a specified probability distribution.\n",
        "\n",
        "    Args:\n",
        "        distribution: A string representing the distribution name ('binomial', 'poisson').\n",
        "        params: A dictionary containing the distribution parameters (e.g., n, p for binomial, lambda for Poisson).\n",
        "        num_samples: The number of samples to generate.\n",
        "\n",
        "    Returns:\n",
        "        A list of random samples.\n",
        "    \"\"\"\n",
        "\n",
        "    if distribution == 'binomial':\n",
        "        n = params['n']\n",
        "        p = params['p']\n",
        "        samples = [random.choices([0, 1], weights=[1 - p, p], k=n).count(1) for _ in range(num_samples)]\n",
        "    elif distribution == 'poisson':\n",
        "        lambd = params['lambda']\n",
        "        # Use numpy.random.poisson to generate samples from a Poisson distribution\n",
        "        samples = [np.random.poisson(lambd) for _ in range(num_samples)]\n",
        "    else:\n",
        "        raise ValueError(\"Unsupported distribution.\")\n",
        "    return samples\n",
        "\n",
        "def calculate_mean_variance(samples):\n",
        "    \"\"\"\n",
        "    Calculates the mean and variance of a list of samples.\n",
        "    \"\"\"\n",
        "    n = len(samples)\n",
        "    mean = sum(samples) / n\n",
        "    variance = sum((x - mean)**2 for x in samples) / n\n",
        "    return mean, variance\n",
        "\n",
        "# Example usage:\n",
        "# Generate 1000 samples from a binomial distribution (n=10, p=0.5)\n",
        "binomial_samples = generate_samples('binomial', {'n': 10, 'p': 0.6}, 1000)\n",
        "binomial_mean, binomial_variance = calculate_mean_variance(binomial_samples)\n",
        "\n",
        "print(\"Binomial Distribution:\")\n",
        "print(f\"Mean: {binomial_mean}\")\n",
        "print(f\"Variance: {binomial_variance}\")"
      ],
      "metadata": {
        "colab": {
          "base_uri": "https://localhost:8080/"
        },
        "id": "OHa5lssTQatF",
        "outputId": "1c0b5416-e5ff-478c-82d6-58ba440662ba"
      },
      "execution_count": 10,
      "outputs": [
        {
          "output_type": "stream",
          "name": "stdout",
          "text": [
            "Binomial Distribution:\n",
            "Mean: 6.066\n",
            "Variance: 2.2896439999999942\n"
          ]
        }
      ]
    },
    {
      "cell_type": "markdown",
      "source": [
        "6. Write a Python script to generate random numbers from a Gaussian (normal) distribution and compute\n",
        "the mean, variance, and standard deviation of the samples."
      ],
      "metadata": {
        "id": "FmZDXkVKRBVi"
      }
    },
    {
      "cell_type": "code",
      "source": [
        "import random\n",
        "import math\n",
        "import statistics\n",
        "import numpy as np\n",
        "\n",
        "# Generate random numbers from a Gaussian distribution\n",
        "def generate_gaussian_samples(mean, std_dev, num_samples):\n",
        "    return [random.gauss(mean, std_dev) for _ in range(num_samples)]\n",
        "\n",
        "# Calculate mean, variance, and standard deviation\n",
        "def calculate_stats(data):\n",
        "    mean = statistics.mean(data)\n",
        "    variance = statistics.variance(data)\n",
        "    std_dev = statistics.stdev(data)\n",
        "    return mean, variance, std_dev\n",
        "\n",
        "# Example Usage\n",
        "mu = 0  # Mean of the Gaussian distribution\n",
        "sigma = 1 # Standard deviation of the Gaussian distribution\n",
        "n = 10000 # Number of samples to generate\n",
        "\n",
        "# Generate samples\n",
        "gaussian_samples = generate_gaussian_samples(mu, sigma, n)\n",
        "\n",
        "# Calculate statistics\n",
        "sample_mean, sample_variance, sample_std_dev = calculate_stats(gaussian_samples)\n",
        "\n",
        "print(\"Gaussian Distribution Statistics:\")\n",
        "print(\"Mean:\", sample_mean)\n",
        "print(\"Variance:\", sample_variance)\n",
        "print(\"Standard Deviation:\", sample_std_dev)"
      ],
      "metadata": {
        "colab": {
          "base_uri": "https://localhost:8080/"
        },
        "id": "w3jQQGh5RPhB",
        "outputId": "771b01e1-bc98-4eed-a723-9a3db087ed52"
      },
      "execution_count": 12,
      "outputs": [
        {
          "output_type": "stream",
          "name": "stdout",
          "text": [
            "Gaussian Distribution Statistics:\n",
            "Mean: 0.0042542244069986605\n",
            "Variance: 1.017700418197852\n",
            "Standard Deviation: 1.0088113888125232\n"
          ]
        }
      ]
    },
    {
      "cell_type": "markdown",
      "source": [
        "7. Use seaborn library to load tips dataset. Find the following from the dataset for the columns total_bill\n",
        "and tip`:\n",
        "\n",
        "  \n",
        "\n",
        "  (i) Write a Python function that calculates their skewness.\n",
        "\n",
        "\n",
        "  (ii) Create a program that determines whether the columns exhibit positive skewness, negative skewness, or is\n",
        "approximately symmetric.\n",
        "\n",
        "\n",
        "  (iii) Write a function that calculates the covariance between two columns.\n",
        "\n",
        "\n",
        "  (iv) Implement a Python program that calculates the Pearson correlation coefficient between two columns.\n",
        "\n",
        "\n",
        "  (v) Write a script to visualize the correlation between two specific columns in a Pandas DataFrame using\n",
        "scatter plots."
      ],
      "metadata": {
        "id": "I6ltufUuRUpC"
      }
    },
    {
      "cell_type": "code",
      "source": [
        "import seaborn as sns\n",
        "import pandas as pd\n",
        "import matplotlib.pyplot as plt\n",
        "\n",
        "# Load the tips dataset\n",
        "tips = sns.load_dataset('tips')\n",
        "\n",
        "# (i) Calculate skewness\n",
        "def calculate_skewness(data):\n",
        "    return data.skew()\n",
        "\n",
        "# (ii) Determine skewness type\n",
        "def determine_skewness_type(skewness):\n",
        "    if skewness > 0.5:\n",
        "        return \"Positive skewness\"\n",
        "    elif skewness < -0.5:\n",
        "        return \"Negative skewness\"\n",
        "    else:\n",
        "        return \"Approximately symmetric\"\n",
        "\n",
        "# Calculate skewness for 'total_bill' and 'tip'\n",
        "skewness_total_bill = calculate_skewness(tips['total_bill'])\n",
        "skewness_tip = calculate_skewness(tips['tip'])\n",
        "\n",
        "# Determine skewness type\n",
        "skewness_type_total_bill = determine_skewness_type(skewness_total_bill)\n",
        "skewness_type_tip = determine_skewness_type(skewness_tip)\n",
        "\n",
        "\n",
        "print(f\"Skewness of total_bill: {skewness_total_bill}, Type: {skewness_type_total_bill}\")\n",
        "print(f\"Skewness of tip: {skewness_tip}, Type: {skewness_type_tip}\")\n",
        "\n",
        "\n",
        "# (iii) Calculate covariance\n",
        "def calculate_covariance(data1, data2):\n",
        "    return data1.cov(data2)\n",
        "\n",
        "covariance = calculate_covariance(tips['total_bill'], tips['tip'])\n",
        "print(f\"Covariance between total_bill and tip: {covariance}\")\n",
        "\n",
        "# (iv) Calculate Pearson correlation\n",
        "def calculate_pearson_correlation(data1, data2):\n",
        "  return data1.corr(data2)\n",
        "\n",
        "correlation = calculate_pearson_correlation(tips['total_bill'], tips['tip'])\n",
        "print(f\"Pearson correlation between total_bill and tip: {correlation}\")\n",
        "\n",
        "# (v) Visualize correlation with a scatter plot\n",
        "def visualize_correlation(data1, data2, data1_label, data2_label):\n",
        "    plt.figure(figsize=(8, 6))\n",
        "    plt.scatter(data1, data2, alpha=0.7)  # Use alpha for better visualization if many overlapping points\n",
        "    plt.xlabel(data1_label)\n",
        "    plt.ylabel(data2_label)\n",
        "    plt.title(f\"Correlation between {data1_label} and {data2_label}\")\n",
        "    plt.grid(True)\n",
        "    plt.show()\n",
        "\n",
        "\n",
        "visualize_correlation(tips['total_bill'], tips['tip'], 'Total Bill', 'Tip')"
      ],
      "metadata": {
        "colab": {
          "base_uri": "https://localhost:8080/",
          "height": 633
        },
        "id": "XRmUn2U7RocN",
        "outputId": "76614b95-6bbf-41dd-e116-c8b314beb2f4"
      },
      "execution_count": 13,
      "outputs": [
        {
          "output_type": "stream",
          "name": "stdout",
          "text": [
            "Skewness of total_bill: 1.1332130376158205, Type: Positive skewness\n",
            "Skewness of tip: 1.4654510370979401, Type: Positive skewness\n",
            "Covariance between total_bill and tip: 8.323501629224854\n",
            "Pearson correlation between total_bill and tip: 0.6757341092113641\n"
          ]
        },
        {
          "output_type": "display_data",
          "data": {
            "text/plain": [
              "<Figure size 800x600 with 1 Axes>"
            ],
            "image/png": "[encoded data removed]"
          },
          "metadata": {}
        }
      ]
    },
    {
      "cell_type": "markdown",
      "source": [
        " 8. Write a Python function to calculate the probability density function (PDF) of a continuous random\n",
        "variable for a given normal distribution."
      ],
      "metadata": {
        "id": "Gr03a73VRz3d"
      }
    },
    {
      "cell_type": "code",
      "source": [
        "import math\n",
        "\n",
        "def normal_pdf(x, mu, sigma):\n",
        "    \"\"\"\n",
        "    Calculates the probability density function (PDF) of a normal distribution.\n",
        "\n",
        "    Args:\n",
        "        x: The value at which to evaluate the PDF.\n",
        "        mu: The mean of the normal distribution.\n",
        "        sigma: The standard deviation of the normal distribution.\n",
        "\n",
        "    Returns:\n",
        "        The PDF value at x.\n",
        "    \"\"\"\n",
        "    coefficient = 1 / (sigma * math.sqrt(2 * math.pi))\n",
        "    exponent = -((x - mu)**2) / (2 * sigma**2)\n",
        "    return coefficient * math.exp(exponent)"
      ],
      "metadata": {
        "id": "RDyfjKgBR93v"
      },
      "execution_count": 15,
      "outputs": []
    },
    {
      "cell_type": "markdown",
      "source": [
        "9. Create a program to calculate the cumulative distribution function (CDF) of exponential distribution."
      ],
      "metadata": {
        "id": "my3ybpr9SBV8"
      }
    },
    {
      "cell_type": "code",
      "source": [
        "import math\n",
        "\n",
        "def exponential_cdf(x, lambd):\n",
        "    \"\"\"\n",
        "    Calculates the cumulative distribution function (CDF) of an exponential distribution.\n",
        "\n",
        "    Args:\n",
        "        x: The value at which to evaluate the CDF.\n",
        "        lambd: The rate parameter (lambda) of the exponential distribution.\n",
        "\n",
        "    Returns:\n",
        "        The CDF value at x.\n",
        "    \"\"\"\n",
        "    if x < 0:\n",
        "        return 0\n",
        "    else:\n",
        "        return 1 - math.exp(-lambd * x)"
      ],
      "metadata": {
        "id": "7sKReSpcSMjH"
      },
      "execution_count": 16,
      "outputs": []
    },
    {
      "cell_type": "markdown",
      "source": [
        " 10. Write a Python function to calculate the probability mass function (PMF) of Poisson distribution."
      ],
      "metadata": {
        "id": "sVkCGHqzSPpI"
      }
    },
    {
      "cell_type": "code",
      "source": [
        "def poisson_pmf(k, lambd):\n",
        "    \"\"\"\n",
        "    Calculates the probability mass function (PMF) of a Poisson distribution.\n",
        "\n",
        "    Args:\n",
        "        k: The number of events.\n",
        "        lambd: The average rate of events (lambda).\n",
        "\n",
        "    Returns:\n",
        "        The PMF value at k.\n",
        "    \"\"\"\n",
        "    if k < 0 or not isinstance(k, int):  # Ensure k is a non-negative integer\n",
        "        return 0\n",
        "\n",
        "    return (math.exp(-lambd) * (lambd**k)) / math.factorial(k)"
      ],
      "metadata": {
        "id": "Qb88IpK5SaeS"
      },
      "execution_count": 18,
      "outputs": []
    },
    {
      "cell_type": "markdown",
      "source": [
        "11. A company wants to test if a new website layout leads to a higher conversion rate (percentage of visitors\n",
        "who make a purchase). They collect data from the old and new layouts to compare.\n",
        "\n",
        "\n",
        "To generate the data use the following command:\n",
        "\n",
        "```python\n",
        "\n",
        "import numpy as np\n",
        "\n",
        "# 50 purchases out of 1000 visitors\n",
        "\n",
        "old_layout = np.array([1] * 50 + [0] * 950)\n",
        "\n",
        "# 70 purchases out of 1000 visitors  \n",
        "\n",
        "new_layout = np.array([1] * 70 + [0] * 930)\n",
        "\n",
        "  ```\n",
        "\n",
        "Apply z-test to find which layout is successful."
      ],
      "metadata": {
        "id": "X2AqkJMhSeXN"
      }
    },
    {
      "cell_type": "code",
      "source": [
        "import numpy as np\n",
        "from statsmodels.stats.weightstats import ztest\n",
        "\n",
        "# Generate the data\n",
        "old_layout = np.array([1] * 50 + [0] * 950)\n",
        "new_layout = np.array([1] * 70 + [0] * 930)\n",
        "\n",
        "# Perform the z-test\n",
        "z_statistic, p_value = ztest(old_layout, new_layout)\n",
        "\n",
        "print(f\"Z-statistic: {z_statistic}\")\n",
        "print(f\"P-value: {p_value}\")\n",
        "\n",
        "# Interpret the results\n",
        "alpha = 0.05  # Significance level\n",
        "\n",
        "if p_value < alpha:\n",
        "    print(\"Reject the null hypothesis. There is a statistically significant difference in conversion rates between the old and new layouts.\")\n",
        "    if np.mean(new_layout) > np.mean(old_layout):\n",
        "        print(\"The new layout is likely more successful.\")\n",
        "    else:\n",
        "        print(\"The old layout is likely more successful.\")\n",
        "else:\n",
        "    print(\"Fail to reject the null hypothesis. There is no statistically significant difference in conversion rates.\")"
      ],
      "metadata": {
        "colab": {
          "base_uri": "https://localhost:8080/"
        },
        "id": "TuSLnhUnSq1V",
        "outputId": "0b164d3a-84fc-4fca-ee89-371226b741a3"
      },
      "execution_count": 20,
      "outputs": [
        {
          "output_type": "stream",
          "name": "stdout",
          "text": [
            "Z-statistic: -1.883837962960912\n",
            "P-value: 0.05958689675745177\n",
            "Fail to reject the null hypothesis. There is no statistically significant difference in conversion rates.\n"
          ]
        }
      ]
    },
    {
      "cell_type": "markdown",
      "source": [
        "12. A tutoring service claims that its program improves students' exam scores. A sample of students who\n",
        "participated in the program was taken, and their scores before and after the program were recorded.\n",
        "\n",
        "\n",
        "Use the below code to generate samples of respective arrays of marks:\n",
        "\n",
        "```python\n",
        "\n",
        "before_program = np.array([75, 80, 85, 70, 90, 78, 92, 88, 82, 87])\n",
        "\n",
        "after_program = np.array([80, 85, 90, 80, 92, 80, 95, 90, 85, 88])\n",
        "\n",
        "```\n",
        "\n",
        "Use z-test to find if the claims made by tutor are true or false."
      ],
      "metadata": {
        "id": "uRktW2RGSuj9"
      }
    },
    {
      "cell_type": "code",
      "source": [
        "before_program = np.array([75, 80, 85, 70, 90, 78, 92, 88, 82, 87])\n",
        "after_program = np.array([80, 85, 90, 80, 92, 80, 95, 90, 85, 88])\n",
        "\n",
        "z_statistic, p_value = ztest(before_program, after_program)\n",
        "\n",
        "print(f\"Z-statistic: {z_statistic}\")\n",
        "print(f\"P-value: {p_value}\")\n",
        "\n",
        "alpha = 0.05\n",
        "\n",
        "if p_value < alpha:\n",
        "    print(\"Reject the null hypothesis. The tutoring program likely improves scores.\")\n",
        "else:\n",
        "    print(\"Fail to reject the null hypothesis. There's no significant evidence of improvement.\")\n"
      ],
      "metadata": {
        "colab": {
          "base_uri": "https://localhost:8080/"
        },
        "id": "z3gI-WpzTBGs",
        "outputId": "39f45ed2-8e22-41db-c685-6015a7f396b7"
      },
      "execution_count": 22,
      "outputs": [
        {
          "output_type": "stream",
          "name": "stdout",
          "text": [
            "Z-statistic: -1.3600371723457605\n",
            "P-value: 0.17381816101827674\n",
            "Fail to reject the null hypothesis. There's no significant evidence of improvement.\n"
          ]
        }
      ]
    },
    {
      "cell_type": "markdown",
      "source": [
        "13. A pharmaceutical company wants to determine if a new drug is effective in reducing blood pressure. They\n",
        "conduct a study and record blood pressure measurements before and after administering the drug.\n",
        "\n",
        "\n",
        "Use the below code to generate samples of respective arrays of blood pressure:\n",
        "\n",
        "\n",
        "```python\n",
        "\n",
        "before_drug = np.array([145, 150, 140, 135, 155, 160, 152, 148, 130, 138])\n",
        "\n",
        "after_drug = np.array([130, 140, 132, 128, 145, 148, 138, 136, 125, 130])\n",
        "\n",
        "  ```\n",
        "\n",
        "\n",
        "Implement z-test to find if the drug really works or not."
      ],
      "metadata": {
        "id": "79b51KMxTIF4"
      }
    },
    {
      "cell_type": "code",
      "source": [
        "before_drug = np.array([145, 150, 140, 135, 155, 160, 152, 148, 130, 138])\n",
        "after_drug = np.array([130, 140, 132, 128, 145, 148, 138, 136, 125, 130])\n",
        "\n",
        "z_statistic, p_value = ztest(before_drug, after_drug)\n",
        "\n",
        "print(f\"Z-statistic: {z_statistic}\")\n",
        "print(f\"P-value: {p_value}\")\n",
        "\n",
        "alpha = 0.05\n",
        "\n",
        "if p_value < alpha:\n",
        "    print(\"Reject the null hypothesis. The drug likely reduces blood pressure.\")\n",
        "else:\n",
        "    print(\"Fail to reject the null hypothesis. There's no significant evidence of blood pressure reduction.\")\n",
        ""
      ],
      "metadata": {
        "colab": {
          "base_uri": "https://localhost:8080/"
        },
        "id": "PSrkWvCiTThC",
        "outputId": "4748366a-5998-4c92-8730-030328f5bfa6"
      },
      "execution_count": 23,
      "outputs": [
        {
          "output_type": "stream",
          "name": "stdout",
          "text": [
            "Z-statistic: 2.639577121919447\n",
            "P-value: 0.008300953387191556\n",
            "Reject the null hypothesis. The drug likely reduces blood pressure.\n"
          ]
        }
      ]
    },
    {
      "cell_type": "markdown",
      "source": [
        "14. A customer service department claims that their average response time is less than 5 minutes. A sample\n",
        "of recent customer interactions was taken, and the response times were recorded.\n",
        "\n",
        "\n",
        "Implement the below code to generate the array of response time:\n",
        "\n",
        "```python\n",
        "\n",
        "response_times = np.array([4.3, 3.8, 5.1, 4.9, 4.7, 4.2, 5.2, 4.5, 4.6, 4.4])\n",
        "\n",
        "```\n",
        "\n",
        "Implement z-test to find the claims made by customer service department are tru or false."
      ],
      "metadata": {
        "id": "JvoWDbnATZGs"
      }
    },
    {
      "cell_type": "code",
      "source": [
        "import numpy as np\n",
        "from statsmodels.stats.weightstats import ztest\n",
        "\n",
        "response_times = np.array([4.3, 3.8, 5.1, 4.9, 4.7, 4.2, 5.2, 4.5, 4.6, 4.4])\n",
        "\n",
        "# Null hypothesis: The average response time is 5 minutes.\n",
        "# Alternative hypothesis: The average response time is less than 5 minutes.\n",
        "\n",
        "z_statistic, p_value = ztest(response_times, value=5, alternative='smaller')\n",
        "\n",
        "print(f\"Z-statistic: {z_statistic}\")\n",
        "print(f\"P-value: {p_value}\")\n",
        "\n",
        "alpha = 0.05\n",
        "\n",
        "if p_value < alpha:\n",
        "    print(\"Reject the null hypothesis. The average response time is likely less than 5 minutes.\")\n",
        "else:\n",
        "    print(\"Fail to reject the null hypothesis. There's no significant evidence that the average response time is less than 5 minutes.\")"
      ],
      "metadata": {
        "colab": {
          "base_uri": "https://localhost:8080/"
        },
        "id": "t9M7eRi-TlJq",
        "outputId": "0f67b9fa-fa0c-4d04-86c2-da84f5478003"
      },
      "execution_count": 24,
      "outputs": [
        {
          "output_type": "stream",
          "name": "stdout",
          "text": [
            "Z-statistic: -3.1844572260429627\n",
            "P-value: 0.0007251287113068958\n",
            "Reject the null hypothesis. The average response time is likely less than 5 minutes.\n"
          ]
        }
      ]
    },
    {
      "cell_type": "markdown",
      "source": [
        "15. A company is testing two different website layouts to see which one leads to higher click-through rates.\n",
        "Write a Python function to perform an A/B test analysis, including calculating the t-statistic, degrees of\n",
        "freedom, and p-value.\n",
        "\n",
        "\n",
        "Use the following data:\n",
        "\n",
        "```python\n",
        "\n",
        "layout_a_clicks = [28, 32, 33, 29, 31, 34, 30, 35, 36, 37]\n",
        "\n",
        "layout_b_clicks = [40, 41, 38, 42, 39, 44, 43, 41, 45, 47]"
      ],
      "metadata": {
        "id": "GxZUKBHOTttm"
      }
    },
    {
      "cell_type": "code",
      "source": [
        "import numpy as np\n",
        "from scipy import stats\n",
        "\n",
        "def ab_test(layout_a_clicks, layout_b_clicks):\n",
        "    \"\"\"\n",
        "    Performs an A/B test analysis.\n",
        "\n",
        "    Args:\n",
        "        layout_a_clicks: A list of click-through rates for layout A.\n",
        "        layout_b_clicks: A list of click-through rates for layout B.\n",
        "\n",
        "    Returns:\n",
        "        A dictionary containing the t-statistic, degrees of freedom, and p-value.\n",
        "    \"\"\"\n",
        "\n",
        "    t_statistic, p_value = stats.ttest_ind(layout_a_clicks, layout_b_clicks)\n",
        "    degrees_of_freedom = len(layout_a_clicks) + len(layout_b_clicks) - 2\n",
        "\n",
        "    return {\n",
        "        \"t_statistic\": t_statistic,\n",
        "        \"degrees_of_freedom\": degrees_of_freedom,\n",
        "        \"p_value\": p_value\n",
        "    }\n",
        "\n",
        "layout_a_clicks = [28, 32, 33, 29, 31, 34, 30, 35, 36, 37]\n",
        "layout_b_clicks = [40, 41, 38, 42, 39, 44, 43, 41, 45, 47]\n",
        "\n",
        "results = ab_test(layout_a_clicks, layout_b_clicks)\n",
        "results"
      ],
      "metadata": {
        "colab": {
          "base_uri": "https://localhost:8080/"
        },
        "id": "t4fw-AuFT3MB",
        "outputId": "430de6dd-e342-4e36-ac66-383b738b9307"
      },
      "execution_count": 25,
      "outputs": [
        {
          "output_type": "execute_result",
          "data": {
            "text/plain": [
              "{'t_statistic': -7.298102156175071,\n",
              " 'degrees_of_freedom': 18,\n",
              " 'p_value': 8.833437608301987e-07}"
            ]
          },
          "metadata": {},
          "execution_count": 25
        }
      ]
    },
    {
      "cell_type": "markdown",
      "source": [
        "\n",
        "16. A pharmaceutical company wants to determine if a new drug is more effective than an existing drug in\n",
        "reducing cholesterol levels. Create a program to analyze the clinical trial data and calculate the tstatistic and p-value for the treatment effect.\n",
        "\n",
        "\n",
        "Use the following data of cholestrol level:\n",
        "\n",
        "```python\n",
        "\n",
        "existing_drug_levels = [180, 182, 175, 185, 178, 176, 172, 184, 179, 183]\n",
        "\n",
        "new_drug_levels = [170, 172, 165, 168, 175, 173, 170, 178, 172, 176]"
      ],
      "metadata": {
        "id": "4I-qyyLRT8cW"
      }
    },
    {
      "cell_type": "code",
      "source": [
        "existing_drug_levels = [180, 182, 175, 185, 178, 176, 172, 184, 179, 183]\n",
        "new_drug_levels = [170, 172, 165, 168, 175, 173, 170, 178, 172, 176]\n",
        "\n",
        "t_statistic, p_value = stats.ttest_ind(existing_drug_levels, new_drug_levels)\n",
        "\n",
        "print(f\"t-statistic: {t_statistic}\")\n",
        "print(f\"p-value: {p_value}\")\n"
      ],
      "metadata": {
        "colab": {
          "base_uri": "https://localhost:8080/"
        },
        "id": "2lzpmPnNUHlg",
        "outputId": "387659b0-b75a-46b5-ebb7-2dc42f02bf1c"
      },
      "execution_count": 26,
      "outputs": [
        {
          "output_type": "stream",
          "name": "stdout",
          "text": [
            "t-statistic: 4.14048098620866\n",
            "p-value: 0.0006143398442372505\n"
          ]
        }
      ]
    },
    {
      "cell_type": "markdown",
      "source": [
        "17. A school district introduces an educational intervention program to improve math scores. Write a Python\n",
        "function to analyze pre- and post-intervention test scores, calculating the t-statistic and p-value to\n",
        "determine if the intervention had a significant impact.\n",
        "\n",
        "\n",
        "Use the following data of test score:\n",
        "\n",
        "\n",
        "  ```python\n",
        "\n",
        "  pre_intervention_scores = [80, 85, 90, 75, 88, 82, 92, 78, 85, 87]\n",
        "\n",
        "  post_intervention_scores = [90, 92, 88, 92, 95, 91, 96, 93, 89, 93]"
      ],
      "metadata": {
        "id": "rWGqfm5IUPf9"
      }
    },
    {
      "cell_type": "code",
      "source": [
        "from scipy import stats\n",
        "\n",
        "def analyze_intervention(pre_scores, post_scores):\n",
        "    \"\"\"\n",
        "    Analyzes pre- and post-intervention test scores using a paired t-test.\n",
        "\n",
        "    Args:\n",
        "        pre_scores: A list of pre-intervention scores.\n",
        "        post_scores: A list of post-intervention scores.\n",
        "\n",
        "    Returns:\n",
        "        A dictionary containing the t-statistic and p-value.\n",
        "    \"\"\"\n",
        "    t_statistic, p_value = stats.ttest_rel(pre_scores, post_scores)\n",
        "    return {\"t_statistic\": t_statistic, \"p_value\": p_value}\n",
        "\n",
        "pre_intervention_scores = [80, 85, 90, 75, 88, 82, 92, 78, 85, 87]\n",
        "post_intervention_scores = [90, 92, 88, 92, 95, 91, 96, 93, 89, 93]\n",
        "\n",
        "results = analyze_intervention(pre_intervention_scores, post_intervention_scores)\n",
        "results"
      ],
      "metadata": {
        "colab": {
          "base_uri": "https://localhost:8080/"
        },
        "id": "e3GgY0L3UWX0",
        "outputId": "ececcb5d-d0a7-446c-df5b-d29edc028db3"
      },
      "execution_count": 27,
      "outputs": [
        {
          "output_type": "execute_result",
          "data": {
            "text/plain": [
              "{'t_statistic': -4.42840883965761, 'p_value': 0.0016509548165795493}"
            ]
          },
          "metadata": {},
          "execution_count": 27
        }
      ]
    },
    {
      "cell_type": "markdown",
      "source": [
        "18. An HR department wants to investigate if there's a gender-based salary gap within the company. Develop\n",
        "a program to analyze salary data, calculate the t-statistic, and determine if there's a statistically\n",
        "significant difference between the average salaries of male and female employees.\n",
        "\n",
        "\n",
        "Use the below code to generate synthetic data:\n",
        "\n",
        "\n",
        "```python\n",
        "\n",
        "Generate synthetic salary data for male and female employees\n",
        "\n",
        "np.random.seed(0)  # For reproducibility\n",
        "\n",
        "male_salaries = np.random.normal(loc=50000, scale=10000, size=20)\n",
        "\n",
        "female_salaries = np.random.normal(loc=55000, scale=9000, size=20)"
      ],
      "metadata": {
        "id": "F9xf0hRFUsWW"
      }
    },
    {
      "cell_type": "code",
      "source": [
        "np.random.seed(0)\n",
        "male_salaries = np.random.normal(loc=50000, scale=10000, size=20)\n",
        "female_salaries = np.random.normal(loc=55000, scale=9000, size=20)\n",
        "\n",
        "# Perform t-test\n",
        "t_statistic, p_value = stats.ttest_ind(male_salaries, female_salaries)\n",
        "\n",
        "print(f\"t-statistic: {t_statistic}\")\n",
        "print(f\"p-value: {p_value}\")\n",
        "\n",
        "alpha = 0.05  # Significance level\n",
        "\n",
        "if p_value < alpha:\n",
        "    print(\"There is a statistically significant difference in average salaries between genders.\")\n",
        "else:\n",
        "    print(\"There is no statistically significant difference in average salaries between genders.\")\n",
        ""
      ],
      "metadata": {
        "colab": {
          "base_uri": "https://localhost:8080/"
        },
        "id": "kgcFuXqbUzSB",
        "outputId": "08f8020b-9e2f-4492-e16f-7dabc8946085"
      },
      "execution_count": 28,
      "outputs": [
        {
          "output_type": "stream",
          "name": "stdout",
          "text": [
            "t-statistic: 0.06114208969631383\n",
            "p-value: 0.9515665020676465\n",
            "There is no statistically significant difference in average salaries between genders.\n"
          ]
        }
      ]
    },
    {
      "cell_type": "markdown",
      "source": [
        "19. A manufacturer produces two different versions of a product and wants to compare their quality scores.\n",
        "Create a Python function to analyze quality assessment data, calculate the t-statistic, and decide\n",
        "whether there's a significant difference in quality between the two versions.\n",
        "\n",
        "\n",
        "Use the following data:\n",
        "\n",
        "\n",
        "```python\n",
        "\n",
        "version1_scores = [85, 88, 82, 89, 87, 84, 90, 88, 85, 86, 91, 83, 87, 84, 89, 86, 84, 88, 85, 86, 89, 90, 87, 88, 85]\n",
        "\n",
        "version2_scores = [80, 78, 83, 81, 79, 82, 76, 80, 78, 81, 77, 82, 80, 79, 82, 79, 80, 81, 79, 82, 79, 78, 80, 81, 82]\n",
        "\n"
      ],
      "metadata": {
        "id": "b59fLtmxVFs1"
      }
    },
    {
      "cell_type": "code",
      "source": [
        "from scipy import stats\n",
        "\n",
        "def analyze_product_quality(version1_scores, version2_scores):\n",
        "    \"\"\"\n",
        "    Analyzes quality assessment data and calculates the t-statistic and p-value.\n",
        "\n",
        "    Args:\n",
        "        version1_scores: A list of quality scores for version 1.\n",
        "        version2_scores: A list of quality scores for version 2.\n",
        "\n",
        "    Returns:\n",
        "        A dictionary containing the t-statistic and p-value.\n",
        "    \"\"\"\n",
        "    t_statistic, p_value = stats.ttest_ind(version1_scores, version2_scores)\n",
        "    return {\"t_statistic\": t_statistic, \"p_value\": p_value}\n",
        "\n",
        "version1_scores = [85, 88, 82, 89, 87, 84, 90, 88, 85, 86, 91, 83, 87, 84, 89, 86, 84, 88, 85, 86, 89, 90, 87, 88, 85]\n",
        "version2_scores = [80, 78, 83, 81, 79, 82, 76, 80, 78, 81, 77, 82, 80, 79, 82, 79, 80, 81, 79, 82, 79, 78, 80, 81, 82]\n",
        "\n",
        "results = analyze_product_quality(version1_scores, version2_scores)\n",
        "results"
      ],
      "metadata": {
        "colab": {
          "base_uri": "https://localhost:8080/"
        },
        "id": "5wwEDDt9VXoW",
        "outputId": "bbcd297b-9b37-429a-a1ac-6a61f5f4c6e3"
      },
      "execution_count": 29,
      "outputs": [
        {
          "output_type": "execute_result",
          "data": {
            "text/plain": [
              "{'t_statistic': 11.325830417646698, 'p_value': 3.6824250702873965e-15}"
            ]
          },
          "metadata": {},
          "execution_count": 29
        }
      ]
    },
    {
      "cell_type": "markdown",
      "source": [
        " 20. A restaurant chain collects customer satisfaction scores for two different branches. Write a program to\n",
        "analyze the scores, calculate the t-statistic, and determine if there's a statistically significant difference in\n",
        "customer satisfaction between the branches.\n",
        "\n",
        "\n",
        "Use the below data of scores:\n",
        "\n",
        "  ```python\n",
        "\n",
        "branch_a_scores = [4, 5, 3, 4, 5, 4, 5, 3, 4, 4, 5, 4, 4, 3, 4, 5, 5, 4, 3, 4, 5, 4, 3, 5, 4, 4, 5, 3, 4, 5, 4]\n",
        "\n",
        "branch_b_scores = [3, 4, 2, 3, 4, 3, 4, 2, 3, 3, 4, 3, 3, 2, 3, 4, 4, 3, 2, 3, 4, 3, 2, 4, 3, 3, 4, 2, 3, 4, 3]"
      ],
      "metadata": {
        "id": "izEVIX_zVadp"
      }
    },
    {
      "cell_type": "code",
      "source": [
        "branch_a_scores = [4, 5, 3, 4, 5, 4, 5, 3, 4, 4, 5, 4, 4, 3, 4, 5, 5, 4, 3, 4, 5, 4, 3, 5, 4, 4, 5, 3, 4, 5, 4]\n",
        "branch_b_scores = [3, 4, 2, 3, 4, 3, 4, 2, 3, 3, 4, 3, 3, 2, 3, 4, 4, 3, 2, 3, 4, 3, 2, 4, 3, 3, 4, 2, 3, 4, 3]\n",
        "\n",
        "t_statistic, p_value = stats.ttest_ind(branch_a_scores, branch_b_scores)\n",
        "\n",
        "print(f\"t-statistic: {t_statistic}\")\n",
        "print(f\"p-value: {p_value}\")\n",
        "\n",
        "alpha = 0.05\n",
        "\n",
        "if p_value < alpha:\n",
        "    print(\"There is a statistically significant difference in customer satisfaction between the two branches.\")\n",
        "else:\n",
        "    print(\"There is no statistically significant difference in customer satisfaction between the two branches.\")"
      ],
      "metadata": {
        "colab": {
          "base_uri": "https://localhost:8080/"
        },
        "id": "8CjaZdkSVhDS",
        "outputId": "b4f98123-d1b3-47c5-c6b2-36f248fcb4b7"
      },
      "execution_count": 30,
      "outputs": [
        {
          "output_type": "stream",
          "name": "stdout",
          "text": [
            "t-statistic: 5.480077554195743\n",
            "p-value: 8.895290509945655e-07\n",
            "There is a statistically significant difference in customer satisfaction between the two branches.\n"
          ]
        }
      ]
    },
    {
      "cell_type": "markdown",
      "source": [
        "21. A political analyst wants to determine if there is a significant association between age groups and voter\n",
        "preferences (Candidate A or Candidate B). They collect data from a sample of 500 voters and classify\n",
        "them into different age groups and candidate preferences. Perform a Chi-Square test to determine if\n",
        "there is a significant association between age groups and voter preferences.\n",
        "\n",
        "\n",
        "Use the below code to generate data:\n",
        "\n",
        "```python\n",
        "\n",
        "np.random.seed(0)\n",
        "\n",
        "age_groups = np.random.choice([ 18 30 , 31 50 , 51+', 51+'], size=30)\n",
        "\n",
        "voter_preferences = np.random.choice(['Candidate A', 'Candidate B'], size=30)"
      ],
      "metadata": {
        "id": "wowt5mMwVuEA"
      }
    },
    {
      "cell_type": "code",
      "source": [
        "import numpy as np\n",
        "from scipy.stats import chi2_contingency\n",
        "\n",
        "np.random.seed(0)\n",
        "# Generate synthetic data (replace with actual data if available)\n",
        "age_groups = np.random.choice(['18-30', '31-50', '51+'], size=500)  # Increased sample size to 500\n",
        "voter_preferences = np.random.choice(['Candidate A', 'Candidate B'], size=500)\n",
        "\n",
        "# Create a contingency table\n",
        "contingency_table = pd.crosstab(age_groups, voter_preferences)\n",
        "\n",
        "# Perform Chi-Square test\n",
        "chi2, p, dof, expected = chi2_contingency(contingency_table)\n",
        "\n",
        "print(\"Chi-square statistic:\", chi2)\n",
        "print(\"P-value:\", p)\n",
        "print(\"Degrees of freedom:\", dof)\n",
        "print(\"Expected frequencies:\\n\", expected)\n",
        "\n",
        "\n",
        "alpha = 0.05\n",
        "if p < alpha:\n",
        "    print(\"There is a significant association between age groups and voter preferences.\")\n",
        "else:\n",
        "    print(\"There is no significant association between age groups and voter preferences.\")\n",
        ""
      ],
      "metadata": {
        "colab": {
          "base_uri": "https://localhost:8080/"
        },
        "id": "eWnjLAscV10_",
        "outputId": "d8f8fde9-6445-4769-b35f-1117d4c23ed7"
      },
      "execution_count": 31,
      "outputs": [
        {
          "output_type": "stream",
          "name": "stdout",
          "text": [
            "Chi-square statistic: 0.8779923945254768\n",
            "P-value: 0.6446832311860852\n",
            "Degrees of freedom: 2\n",
            "Expected frequencies:\n",
            " [[96.824 85.176]\n",
            " [89.908 79.092]\n",
            " [79.268 69.732]]\n",
            "There is no significant association between age groups and voter preferences.\n"
          ]
        }
      ]
    },
    {
      "cell_type": "markdown",
      "source": [
        " 22. A company conducted a customer satisfaction survey to determine if there is a significant relationship\n",
        "between product satisfaction levels (Satisfied, Neutral, Dissatisfied) and the region where customers are\n",
        "located (East, West, North, South). The survey data is summarized in a contingency table. Conduct a ChiSquare test to determine if there is a significant relationship between product satisfaction levels and\n",
        "customer regions.\n",
        "\n",
        "\n",
        "Sample data:\n",
        "\n",
        "```python\n",
        "\n",
        "Sample data: Product satisfaction levels (rows) vs. Customer regions (columns)\n",
        "\n",
        "data = np.array([[50, 30, 40, 20], [30, 40, 30, 50], [20, 30, 40, 30]])\n",
        "\n",
        "``"
      ],
      "metadata": {
        "id": "2xhDe6f0V6Lm"
      }
    },
    {
      "cell_type": "code",
      "source": [
        "data = np.array([[50, 30, 40, 20], [30, 40, 30, 50], [20, 30, 40, 30]])\n",
        "\n",
        "chi2, p, dof, expected = chi2_contingency(data)\n",
        "\n",
        "print(\"Chi-square statistic:\", chi2)\n",
        "print(\"P-value:\", p)\n",
        "print(\"Degrees of freedom:\", dof)\n",
        "print(\"Expected frequencies:\\n\", expected)\n",
        "\n",
        "alpha = 0.05\n",
        "if p < alpha:\n",
        "    print(\"There is a significant relationship between product satisfaction and customer regions.\")\n",
        "else:\n",
        "    print(\"There is no significant relationship between product satisfaction and customer regions.\")"
      ],
      "metadata": {
        "colab": {
          "base_uri": "https://localhost:8080/"
        },
        "id": "QlimmNdmWKmA",
        "outputId": "58e7a633-a505-4293-dc07-dc79ec3908b5"
      },
      "execution_count": 32,
      "outputs": [
        {
          "output_type": "stream",
          "name": "stdout",
          "text": [
            "Chi-square statistic: 27.777056277056275\n",
            "P-value: 0.00010349448486004387\n",
            "Degrees of freedom: 6\n",
            "Expected frequencies:\n",
            " [[34.14634146 34.14634146 37.56097561 34.14634146]\n",
            " [36.58536585 36.58536585 40.24390244 36.58536585]\n",
            " [29.26829268 29.26829268 32.19512195 29.26829268]]\n",
            "There is a significant relationship between product satisfaction and customer regions.\n"
          ]
        }
      ]
    },
    {
      "cell_type": "markdown",
      "source": [
        "23. A company implemented an employee training program to improve job performance (Effective, Neutral,\n",
        "Ineffective). After the training, they collected data from a sample of employees and classified them based\n",
        "on their job performance before and after the training. Perform a Chi-Square test to determine if there is a\n",
        "significant difference between job performance levels before and after the training.\n",
        "\n",
        "\n",
        "Sample data:\n",
        "\n",
        "```python\n",
        "\n",
        "Sample data: Job performance levels before (rows) and after (columns) training\n",
        "\n",
        "data = np.array([[50, 30, 20], [30, 40, 30], [20, 30, 40]])"
      ],
      "metadata": {
        "id": "ky7wLTmnWO9o"
      }
    },
    {
      "cell_type": "code",
      "source": [
        "data = np.array([[50, 30, 20], [30, 40, 30], [20, 30, 40]])\n",
        "\n",
        "chi2, p, dof, expected = chi2_contingency(data)\n",
        "\n",
        "print(\"Chi-square statistic:\", chi2)\n",
        "print(\"P-value:\", p)\n",
        "print(\"Degrees of freedom:\", dof)\n",
        "print(\"Expected frequencies:\\n\", expected)\n",
        "\n",
        "alpha = 0.05\n",
        "if p < alpha:\n",
        "    print(\"There is a significant difference in job performance levels before and after training.\")\n",
        "else:\n",
        "    print(\"There is no significant difference in job performance levels before and after training.\")"
      ],
      "metadata": {
        "colab": {
          "base_uri": "https://localhost:8080/"
        },
        "id": "17sJQD-UWcep",
        "outputId": "eca6fda7-756e-4d96-ec2d-2c775b9c37a8"
      },
      "execution_count": 33,
      "outputs": [
        {
          "output_type": "stream",
          "name": "stdout",
          "text": [
            "Chi-square statistic: 22.161728395061726\n",
            "P-value: 0.00018609719479882557\n",
            "Degrees of freedom: 4\n",
            "Expected frequencies:\n",
            " [[34.48275862 34.48275862 31.03448276]\n",
            " [34.48275862 34.48275862 31.03448276]\n",
            " [31.03448276 31.03448276 27.93103448]]\n",
            "There is a significant difference in job performance levels before and after training.\n"
          ]
        }
      ]
    },
    {
      "cell_type": "markdown",
      "source": [
        " 24. A company produces three different versions of a product: Standard, Premium, and Deluxe. The\n",
        "company wants to determine if there is a significant difference in customer satisfaction scores among the\n",
        "three product versions. They conducted a survey and collected customer satisfaction scores for each\n",
        "version from a random sample of customers. Perform an ANOVA test to determine if there is a significant\n",
        "difference in customer satisfaction scores.\n",
        "\n",
        "\n",
        "  Use the following data:\n",
        "\n",
        "  ```python\n",
        "\n",
        " Sample data: Customer satisfaction scores for each product version\n",
        "\n",
        "  standard_scores = [80, 85, 90, 78, 88, 82, 92, 78, 85, 87]\n",
        "\n",
        "  premium_scores = [90, 92, 88, 92, 95, 91, 96, 93, 89, 93]\n",
        "\n",
        "  deluxe_scores = [95, 98, 92, 97, 96, 94, 98, 97, 92, 99]"
      ],
      "metadata": {
        "id": "SQhIgcZbWlHc"
      }
    },
    {
      "cell_type": "code",
      "source": [
        "from scipy import stats\n",
        "\n",
        "standard_scores = [80, 85, 90, 78, 88, 82, 92, 78, 85, 87]\n",
        "premium_scores = [90, 92, 88, 92, 95, 91, 96, 93, 89, 93]\n",
        "deluxe_scores = [95, 98, 92, 97, 96, 94, 98, 97, 92, 99]\n",
        "\n",
        "f_statistic, p_value = stats.f_oneway(standard_scores, premium_scores, deluxe_scores)\n",
        "\n",
        "print(f\"F-statistic: {f_statistic}\")\n",
        "print(f\"P-value: {p_value}\")\n",
        "\n",
        "alpha = 0.05\n",
        "\n",
        "if p_value < alpha:\n",
        "    print(\"There is a significant difference in customer satisfaction scores among the three product versions.\")\n",
        "else:\n",
        "    print(\"There is no significant difference in customer satisfaction scores among the three product versions.\")\n",
        ""
      ],
      "metadata": {
        "colab": {
          "base_uri": "https://localhost:8080/"
        },
        "id": "yFg8zLamWwt8",
        "outputId": "824c96bc-cf3d-4568-c8d1-b44373ba6ba2"
      },
      "execution_count": 34,
      "outputs": [
        {
          "output_type": "stream",
          "name": "stdout",
          "text": [
            "F-statistic: 27.03556231003039\n",
            "P-value: 3.5786328857349003e-07\n",
            "There is a significant difference in customer satisfaction scores among the three product versions.\n"
          ]
        }
      ]
    }
  ]
}